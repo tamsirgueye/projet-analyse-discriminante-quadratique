{
 "cells": [
  {
   "cell_type": "markdown",
   "id": "b2329091-9499-407a-8330-7151c46b3440",
   "metadata": {},
   "source": [
    "# GROUPE 5\n",
    "<ul>\n",
    "    <li>Tamsir Gueye</li>\n",
    "    <li>Bineta Faye</li>\n",
    "    <li>Malang Coulibaly</li>\n",
    "</ul>"
   ]
  },
  {
   "cell_type": "markdown",
   "id": "d98a89f9-8a4d-4d11-ad37-41875c57d18f",
   "metadata": {
    "jp-MarkdownHeadingCollapsed": true,
    "tags": []
   },
   "source": [
    "# Introduction\n",
    "<div style=\"font-size: 1rem;\">\n",
    "L’analyse factorielle discriminante ou analyse discriminante est une technique statistique qui vise à décrire, expliquer et prédire l’appartenance à des groupes prédéfinis (classes, modalités de la variable à prédire, ...) d’un ensemble d’observations (individus, exemples, ...) à partir d’une série de variables prédictives (descripteurs, variables exogènes, ...).<br>\n",
    "    <div style=\"margin-top: 1.5rem;\">L’analyse discriminante est utilisée dans de nombreux domaines :</div>\n",
    "    <ul>\n",
    "        <li>En médecine, par exemple pour détecter les groupes à hauts risques cardiaques à partir de caractéristiques telles que l’alimentation, le fait de fumer ou pas, les antécédents familiaux, etc.</li>\n",
    "        <li>Dans le domaine bancaire, lorsque l’on veut évaluer la fiabilité d’un demandeur de crédit à partir de ses revenus, du nombre de personnes à charge, des encours de crédits qu’il détient, etc.</li>\n",
    "        <li>En biologie, lorsque l’on veut affecter un objet à sa famille d’appartenance à partir de ses caractéristiques physiques. Les iris de Sir Ronald Fisher -- qui est à l'origine de cette méthode—en est un exemple très fameux, il s’agit de reconnaître le type d’iris (setosa, virginica, et versicolor) à partir de la longueur/largeur de ses pétales et sépales.</li>\n",
    "    </ul>\n",
    "    On distingue l'<u>analyse discriminante linéaire</u> et l'<u>analyse discriminante quadratique</u>.\n",
    "    Dans ce projet nous nous intéressons particulièrement à l'<strong>analyse discriminante quadratique</strong>.\n",
    "</div>"
   ]
  },
  {
   "cell_type": "markdown",
   "id": "e908fd8c",
   "metadata": {},
   "source": [
    "# Définition\n",
    "<strong><u>QDA:</u></strong> Quadratic Discriminant Analysis\n",
    "<div style=\"padding-left: 1.2rem;\">L'analyse discriminante quadratique est utilisée dans la situation où les matrices de\n",
    "variance-covariances intra-groupes ne sont pas identiques pour tous les groupes, \n",
    "Ainsi, une fonction quadratique (ellipse, parabole) serait plus robuste pour la discrimination des\n",
    "groupes d'où l'analyse discriminante quadratique.\n",
    "Contrairement à la distance linéaire, la distance quadratique n'est pas symétrique\n",
    "Cependant, l'ADQ ne fonctionne pas bien lorsque les densités de probabilités des groupes sont \n",
    "très différentes de la densité d'une distribution gaussienne.</div>"
   ]
  },
  {
   "cell_type": "markdown",
   "id": "4c4a2675",
   "metadata": {
    "id": "HdPjBTFdkI7t"
   },
   "source": [
    "# Importation des librairies"
   ]
  },
  {
   "cell_type": "code",
   "execution_count": 1,
   "id": "f628f7d6",
   "metadata": {
    "id": "8IWFJK2h22yc"
   },
   "outputs": [],
   "source": [
    "import pandas as pd\n",
    "import numpy as np\n",
    "import seaborn as sns\n",
    "import matplotlib.pyplot as plt\n",
    "\n",
    "\n",
    "from sklearn.model_selection import train_test_split\n",
    "from sklearn.metrics import accuracy_score\n"
   ]
  },
  {
   "cell_type": "markdown",
   "id": "fa64c938",
   "metadata": {
    "id": "9SyQadB9iY8R"
   },
   "source": [
    "### 1. Chargement des donnees"
   ]
  },
  {
   "cell_type": "markdown",
   "id": "37a27bce",
   "metadata": {
    "id": "48S6RVt_jXwp"
   },
   "source": [
    "Les données utilisées sont celles de l'inclusion financiére en Afrique.\n",
    "Notre objectif est de predire qui en Afrique est le plus susceptible d'avoir un compte banquaire avec le modéle QDA"
   ]
  },
  {
   "cell_type": "code",
   "execution_count": 2,
   "id": "bbcd57dd",
   "metadata": {
    "id": "MQCvC_XjDzyH"
   },
   "outputs": [],
   "source": [
    "#Chargement des donnees dans un dataframe\n",
    "train = pd.read_csv('Train.csv')\n",
    "test = pd.read_csv('Test.csv')\n",
    "ss = pd.read_csv('SampleSubmission.csv')\n",
    "variables = pd.read_csv('VariableDefinitions.csv')"
   ]
  },
  {
   "cell_type": "code",
   "execution_count": 3,
   "id": "d424ac18",
   "metadata": {
    "colab": {
     "base_uri": "https://localhost:8080/"
    },
    "id": "O6xUUoJMaRrc",
    "outputId": "37fa6d78-0297-4468-85e2-68e658ab6d7b"
   },
   "outputs": [
    {
     "name": "stdout",
     "output_type": "stream",
     "text": [
      "donnees train : (23524, 13)\n",
      "donnes test : (10086, 12)\n"
     ]
    }
   ],
   "source": [
    "#Affichage des dimensions\n",
    "print('donnees train :', train.shape)\n",
    "print('donnes test :', test.shape)"
   ]
  },
  {
   "cell_type": "markdown",
   "id": "5f59aaa7",
   "metadata": {
    "id": "22JNEkmQbMvR"
   },
   "source": [
    "La sortie ci-dessus montre le nombre de lignes et de colonnes pour l'ensemble de données d'entraînement(train) et de test. Nous avons 13 variables dans le jeu de données train, 12 variables indépendantes et 1 variable dépendante.\n",
    "Dans l'ensemble de données de test, nous avons 12 variables indépendantes.\n",
    "Nous pouvons observer les cinq premières lignes de notre ensemble de données en utilisant la méthode head() de la bibliothèque pandas."
   ]
  },
  {
   "cell_type": "code",
   "execution_count": 4,
   "id": "4dc08c0c",
   "metadata": {
    "colab": {
     "base_uri": "https://localhost:8080/",
     "height": 330
    },
    "id": "0p3FUgRYasI-",
    "outputId": "74d606e0-a4d3-47a7-c1f2-249bff16639e"
   },
   "outputs": [
    {
     "data": {
      "text/html": [
       "<div>\n",
       "<style scoped>\n",
       "    .dataframe tbody tr th:only-of-type {\n",
       "        vertical-align: middle;\n",
       "    }\n",
       "\n",
       "    .dataframe tbody tr th {\n",
       "        vertical-align: top;\n",
       "    }\n",
       "\n",
       "    .dataframe thead th {\n",
       "        text-align: right;\n",
       "    }\n",
       "</style>\n",
       "<table border=\"1\" class=\"dataframe\">\n",
       "  <thead>\n",
       "    <tr style=\"text-align: right;\">\n",
       "      <th></th>\n",
       "      <th>country</th>\n",
       "      <th>year</th>\n",
       "      <th>uniqueid</th>\n",
       "      <th>bank_account</th>\n",
       "      <th>location_type</th>\n",
       "      <th>cellphone_access</th>\n",
       "      <th>household_size</th>\n",
       "      <th>age_of_respondent</th>\n",
       "      <th>gender_of_respondent</th>\n",
       "      <th>relationship_with_head</th>\n",
       "      <th>marital_status</th>\n",
       "      <th>education_level</th>\n",
       "      <th>job_type</th>\n",
       "    </tr>\n",
       "  </thead>\n",
       "  <tbody>\n",
       "    <tr>\n",
       "      <th>0</th>\n",
       "      <td>Kenya</td>\n",
       "      <td>2018</td>\n",
       "      <td>uniqueid_1</td>\n",
       "      <td>Yes</td>\n",
       "      <td>Rural</td>\n",
       "      <td>Yes</td>\n",
       "      <td>3</td>\n",
       "      <td>24</td>\n",
       "      <td>Female</td>\n",
       "      <td>Spouse</td>\n",
       "      <td>Married/Living together</td>\n",
       "      <td>Secondary education</td>\n",
       "      <td>Self employed</td>\n",
       "    </tr>\n",
       "    <tr>\n",
       "      <th>1</th>\n",
       "      <td>Kenya</td>\n",
       "      <td>2018</td>\n",
       "      <td>uniqueid_2</td>\n",
       "      <td>No</td>\n",
       "      <td>Rural</td>\n",
       "      <td>No</td>\n",
       "      <td>5</td>\n",
       "      <td>70</td>\n",
       "      <td>Female</td>\n",
       "      <td>Head of Household</td>\n",
       "      <td>Widowed</td>\n",
       "      <td>No formal education</td>\n",
       "      <td>Government Dependent</td>\n",
       "    </tr>\n",
       "    <tr>\n",
       "      <th>2</th>\n",
       "      <td>Kenya</td>\n",
       "      <td>2018</td>\n",
       "      <td>uniqueid_3</td>\n",
       "      <td>Yes</td>\n",
       "      <td>Urban</td>\n",
       "      <td>Yes</td>\n",
       "      <td>5</td>\n",
       "      <td>26</td>\n",
       "      <td>Male</td>\n",
       "      <td>Other relative</td>\n",
       "      <td>Single/Never Married</td>\n",
       "      <td>Vocational/Specialised training</td>\n",
       "      <td>Self employed</td>\n",
       "    </tr>\n",
       "    <tr>\n",
       "      <th>3</th>\n",
       "      <td>Kenya</td>\n",
       "      <td>2018</td>\n",
       "      <td>uniqueid_4</td>\n",
       "      <td>No</td>\n",
       "      <td>Rural</td>\n",
       "      <td>Yes</td>\n",
       "      <td>5</td>\n",
       "      <td>34</td>\n",
       "      <td>Female</td>\n",
       "      <td>Head of Household</td>\n",
       "      <td>Married/Living together</td>\n",
       "      <td>Primary education</td>\n",
       "      <td>Formally employed Private</td>\n",
       "    </tr>\n",
       "    <tr>\n",
       "      <th>4</th>\n",
       "      <td>Kenya</td>\n",
       "      <td>2018</td>\n",
       "      <td>uniqueid_5</td>\n",
       "      <td>No</td>\n",
       "      <td>Urban</td>\n",
       "      <td>No</td>\n",
       "      <td>8</td>\n",
       "      <td>26</td>\n",
       "      <td>Male</td>\n",
       "      <td>Child</td>\n",
       "      <td>Single/Never Married</td>\n",
       "      <td>Primary education</td>\n",
       "      <td>Informally employed</td>\n",
       "    </tr>\n",
       "  </tbody>\n",
       "</table>\n",
       "</div>"
      ],
      "text/plain": [
       "  country  year    uniqueid bank_account location_type cellphone_access  \\\n",
       "0   Kenya  2018  uniqueid_1          Yes         Rural              Yes   \n",
       "1   Kenya  2018  uniqueid_2           No         Rural               No   \n",
       "2   Kenya  2018  uniqueid_3          Yes         Urban              Yes   \n",
       "3   Kenya  2018  uniqueid_4           No         Rural              Yes   \n",
       "4   Kenya  2018  uniqueid_5           No         Urban               No   \n",
       "\n",
       "   household_size  age_of_respondent gender_of_respondent  \\\n",
       "0               3                 24               Female   \n",
       "1               5                 70               Female   \n",
       "2               5                 26                 Male   \n",
       "3               5                 34               Female   \n",
       "4               8                 26                 Male   \n",
       "\n",
       "  relationship_with_head           marital_status  \\\n",
       "0                 Spouse  Married/Living together   \n",
       "1      Head of Household                  Widowed   \n",
       "2         Other relative     Single/Never Married   \n",
       "3      Head of Household  Married/Living together   \n",
       "4                  Child     Single/Never Married   \n",
       "\n",
       "                   education_level                   job_type  \n",
       "0              Secondary education              Self employed  \n",
       "1              No formal education       Government Dependent  \n",
       "2  Vocational/Specialised training              Self employed  \n",
       "3                Primary education  Formally employed Private  \n",
       "4                Primary education        Informally employed  "
      ]
     },
     "execution_count": 4,
     "metadata": {},
     "output_type": "execute_result"
    }
   ],
   "source": [
    "# Voir les donnees du train\n",
    "train.head()"
   ]
  },
  {
   "cell_type": "markdown",
   "id": "35566e5b",
   "metadata": {},
   "source": [
    "# Preprocessing, Normalisation des données"
   ]
  },
  {
   "cell_type": "code",
   "execution_count": 5,
   "id": "02bba221",
   "metadata": {
    "colab": {
     "base_uri": "https://localhost:8080/"
    },
    "id": "R1T_QbjNj0Dq",
    "outputId": "4f65aae1-c7d4-4546-ce33-15d40dd45585"
   },
   "outputs": [
    {
     "name": "stdout",
     "output_type": "stream",
     "text": [
      "valeurs manquantes: country                   0\n",
      "year                      0\n",
      "uniqueid                  0\n",
      "bank_account              0\n",
      "location_type             0\n",
      "cellphone_access          0\n",
      "household_size            0\n",
      "age_of_respondent         0\n",
      "gender_of_respondent      0\n",
      "relationship_with_head    0\n",
      "marital_status            0\n",
      "education_level           0\n",
      "job_type                  0\n",
      "dtype: int64\n"
     ]
    }
   ],
   "source": [
    "# Verification des valeurs manquantes\n",
    "print('valeurs manquantes:', train.isnull().sum())"
   ]
  },
  {
   "cell_type": "markdown",
   "id": "eb3876fa",
   "metadata": {
    "id": "ID5N0vHTj3-F"
   },
   "source": [
    "On a pas eu de donnees manquantes\n"
   ]
  },
  {
   "cell_type": "code",
   "execution_count": 6,
   "id": "0e5eda02",
   "metadata": {
    "colab": {
     "base_uri": "https://localhost:8080/"
    },
    "id": "1otwZnE8bGns",
    "outputId": "d1761519-086f-4ffc-9f2e-e968611fe91c"
   },
   "outputs": [
    {
     "name": "stdout",
     "output_type": "stream",
     "text": [
      "<class 'pandas.core.frame.DataFrame'>\n",
      "RangeIndex: 23524 entries, 0 to 23523\n",
      "Data columns (total 13 columns):\n",
      " #   Column                  Non-Null Count  Dtype \n",
      "---  ------                  --------------  ----- \n",
      " 0   country                 23524 non-null  object\n",
      " 1   year                    23524 non-null  int64 \n",
      " 2   uniqueid                23524 non-null  object\n",
      " 3   bank_account            23524 non-null  object\n",
      " 4   location_type           23524 non-null  object\n",
      " 5   cellphone_access        23524 non-null  object\n",
      " 6   household_size          23524 non-null  int64 \n",
      " 7   age_of_respondent       23524 non-null  int64 \n",
      " 8   gender_of_respondent    23524 non-null  object\n",
      " 9   relationship_with_head  23524 non-null  object\n",
      " 10  marital_status          23524 non-null  object\n",
      " 11  education_level         23524 non-null  object\n",
      " 12  job_type                23524 non-null  object\n",
      "dtypes: int64(3), object(10)\n",
      "memory usage: 2.3+ MB\n",
      "None\n"
     ]
    }
   ],
   "source": [
    " #Voir les informations\n",
    " print(train.info())"
   ]
  },
  {
   "cell_type": "markdown",
   "id": "6ea0d66f",
   "metadata": {
    "id": "8UOB8QG_bi_B"
   },
   "source": [
    "La fonction info() permet d'afficher la liste des variables/caractéristiques, les tailles, si elle contient des valeurs manquantes et le type de données pour chaque variable.\n",
    "À partir de l'ensemble de données, nous n'avons aucune valeur manquante et nous avons 3 caractéristiques de type de données entier et 10 caractéristiques de type de données objet.\n"
   ]
  },
  {
   "cell_type": "code",
   "execution_count": 7,
   "id": "c038ae30",
   "metadata": {},
   "outputs": [
    {
     "data": {
      "text/html": [
       "<div>\n",
       "<style scoped>\n",
       "    .dataframe tbody tr th:only-of-type {\n",
       "        vertical-align: middle;\n",
       "    }\n",
       "\n",
       "    .dataframe tbody tr th {\n",
       "        vertical-align: top;\n",
       "    }\n",
       "\n",
       "    .dataframe thead th {\n",
       "        text-align: right;\n",
       "    }\n",
       "</style>\n",
       "<table border=\"1\" class=\"dataframe\">\n",
       "  <thead>\n",
       "    <tr style=\"text-align: right;\">\n",
       "      <th></th>\n",
       "      <th>Variable Definitions</th>\n",
       "      <th>Unnamed: 1</th>\n",
       "    </tr>\n",
       "  </thead>\n",
       "  <tbody>\n",
       "    <tr>\n",
       "      <th>0</th>\n",
       "      <td>country</td>\n",
       "      <td>Country interviewee is in.</td>\n",
       "    </tr>\n",
       "    <tr>\n",
       "      <th>1</th>\n",
       "      <td>year</td>\n",
       "      <td>Year survey was done in.</td>\n",
       "    </tr>\n",
       "    <tr>\n",
       "      <th>2</th>\n",
       "      <td>uniqueid</td>\n",
       "      <td>Unique identifier for each interviewee</td>\n",
       "    </tr>\n",
       "    <tr>\n",
       "      <th>3</th>\n",
       "      <td>location_type</td>\n",
       "      <td>Type of location: Rural, Urban</td>\n",
       "    </tr>\n",
       "    <tr>\n",
       "      <th>4</th>\n",
       "      <td>cellphone_access</td>\n",
       "      <td>If interviewee has access to a cellphone: Yes, No</td>\n",
       "    </tr>\n",
       "    <tr>\n",
       "      <th>5</th>\n",
       "      <td>household_size</td>\n",
       "      <td>Number of people living in one house</td>\n",
       "    </tr>\n",
       "    <tr>\n",
       "      <th>6</th>\n",
       "      <td>age_of_respondent</td>\n",
       "      <td>The age of the interviewee</td>\n",
       "    </tr>\n",
       "    <tr>\n",
       "      <th>7</th>\n",
       "      <td>gender_of_respondent</td>\n",
       "      <td>Gender of interviewee: Male, Female</td>\n",
       "    </tr>\n",
       "    <tr>\n",
       "      <th>8</th>\n",
       "      <td>relationship_with_head</td>\n",
       "      <td>The interviewee’s relationship with the head o...</td>\n",
       "    </tr>\n",
       "    <tr>\n",
       "      <th>9</th>\n",
       "      <td>marital_status</td>\n",
       "      <td>The martial status of the interviewee: Married...</td>\n",
       "    </tr>\n",
       "    <tr>\n",
       "      <th>10</th>\n",
       "      <td>education_level</td>\n",
       "      <td>Highest level of education: No formal educatio...</td>\n",
       "    </tr>\n",
       "    <tr>\n",
       "      <th>11</th>\n",
       "      <td>job_type</td>\n",
       "      <td>Type of job interviewee has: Farming and Fishi...</td>\n",
       "    </tr>\n",
       "  </tbody>\n",
       "</table>\n",
       "</div>"
      ],
      "text/plain": [
       "      Variable Definitions                                         Unnamed: 1\n",
       "0                  country                         Country interviewee is in.\n",
       "1                     year                           Year survey was done in.\n",
       "2                 uniqueid             Unique identifier for each interviewee\n",
       "3            location_type                     Type of location: Rural, Urban\n",
       "4         cellphone_access  If interviewee has access to a cellphone: Yes, No\n",
       "5           household_size               Number of people living in one house\n",
       "6        age_of_respondent                         The age of the interviewee\n",
       "7     gender_of_respondent                Gender of interviewee: Male, Female\n",
       "8   relationship_with_head  The interviewee’s relationship with the head o...\n",
       "9           marital_status  The martial status of the interviewee: Married...\n",
       "10         education_level  Highest level of education: No formal educatio...\n",
       "11                job_type  Type of job interviewee has: Farming and Fishi..."
      ]
     },
     "execution_count": 7,
     "metadata": {},
     "output_type": "execute_result"
    }
   ],
   "source": [
    "#Voir la liste compléte des variables et leurs définitions\n",
    "variables"
   ]
  },
  {
   "cell_type": "code",
   "execution_count": 8,
   "id": "1f2bf8ca",
   "metadata": {},
   "outputs": [
    {
     "data": {
      "text/html": [
       "<div>\n",
       "<style scoped>\n",
       "    .dataframe tbody tr th:only-of-type {\n",
       "        vertical-align: middle;\n",
       "    }\n",
       "\n",
       "    .dataframe tbody tr th {\n",
       "        vertical-align: top;\n",
       "    }\n",
       "\n",
       "    .dataframe thead th {\n",
       "        text-align: right;\n",
       "    }\n",
       "</style>\n",
       "<table border=\"1\" class=\"dataframe\">\n",
       "  <thead>\n",
       "    <tr style=\"text-align: right;\">\n",
       "      <th></th>\n",
       "      <th>unique_id</th>\n",
       "      <th>bank_account</th>\n",
       "    </tr>\n",
       "  </thead>\n",
       "  <tbody>\n",
       "    <tr>\n",
       "      <th>0</th>\n",
       "      <td>uniqueid_1 x Kenya</td>\n",
       "      <td>0</td>\n",
       "    </tr>\n",
       "    <tr>\n",
       "      <th>1</th>\n",
       "      <td>uniqueid_2 x Kenya</td>\n",
       "      <td>0</td>\n",
       "    </tr>\n",
       "    <tr>\n",
       "      <th>2</th>\n",
       "      <td>uniqueid_3 x Kenya</td>\n",
       "      <td>0</td>\n",
       "    </tr>\n",
       "    <tr>\n",
       "      <th>3</th>\n",
       "      <td>uniqueid_4 x Kenya</td>\n",
       "      <td>0</td>\n",
       "    </tr>\n",
       "    <tr>\n",
       "      <th>4</th>\n",
       "      <td>uniqueid_5 x Kenya</td>\n",
       "      <td>0</td>\n",
       "    </tr>\n",
       "  </tbody>\n",
       "</table>\n",
       "</div>"
      ],
      "text/plain": [
       "            unique_id  bank_account\n",
       "0  uniqueid_1 x Kenya             0\n",
       "1  uniqueid_2 x Kenya             0\n",
       "2  uniqueid_3 x Kenya             0\n",
       "3  uniqueid_4 x Kenya             0\n",
       "4  uniqueid_5 x Kenya             0"
      ]
     },
     "execution_count": 8,
     "metadata": {},
     "output_type": "execute_result"
    }
   ],
   "source": [
    "#Voir les données de SampleSubmission ou soumission\n",
    "ss.head()"
   ]
  },
  {
   "cell_type": "markdown",
   "id": "5a3aae99",
   "metadata": {},
   "source": [
    "On observe le format de soumission avec la colonne id comme données test et \n",
    "la colonne cible (bank_account) permettant de faire la prediction"
   ]
  },
  {
   "cell_type": "markdown",
   "id": "b468043d",
   "metadata": {},
   "source": [
    "On a des variables categorielles, on doit les transformer en données numériques avant de faire\n",
    "la separation"
   ]
  },
  {
   "cell_type": "code",
   "execution_count": 9,
   "id": "5d3b3bc6",
   "metadata": {
    "colab": {
     "base_uri": "https://localhost:8080/",
     "height": 386
    },
    "id": "QW4mlprHj-Ir",
    "outputId": "6089fa03-6eb3-4117-f694-b4b901bd57c0"
   },
   "outputs": [
    {
     "data": {
      "text/plain": [
       "<seaborn.axisgrid.FacetGrid at 0x18be6d3fd00>"
      ]
     },
     "execution_count": 9,
     "metadata": {},
     "output_type": "execute_result"
    },
    {
     "data": {
      "image/png": "[encoded data removed]",
      "text/plain": [
       "<Figure size 360x360 with 1 Axes>"
      ]
     },
     "metadata": {
      "needs_background": "light"
     },
     "output_type": "display_data"
    }
   ],
   "source": [
    "# Exploration de la distribution cible \n",
    "sns.catplot(x=\"bank_account\", kind=\"count\", data=train)"
   ]
  },
  {
   "cell_type": "code",
   "execution_count": 10,
   "id": "26ff860e",
   "metadata": {
    "colab": {
     "base_uri": "https://localhost:8080/"
    },
    "id": "KDu51_TBceft",
    "outputId": "bc1a4302-34e9-4107-8a69-00d59e1f77d4"
   },
   "outputs": [
    {
     "name": "stdout",
     "output_type": "stream",
     "text": [
      "0        1\n",
      "1        0\n",
      "2        1\n",
      "3        0\n",
      "4        0\n",
      "        ..\n",
      "23519    0\n",
      "23520    0\n",
      "23521    0\n",
      "23522    0\n",
      "23523    0\n",
      "Name: bank_account, Length: 23524, dtype: int32\n"
     ]
    }
   ],
   "source": [
    "#importation en faisant appel à la classe LabelEncoder() et MinMaxScaler de la bibliotheque preprocessing\n",
    "from sklearn.preprocessing import LabelEncoder\n",
    "from sklearn.preprocessing import MinMaxScaler\n",
    "\n",
    "# Transformation des données categorielles en données numériques\n",
    "le = LabelEncoder()\n",
    "train['bank_account'] = le.fit_transform(train['bank_account'])\n",
    "\n",
    "#Separation de X_train et y_train\n",
    "X_train = train.drop(['bank_account'], axis=1)\n",
    "y = train['bank_account']\n",
    "\n",
    "print(y)"
   ]
  },
  {
   "cell_type": "markdown",
   "id": "ce40dcb5",
   "metadata": {
    "id": "Dance7rnc2a1"
   },
   "source": [
    "On observe que les valeurs cibles ont été transformées en types de données numériques, 1 représente \"Oui\" et 0 représente \"Non\".\n",
    "On a créé une fonction de prétraitement simple pour :\n",
    "Gérer la conversion des types de données;\n",
    "Convertir les caractéristiques catégorielles en caractéristiques numériques à l'aide de l'encodeur à chaud et de l'encodeur d'étiquettes;\n",
    "Supprimer la variable d'ID unique;\n",
    "Effectuer la mise à l'échelle des fonctionnalités.\n",
    "La fonction de traitement sera utilisée à la fois pour l'apprentissage et le test des variables indépendantes."
   ]
  },
  {
   "cell_type": "markdown",
   "id": "53d5c42c-67e4-4ae8-b48d-b6fa1a956419",
   "metadata": {},
   "source": [
    "# Conversion des données train"
   ]
  },
  {
   "cell_type": "code",
   "execution_count": 11,
   "id": "20d6757d",
   "metadata": {
    "id": "5nLXAW5hdYOk"
   },
   "outputs": [],
   "source": [
    "# fonction de préparation et de transformation des données\n",
    "def preprocessing_data(data):\n",
    "\n",
    "    # Conversion des entiers en float\n",
    "    float_array = data[[\"household_size\", \"age_of_respondent\", \"year\"]].values.astype(float)\n",
    "    \n",
    "    # Donnees categorielles à convertir\n",
    "    categ = [\"relationship_with_head\",\n",
    "             \"marital_status\",\n",
    "             \"education_level\",\n",
    "             \"job_type\",\n",
    "             \"country\"]\n",
    "    \n",
    "    # Creation des dummies variables avec la fonction get_dummies()\n",
    "    data = pd.get_dummies(data, prefix_sep=\"_\", columns=categ)\n",
    "    \n",
    "    # Conversion des donnees categorielles en donnees en donnees numeriques\n",
    "    data[\"location_type\"] = le.fit_transform(data[\"location_type\"])\n",
    "    data[\"cellphone_access\"] = le.fit_transform(data[\"cellphone_access\"])\n",
    "    data[\"gender_of_respondent\"] = le.fit_transform(data[\"gender_of_respondent\"])\n",
    "    \n",
    "    # suppression de la colonne uniqueid\n",
    "    data = data.drop([\"uniqueid\"], axis=1)\n",
    "    \n",
    "    # Utilisation de la fonction MinMasScaler()\n",
    "    scaler = MinMaxScaler(feature_range=(0, 1))\n",
    "    data = scaler.fit_transform(data)\n",
    "    \n",
    "    return data                  "
   ]
  },
  {
   "cell_type": "code",
   "execution_count": 12,
   "id": "0ae82f0c",
   "metadata": {
    "id": "eNdoBGhgdYdQ"
   },
   "outputs": [],
   "source": [
    "# Pretaitement des données Train et Test\n",
    "X = preprocessing_data(X_train)\n",
    "Y = preprocessing_data(test)"
   ]
  },
  {
   "cell_type": "code",
   "execution_count": 13,
   "id": "ba333e1d",
   "metadata": {},
   "outputs": [
    {
     "data": {
      "text/plain": [
       "-9.404371746802983e-18"
      ]
     },
     "execution_count": 13,
     "metadata": {},
     "output_type": "execute_result"
    }
   ],
   "source": [
    "#Normalisation\n",
    "#Centrer et réduire\n",
    "X_cr=(X-X.mean())/X.std()\n",
    "X_cr.mean()"
   ]
  },
  {
   "cell_type": "code",
   "execution_count": 14,
   "id": "cc8b2280",
   "metadata": {
    "colab": {
     "base_uri": "https://localhost:8080/"
    },
    "id": "oZxvcf4DdYld",
    "outputId": "a9d357ef-a139-4a83-a081-60c21e912bc6"
   },
   "outputs": [
    {
     "name": "stdout",
     "output_type": "stream",
     "text": [
      "[[1.        0.        1.        0.1       0.0952381 0.        0.\n",
      "  0.        0.        0.        0.        1.        0.        0.\n",
      "  1.        0.        0.        0.        0.        0.        1.\n",
      "  0.        0.        0.        0.        0.        0.        0.\n",
      "  0.        0.        0.        0.        1.        1.        0.\n",
      "  0.        0.       ]]\n"
     ]
    }
   ],
   "source": [
    "# Affichage de la colonne\n",
    "print(X[:1])"
   ]
  },
  {
   "cell_type": "code",
   "execution_count": 15,
   "id": "e122e29f",
   "metadata": {
    "colab": {
     "base_uri": "https://localhost:8080/"
    },
    "id": "hwZVZ4cGdmTP",
    "outputId": "15e18896-281a-4dcc-9b07-b85da0757322"
   },
   "outputs": [
    {
     "name": "stdout",
     "output_type": "stream",
     "text": [
      "(23524, 37)\n"
     ]
    }
   ],
   "source": [
    "# Voir la dimension\n",
    "print(X.shape)"
   ]
  },
  {
   "cell_type": "markdown",
   "id": "5b809543",
   "metadata": {
    "id": "HwHinDPjds1S"
   },
   "source": [
    "On a plus de variables indépendantes qu'auparavant (37 variables). Cela ne signifie pas que toutes ces variables sont importantes pour former notre modèle. On va sélectionner uniquement les fonctionnalités importantes qui peuvent augmenter les performances de notre modèle. Mais on n'appliquera aucune technique de sélection de fonctionnalités dans ce cas"
   ]
  },
  {
   "cell_type": "markdown",
   "id": "4b94b217",
   "metadata": {},
   "source": [
    "# Modéle QDA"
   ]
  },
  {
   "cell_type": "code",
   "execution_count": 16,
   "id": "cb7a066b",
   "metadata": {},
   "outputs": [],
   "source": [
    "#train test split\n",
    "from sklearn.model_selection import train_test_split\n",
    "X_Train, X_Test, y_Train, y_Test = train_test_split(X_cr, y,test_size = 0.3, random_state=15)"
   ]
  },
  {
   "cell_type": "code",
   "execution_count": 17,
   "id": "57dff788",
   "metadata": {},
   "outputs": [
    {
     "name": "stdout",
     "output_type": "stream",
     "text": [
      "Taille du X (23524, 37) taille du train (16466, 37)\n",
      "Pourcentage Train 0.699965992178201\n"
     ]
    }
   ],
   "source": [
    "print('Taille du X',X.shape, 'taille du train',X_Train.shape)\n",
    "print('Pourcentage Train',X_Train.shape[0]/X.shape[0])"
   ]
  },
  {
   "cell_type": "code",
   "execution_count": 18,
   "id": "8c4a9021",
   "metadata": {},
   "outputs": [
    {
     "name": "stdout",
     "output_type": "stream",
     "text": [
      "Le taux accurancy est de : 0.6805043921790875\n"
     ]
    },
    {
     "name": "stderr",
     "output_type": "stream",
     "text": [
      "C:\\Users\\gueye\\anaconda3\\lib\\site-packages\\sklearn\\discriminant_analysis.py:878: UserWarning: Variables are collinear\n",
      "  warnings.warn(\"Variables are collinear\")\n"
     ]
    }
   ],
   "source": [
    "### Application du modéle qda\n",
    "from sklearn.metrics import accuracy_score\n",
    "#Appel de la fonction\n",
    "from sklearn.discriminant_analysis import QuadraticDiscriminantAnalysis\n",
    "####  1. Instanciation du modele\n",
    "model_qda=QuadraticDiscriminantAnalysis()\n",
    "#### 2. Fitting du modéle\n",
    "model_qda.fit(X_Train,y_Train)\n",
    "model_qda\n",
    "#### 3.Prediction\n",
    "pred=model_qda.predict(X_Test)\n",
    "pred\n",
    "#Mesure d'evaluation\n",
    "qda_acc=accuracy_score(pred,y_Test)\n",
    "print('Le taux accurancy est de :',qda_acc)"
   ]
  },
  {
   "cell_type": "code",
   "execution_count": 19,
   "id": "3a75cadf",
   "metadata": {},
   "outputs": [
    {
     "name": "stderr",
     "output_type": "stream",
     "text": [
      "C:\\Users\\gueye\\anaconda3\\lib\\site-packages\\sklearn\\discriminant_analysis.py:878: UserWarning: Variables are collinear\n",
      "  warnings.warn(\"Variables are collinear\")\n"
     ]
    },
    {
     "name": "stdout",
     "output_type": "stream",
     "text": [
      "Fitting 5 folds for each of 12 candidates, totalling 60 fits\n",
      "[CV 1/5; 1/12] START priors=None, reg_param=1...................................\n",
      "[CV 1/5; 1/12] END ....priors=None, reg_param=1;, score=0.829 total time=   0.0s\n",
      "[CV 2/5; 1/12] START priors=None, reg_param=1...................................\n",
      "[CV 2/5; 1/12] END ....priors=None, reg_param=1;, score=0.835 total time=   0.0s\n",
      "[CV 3/5; 1/12] START priors=None, reg_param=1...................................\n"
     ]
    },
    {
     "name": "stderr",
     "output_type": "stream",
     "text": [
      "C:\\Users\\gueye\\anaconda3\\lib\\site-packages\\sklearn\\discriminant_analysis.py:878: UserWarning: Variables are collinear\n",
      "  warnings.warn(\"Variables are collinear\")\n",
      "C:\\Users\\gueye\\anaconda3\\lib\\site-packages\\sklearn\\discriminant_analysis.py:878: UserWarning: Variables are collinear\n",
      "  warnings.warn(\"Variables are collinear\")\n",
      "C:\\Users\\gueye\\anaconda3\\lib\\site-packages\\sklearn\\discriminant_analysis.py:878: UserWarning: Variables are collinear\n",
      "  warnings.warn(\"Variables are collinear\")\n"
     ]
    },
    {
     "name": "stdout",
     "output_type": "stream",
     "text": [
      "[CV 3/5; 1/12] END ....priors=None, reg_param=1;, score=0.843 total time=   0.0s\n",
      "[CV 4/5; 1/12] START priors=None, reg_param=1...................................\n",
      "[CV 4/5; 1/12] END ....priors=None, reg_param=1;, score=0.840 total time=   0.0s\n",
      "[CV 5/5; 1/12] START priors=None, reg_param=1...................................\n",
      "[CV 5/5; 1/12] END ....priors=None, reg_param=1;, score=0.836 total time=   0.0s\n",
      "[CV 1/5; 2/12] START priors=None, reg_param=6...................................\n"
     ]
    },
    {
     "name": "stderr",
     "output_type": "stream",
     "text": [
      "C:\\Users\\gueye\\anaconda3\\lib\\site-packages\\sklearn\\discriminant_analysis.py:878: UserWarning: Variables are collinear\n",
      "  warnings.warn(\"Variables are collinear\")\n",
      "C:\\Users\\gueye\\anaconda3\\lib\\site-packages\\sklearn\\discriminant_analysis.py:878: UserWarning: Variables are collinear\n",
      "  warnings.warn(\"Variables are collinear\")\n",
      "C:\\Users\\gueye\\anaconda3\\lib\\site-packages\\sklearn\\discriminant_analysis.py:903: RuntimeWarning: invalid value encountered in power\n",
      "  X2 = np.dot(Xm, R * (S ** (-0.5)))\n",
      "C:\\Users\\gueye\\anaconda3\\lib\\site-packages\\sklearn\\discriminant_analysis.py:906: RuntimeWarning: invalid value encountered in log\n",
      "  u = np.asarray([np.sum(np.log(s)) for s in self.scalings_])\n",
      "C:\\Users\\gueye\\anaconda3\\lib\\site-packages\\sklearn\\discriminant_analysis.py:878: UserWarning: Variables are collinear\n",
      "  warnings.warn(\"Variables are collinear\")\n",
      "C:\\Users\\gueye\\anaconda3\\lib\\site-packages\\sklearn\\discriminant_analysis.py:903: RuntimeWarning: invalid value encountered in power\n",
      "  X2 = np.dot(Xm, R * (S ** (-0.5)))\n",
      "C:\\Users\\gueye\\anaconda3\\lib\\site-packages\\sklearn\\discriminant_analysis.py:906: RuntimeWarning: invalid value encountered in log\n",
      "  u = np.asarray([np.sum(np.log(s)) for s in self.scalings_])\n"
     ]
    },
    {
     "name": "stdout",
     "output_type": "stream",
     "text": [
      "[CV 1/5; 2/12] END ....priors=None, reg_param=6;, score=0.858 total time=   0.0s\n",
      "[CV 2/5; 2/12] START priors=None, reg_param=6...................................\n",
      "[CV 2/5; 2/12] END ....priors=None, reg_param=6;, score=0.858 total time=   0.0s\n",
      "[CV 3/5; 2/12] START priors=None, reg_param=6...................................\n",
      "[CV 3/5; 2/12] END ....priors=None, reg_param=6;, score=0.858 total time=   0.0s\n",
      "[CV 4/5; 2/12] START priors=None, reg_param=6...................................\n"
     ]
    },
    {
     "name": "stderr",
     "output_type": "stream",
     "text": [
      "C:\\Users\\gueye\\anaconda3\\lib\\site-packages\\sklearn\\discriminant_analysis.py:878: UserWarning: Variables are collinear\n",
      "  warnings.warn(\"Variables are collinear\")\n",
      "C:\\Users\\gueye\\anaconda3\\lib\\site-packages\\sklearn\\discriminant_analysis.py:903: RuntimeWarning: invalid value encountered in power\n",
      "  X2 = np.dot(Xm, R * (S ** (-0.5)))\n",
      "C:\\Users\\gueye\\anaconda3\\lib\\site-packages\\sklearn\\discriminant_analysis.py:906: RuntimeWarning: invalid value encountered in log\n",
      "  u = np.asarray([np.sum(np.log(s)) for s in self.scalings_])\n",
      "C:\\Users\\gueye\\anaconda3\\lib\\site-packages\\sklearn\\discriminant_analysis.py:878: UserWarning: Variables are collinear\n",
      "  warnings.warn(\"Variables are collinear\")\n",
      "C:\\Users\\gueye\\anaconda3\\lib\\site-packages\\sklearn\\discriminant_analysis.py:903: RuntimeWarning: invalid value encountered in power\n",
      "  X2 = np.dot(Xm, R * (S ** (-0.5)))\n",
      "C:\\Users\\gueye\\anaconda3\\lib\\site-packages\\sklearn\\discriminant_analysis.py:906: RuntimeWarning: invalid value encountered in log\n",
      "  u = np.asarray([np.sum(np.log(s)) for s in self.scalings_])\n",
      "C:\\Users\\gueye\\anaconda3\\lib\\site-packages\\sklearn\\discriminant_analysis.py:878: UserWarning: Variables are collinear\n",
      "  warnings.warn(\"Variables are collinear\")\n",
      "C:\\Users\\gueye\\anaconda3\\lib\\site-packages\\sklearn\\discriminant_analysis.py:903: RuntimeWarning: invalid value encountered in power\n",
      "  X2 = np.dot(Xm, R * (S ** (-0.5)))\n",
      "C:\\Users\\gueye\\anaconda3\\lib\\site-packages\\sklearn\\discriminant_analysis.py:906: RuntimeWarning: invalid value encountered in log\n",
      "  u = np.asarray([np.sum(np.log(s)) for s in self.scalings_])\n"
     ]
    },
    {
     "name": "stdout",
     "output_type": "stream",
     "text": [
      "[CV 4/5; 2/12] END ....priors=None, reg_param=6;, score=0.858 total time=   0.0s\n",
      "[CV 5/5; 2/12] START priors=None, reg_param=6...................................\n",
      "[CV 5/5; 2/12] END ....priors=None, reg_param=6;, score=0.858 total time=   0.0s\n",
      "[CV 1/5; 3/12] START priors=None, reg_param=9...................................\n",
      "[CV 1/5; 3/12] END ....priors=None, reg_param=9;, score=0.858 total time=   0.0s\n",
      "[CV 2/5; 3/12] START priors=None, reg_param=9...................................\n"
     ]
    },
    {
     "name": "stderr",
     "output_type": "stream",
     "text": [
      "C:\\Users\\gueye\\anaconda3\\lib\\site-packages\\sklearn\\discriminant_analysis.py:878: UserWarning: Variables are collinear\n",
      "  warnings.warn(\"Variables are collinear\")\n",
      "C:\\Users\\gueye\\anaconda3\\lib\\site-packages\\sklearn\\discriminant_analysis.py:903: RuntimeWarning: invalid value encountered in power\n",
      "  X2 = np.dot(Xm, R * (S ** (-0.5)))\n",
      "C:\\Users\\gueye\\anaconda3\\lib\\site-packages\\sklearn\\discriminant_analysis.py:906: RuntimeWarning: invalid value encountered in log\n",
      "  u = np.asarray([np.sum(np.log(s)) for s in self.scalings_])\n",
      "C:\\Users\\gueye\\anaconda3\\lib\\site-packages\\sklearn\\discriminant_analysis.py:878: UserWarning: Variables are collinear\n",
      "  warnings.warn(\"Variables are collinear\")\n",
      "C:\\Users\\gueye\\anaconda3\\lib\\site-packages\\sklearn\\discriminant_analysis.py:903: RuntimeWarning: invalid value encountered in power\n",
      "  X2 = np.dot(Xm, R * (S ** (-0.5)))\n",
      "C:\\Users\\gueye\\anaconda3\\lib\\site-packages\\sklearn\\discriminant_analysis.py:906: RuntimeWarning: invalid value encountered in log\n",
      "  u = np.asarray([np.sum(np.log(s)) for s in self.scalings_])\n",
      "C:\\Users\\gueye\\anaconda3\\lib\\site-packages\\sklearn\\discriminant_analysis.py:878: UserWarning: Variables are collinear\n",
      "  warnings.warn(\"Variables are collinear\")\n",
      "C:\\Users\\gueye\\anaconda3\\lib\\site-packages\\sklearn\\discriminant_analysis.py:903: RuntimeWarning: invalid value encountered in power\n",
      "  X2 = np.dot(Xm, R * (S ** (-0.5)))\n",
      "C:\\Users\\gueye\\anaconda3\\lib\\site-packages\\sklearn\\discriminant_analysis.py:906: RuntimeWarning: invalid value encountered in log\n",
      "  u = np.asarray([np.sum(np.log(s)) for s in self.scalings_])\n",
      "C:\\Users\\gueye\\anaconda3\\lib\\site-packages\\sklearn\\discriminant_analysis.py:878: UserWarning: Variables are collinear\n",
      "  warnings.warn(\"Variables are collinear\")\n",
      "C:\\Users\\gueye\\anaconda3\\lib\\site-packages\\sklearn\\discriminant_analysis.py:903: RuntimeWarning: invalid value encountered in power\n",
      "  X2 = np.dot(Xm, R * (S ** (-0.5)))\n"
     ]
    },
    {
     "name": "stdout",
     "output_type": "stream",
     "text": [
      "[CV 2/5; 3/12] END ....priors=None, reg_param=9;, score=0.858 total time=   0.0s\n",
      "[CV 3/5; 3/12] START priors=None, reg_param=9...................................\n",
      "[CV 3/5; 3/12] END ....priors=None, reg_param=9;, score=0.858 total time=   0.0s\n",
      "[CV 4/5; 3/12] START priors=None, reg_param=9...................................\n",
      "[CV 4/5; 3/12] END ....priors=None, reg_param=9;, score=0.858 total time=   0.0s\n",
      "[CV 5/5; 3/12] START priors=None, reg_param=9...................................\n"
     ]
    },
    {
     "name": "stderr",
     "output_type": "stream",
     "text": [
      "C:\\Users\\gueye\\anaconda3\\lib\\site-packages\\sklearn\\discriminant_analysis.py:906: RuntimeWarning: invalid value encountered in log\n",
      "  u = np.asarray([np.sum(np.log(s)) for s in self.scalings_])\n",
      "C:\\Users\\gueye\\anaconda3\\lib\\site-packages\\sklearn\\discriminant_analysis.py:878: UserWarning: Variables are collinear\n",
      "  warnings.warn(\"Variables are collinear\")\n",
      "C:\\Users\\gueye\\anaconda3\\lib\\site-packages\\sklearn\\discriminant_analysis.py:903: RuntimeWarning: invalid value encountered in power\n",
      "  X2 = np.dot(Xm, R * (S ** (-0.5)))\n",
      "C:\\Users\\gueye\\anaconda3\\lib\\site-packages\\sklearn\\discriminant_analysis.py:906: RuntimeWarning: invalid value encountered in log\n",
      "  u = np.asarray([np.sum(np.log(s)) for s in self.scalings_])\n",
      "C:\\Users\\gueye\\anaconda3\\lib\\site-packages\\sklearn\\discriminant_analysis.py:878: UserWarning: Variables are collinear\n",
      "  warnings.warn(\"Variables are collinear\")\n",
      "C:\\Users\\gueye\\anaconda3\\lib\\site-packages\\sklearn\\discriminant_analysis.py:903: RuntimeWarning: invalid value encountered in power\n",
      "  X2 = np.dot(Xm, R * (S ** (-0.5)))\n",
      "C:\\Users\\gueye\\anaconda3\\lib\\site-packages\\sklearn\\discriminant_analysis.py:906: RuntimeWarning: invalid value encountered in log\n",
      "  u = np.asarray([np.sum(np.log(s)) for s in self.scalings_])\n",
      "C:\\Users\\gueye\\anaconda3\\lib\\site-packages\\sklearn\\discriminant_analysis.py:878: UserWarning: Variables are collinear\n",
      "  warnings.warn(\"Variables are collinear\")\n",
      "C:\\Users\\gueye\\anaconda3\\lib\\site-packages\\sklearn\\discriminant_analysis.py:903: RuntimeWarning: invalid value encountered in power\n",
      "  X2 = np.dot(Xm, R * (S ** (-0.5)))\n"
     ]
    },
    {
     "name": "stdout",
     "output_type": "stream",
     "text": [
      "[CV 5/5; 3/12] END ....priors=None, reg_param=9;, score=0.858 total time=   0.0s\n",
      "[CV 1/5; 4/12] START priors=None, reg_param=6...................................\n",
      "[CV 1/5; 4/12] END ....priors=None, reg_param=6;, score=0.858 total time=   0.0s\n",
      "[CV 2/5; 4/12] START priors=None, reg_param=6...................................\n",
      "[CV 2/5; 4/12] END ....priors=None, reg_param=6;, score=0.858 total time=   0.0s\n",
      "[CV 3/5; 4/12] START priors=None, reg_param=6...................................\n"
     ]
    },
    {
     "name": "stderr",
     "output_type": "stream",
     "text": [
      "C:\\Users\\gueye\\anaconda3\\lib\\site-packages\\sklearn\\discriminant_analysis.py:906: RuntimeWarning: invalid value encountered in log\n",
      "  u = np.asarray([np.sum(np.log(s)) for s in self.scalings_])\n",
      "C:\\Users\\gueye\\anaconda3\\lib\\site-packages\\sklearn\\discriminant_analysis.py:878: UserWarning: Variables are collinear\n",
      "  warnings.warn(\"Variables are collinear\")\n",
      "C:\\Users\\gueye\\anaconda3\\lib\\site-packages\\sklearn\\discriminant_analysis.py:903: RuntimeWarning: invalid value encountered in power\n",
      "  X2 = np.dot(Xm, R * (S ** (-0.5)))\n",
      "C:\\Users\\gueye\\anaconda3\\lib\\site-packages\\sklearn\\discriminant_analysis.py:906: RuntimeWarning: invalid value encountered in log\n",
      "  u = np.asarray([np.sum(np.log(s)) for s in self.scalings_])\n",
      "C:\\Users\\gueye\\anaconda3\\lib\\site-packages\\sklearn\\discriminant_analysis.py:878: UserWarning: Variables are collinear\n",
      "  warnings.warn(\"Variables are collinear\")\n",
      "C:\\Users\\gueye\\anaconda3\\lib\\site-packages\\sklearn\\discriminant_analysis.py:903: RuntimeWarning: invalid value encountered in power\n",
      "  X2 = np.dot(Xm, R * (S ** (-0.5)))\n",
      "C:\\Users\\gueye\\anaconda3\\lib\\site-packages\\sklearn\\discriminant_analysis.py:906: RuntimeWarning: invalid value encountered in log\n",
      "  u = np.asarray([np.sum(np.log(s)) for s in self.scalings_])\n"
     ]
    },
    {
     "name": "stdout",
     "output_type": "stream",
     "text": [
      "[CV 3/5; 4/12] END ....priors=None, reg_param=6;, score=0.858 total time=   0.0s\n",
      "[CV 4/5; 4/12] START priors=None, reg_param=6...................................\n",
      "[CV 4/5; 4/12] END ....priors=None, reg_param=6;, score=0.858 total time=   0.0s\n",
      "[CV 5/5; 4/12] START priors=None, reg_param=6...................................\n",
      "[CV 5/5; 4/12] END ....priors=None, reg_param=6;, score=0.858 total time=   0.0s\n",
      "[CV 1/5; 5/12] START priors=None, reg_param=3...................................\n"
     ]
    },
    {
     "name": "stderr",
     "output_type": "stream",
     "text": [
      "C:\\Users\\gueye\\anaconda3\\lib\\site-packages\\sklearn\\discriminant_analysis.py:878: UserWarning: Variables are collinear\n",
      "  warnings.warn(\"Variables are collinear\")\n",
      "C:\\Users\\gueye\\anaconda3\\lib\\site-packages\\sklearn\\discriminant_analysis.py:903: RuntimeWarning: invalid value encountered in power\n",
      "  X2 = np.dot(Xm, R * (S ** (-0.5)))\n",
      "C:\\Users\\gueye\\anaconda3\\lib\\site-packages\\sklearn\\discriminant_analysis.py:906: RuntimeWarning: invalid value encountered in log\n",
      "  u = np.asarray([np.sum(np.log(s)) for s in self.scalings_])\n",
      "C:\\Users\\gueye\\anaconda3\\lib\\site-packages\\sklearn\\discriminant_analysis.py:878: UserWarning: Variables are collinear\n",
      "  warnings.warn(\"Variables are collinear\")\n",
      "C:\\Users\\gueye\\anaconda3\\lib\\site-packages\\sklearn\\discriminant_analysis.py:903: RuntimeWarning: invalid value encountered in power\n",
      "  X2 = np.dot(Xm, R * (S ** (-0.5)))\n",
      "C:\\Users\\gueye\\anaconda3\\lib\\site-packages\\sklearn\\discriminant_analysis.py:906: RuntimeWarning: invalid value encountered in log\n",
      "  u = np.asarray([np.sum(np.log(s)) for s in self.scalings_])\n",
      "C:\\Users\\gueye\\anaconda3\\lib\\site-packages\\sklearn\\discriminant_analysis.py:878: UserWarning: Variables are collinear\n",
      "  warnings.warn(\"Variables are collinear\")\n",
      "C:\\Users\\gueye\\anaconda3\\lib\\site-packages\\sklearn\\discriminant_analysis.py:903: RuntimeWarning: invalid value encountered in power\n",
      "  X2 = np.dot(Xm, R * (S ** (-0.5)))\n",
      "C:\\Users\\gueye\\anaconda3\\lib\\site-packages\\sklearn\\discriminant_analysis.py:906: RuntimeWarning: invalid value encountered in log\n",
      "  u = np.asarray([np.sum(np.log(s)) for s in self.scalings_])\n"
     ]
    },
    {
     "name": "stdout",
     "output_type": "stream",
     "text": [
      "[CV 1/5; 5/12] END ....priors=None, reg_param=3;, score=0.858 total time=   0.0s\n",
      "[CV 2/5; 5/12] START priors=None, reg_param=3...................................\n",
      "[CV 2/5; 5/12] END ....priors=None, reg_param=3;, score=0.858 total time=   0.0s\n",
      "[CV 3/5; 5/12] START priors=None, reg_param=3...................................\n",
      "[CV 3/5; 5/12] END ....priors=None, reg_param=3;, score=0.858 total time=   0.0s\n",
      "[CV 4/5; 5/12] START priors=None, reg_param=3...................................\n"
     ]
    },
    {
     "name": "stderr",
     "output_type": "stream",
     "text": [
      "C:\\Users\\gueye\\anaconda3\\lib\\site-packages\\sklearn\\discriminant_analysis.py:878: UserWarning: Variables are collinear\n",
      "  warnings.warn(\"Variables are collinear\")\n",
      "C:\\Users\\gueye\\anaconda3\\lib\\site-packages\\sklearn\\discriminant_analysis.py:903: RuntimeWarning: invalid value encountered in power\n",
      "  X2 = np.dot(Xm, R * (S ** (-0.5)))\n",
      "C:\\Users\\gueye\\anaconda3\\lib\\site-packages\\sklearn\\discriminant_analysis.py:906: RuntimeWarning: invalid value encountered in log\n",
      "  u = np.asarray([np.sum(np.log(s)) for s in self.scalings_])\n",
      "C:\\Users\\gueye\\anaconda3\\lib\\site-packages\\sklearn\\discriminant_analysis.py:878: UserWarning: Variables are collinear\n",
      "  warnings.warn(\"Variables are collinear\")\n",
      "C:\\Users\\gueye\\anaconda3\\lib\\site-packages\\sklearn\\discriminant_analysis.py:903: RuntimeWarning: invalid value encountered in power\n",
      "  X2 = np.dot(Xm, R * (S ** (-0.5)))\n",
      "C:\\Users\\gueye\\anaconda3\\lib\\site-packages\\sklearn\\discriminant_analysis.py:906: RuntimeWarning: invalid value encountered in log\n",
      "  u = np.asarray([np.sum(np.log(s)) for s in self.scalings_])\n",
      "C:\\Users\\gueye\\anaconda3\\lib\\site-packages\\sklearn\\discriminant_analysis.py:878: UserWarning: Variables are collinear\n",
      "  warnings.warn(\"Variables are collinear\")\n",
      "C:\\Users\\gueye\\anaconda3\\lib\\site-packages\\sklearn\\discriminant_analysis.py:903: RuntimeWarning: invalid value encountered in power\n",
      "  X2 = np.dot(Xm, R * (S ** (-0.5)))\n",
      "C:\\Users\\gueye\\anaconda3\\lib\\site-packages\\sklearn\\discriminant_analysis.py:906: RuntimeWarning: invalid value encountered in log\n",
      "  u = np.asarray([np.sum(np.log(s)) for s in self.scalings_])\n",
      "C:\\Users\\gueye\\anaconda3\\lib\\site-packages\\sklearn\\discriminant_analysis.py:878: UserWarning: Variables are collinear\n",
      "  warnings.warn(\"Variables are collinear\")\n"
     ]
    },
    {
     "name": "stdout",
     "output_type": "stream",
     "text": [
      "[CV 4/5; 5/12] END ....priors=None, reg_param=3;, score=0.858 total time=   0.0s\n",
      "[CV 5/5; 5/12] START priors=None, reg_param=3...................................\n",
      "[CV 5/5; 5/12] END ....priors=None, reg_param=3;, score=0.858 total time=   0.0s\n",
      "[CV 1/5; 6/12] START priors=None, reg_param=7...................................\n",
      "[CV 1/5; 6/12] END ....priors=None, reg_param=7;, score=0.858 total time=   0.0s\n",
      "[CV 2/5; 6/12] START priors=None, reg_param=7...................................\n"
     ]
    },
    {
     "name": "stderr",
     "output_type": "stream",
     "text": [
      "C:\\Users\\gueye\\anaconda3\\lib\\site-packages\\sklearn\\discriminant_analysis.py:903: RuntimeWarning: invalid value encountered in power\n",
      "  X2 = np.dot(Xm, R * (S ** (-0.5)))\n",
      "C:\\Users\\gueye\\anaconda3\\lib\\site-packages\\sklearn\\discriminant_analysis.py:906: RuntimeWarning: invalid value encountered in log\n",
      "  u = np.asarray([np.sum(np.log(s)) for s in self.scalings_])\n",
      "C:\\Users\\gueye\\anaconda3\\lib\\site-packages\\sklearn\\discriminant_analysis.py:878: UserWarning: Variables are collinear\n",
      "  warnings.warn(\"Variables are collinear\")\n",
      "C:\\Users\\gueye\\anaconda3\\lib\\site-packages\\sklearn\\discriminant_analysis.py:903: RuntimeWarning: invalid value encountered in power\n",
      "  X2 = np.dot(Xm, R * (S ** (-0.5)))\n",
      "C:\\Users\\gueye\\anaconda3\\lib\\site-packages\\sklearn\\discriminant_analysis.py:906: RuntimeWarning: invalid value encountered in log\n",
      "  u = np.asarray([np.sum(np.log(s)) for s in self.scalings_])\n",
      "C:\\Users\\gueye\\anaconda3\\lib\\site-packages\\sklearn\\discriminant_analysis.py:878: UserWarning: Variables are collinear\n",
      "  warnings.warn(\"Variables are collinear\")\n",
      "C:\\Users\\gueye\\anaconda3\\lib\\site-packages\\sklearn\\discriminant_analysis.py:903: RuntimeWarning: invalid value encountered in power\n",
      "  X2 = np.dot(Xm, R * (S ** (-0.5)))\n",
      "C:\\Users\\gueye\\anaconda3\\lib\\site-packages\\sklearn\\discriminant_analysis.py:906: RuntimeWarning: invalid value encountered in log\n",
      "  u = np.asarray([np.sum(np.log(s)) for s in self.scalings_])\n",
      "C:\\Users\\gueye\\anaconda3\\lib\\site-packages\\sklearn\\discriminant_analysis.py:878: UserWarning: Variables are collinear\n",
      "  warnings.warn(\"Variables are collinear\")\n"
     ]
    },
    {
     "name": "stdout",
     "output_type": "stream",
     "text": [
      "[CV 2/5; 6/12] END ....priors=None, reg_param=7;, score=0.858 total time=   0.0s\n",
      "[CV 3/5; 6/12] START priors=None, reg_param=7...................................\n",
      "[CV 3/5; 6/12] END ....priors=None, reg_param=7;, score=0.858 total time=   0.0s\n",
      "[CV 4/5; 6/12] START priors=None, reg_param=7...................................\n",
      "[CV 4/5; 6/12] END ....priors=None, reg_param=7;, score=0.858 total time=   0.0s\n",
      "[CV 5/5; 6/12] START priors=None, reg_param=7...................................\n"
     ]
    },
    {
     "name": "stderr",
     "output_type": "stream",
     "text": [
      "C:\\Users\\gueye\\anaconda3\\lib\\site-packages\\sklearn\\discriminant_analysis.py:903: RuntimeWarning: invalid value encountered in power\n",
      "  X2 = np.dot(Xm, R * (S ** (-0.5)))\n",
      "C:\\Users\\gueye\\anaconda3\\lib\\site-packages\\sklearn\\discriminant_analysis.py:906: RuntimeWarning: invalid value encountered in log\n",
      "  u = np.asarray([np.sum(np.log(s)) for s in self.scalings_])\n",
      "C:\\Users\\gueye\\anaconda3\\lib\\site-packages\\sklearn\\discriminant_analysis.py:878: UserWarning: Variables are collinear\n",
      "  warnings.warn(\"Variables are collinear\")\n",
      "C:\\Users\\gueye\\anaconda3\\lib\\site-packages\\sklearn\\discriminant_analysis.py:903: RuntimeWarning: invalid value encountered in power\n",
      "  X2 = np.dot(Xm, R * (S ** (-0.5)))\n",
      "C:\\Users\\gueye\\anaconda3\\lib\\site-packages\\sklearn\\discriminant_analysis.py:906: RuntimeWarning: invalid value encountered in log\n",
      "  u = np.asarray([np.sum(np.log(s)) for s in self.scalings_])\n",
      "C:\\Users\\gueye\\anaconda3\\lib\\site-packages\\sklearn\\discriminant_analysis.py:878: UserWarning: Variables are collinear\n",
      "  warnings.warn(\"Variables are collinear\")\n",
      "C:\\Users\\gueye\\anaconda3\\lib\\site-packages\\sklearn\\model_selection\\_validation.py:770: UserWarning: Scoring failed. The score on this train-test partition for these parameters will be set to nan. Details: \n",
      "Traceback (most recent call last):\n",
      "  File \"C:\\Users\\gueye\\anaconda3\\lib\\site-packages\\sklearn\\model_selection\\_validation.py\", line 761, in _score\n",
      "    scores = scorer(estimator, X_test, y_test)\n",
      "  File \"C:\\Users\\gueye\\anaconda3\\lib\\site-packages\\sklearn\\metrics\\_scorer.py\", line 418, in _passthrough_scorer\n",
      "    return estimator.score(*args, **kwargs)\n",
      "  File \"C:\\Users\\gueye\\anaconda3\\lib\\site-packages\\sklearn\\base.py\", line 651, in score\n",
      "    return accuracy_score(y, self.predict(X), sample_weight=sample_weight)\n",
      "  File \"C:\\Users\\gueye\\anaconda3\\lib\\site-packages\\sklearn\\discriminant_analysis.py\", line 951, in predict\n",
      "    d = self._decision_function(X)\n",
      "  File \"C:\\Users\\gueye\\anaconda3\\lib\\site-packages\\sklearn\\discriminant_analysis.py\", line 907, in _decision_function\n",
      "    return -0.5 * (norm2 + u) + np.log(self.priors_)\n",
      "TypeError: ufunc 'log' not supported for the input types, and the inputs could not be safely coerced to any supported types according to the casting rule ''safe''\n",
      "\n",
      "  warnings.warn(\n",
      "C:\\Users\\gueye\\anaconda3\\lib\\site-packages\\sklearn\\discriminant_analysis.py:878: UserWarning: Variables are collinear\n",
      "  warnings.warn(\"Variables are collinear\")\n",
      "C:\\Users\\gueye\\anaconda3\\lib\\site-packages\\sklearn\\model_selection\\_validation.py:770: UserWarning: Scoring failed. The score on this train-test partition for these parameters will be set to nan. Details: \n",
      "Traceback (most recent call last):\n",
      "  File \"C:\\Users\\gueye\\anaconda3\\lib\\site-packages\\sklearn\\model_selection\\_validation.py\", line 761, in _score\n",
      "    scores = scorer(estimator, X_test, y_test)\n",
      "  File \"C:\\Users\\gueye\\anaconda3\\lib\\site-packages\\sklearn\\metrics\\_scorer.py\", line 418, in _passthrough_scorer\n",
      "    return estimator.score(*args, **kwargs)\n",
      "  File \"C:\\Users\\gueye\\anaconda3\\lib\\site-packages\\sklearn\\base.py\", line 651, in score\n",
      "    return accuracy_score(y, self.predict(X), sample_weight=sample_weight)\n",
      "  File \"C:\\Users\\gueye\\anaconda3\\lib\\site-packages\\sklearn\\discriminant_analysis.py\", line 951, in predict\n",
      "    d = self._decision_function(X)\n",
      "  File \"C:\\Users\\gueye\\anaconda3\\lib\\site-packages\\sklearn\\discriminant_analysis.py\", line 907, in _decision_function\n",
      "    return -0.5 * (norm2 + u) + np.log(self.priors_)\n",
      "TypeError: ufunc 'log' not supported for the input types, and the inputs could not be safely coerced to any supported types according to the casting rule ''safe''\n",
      "\n",
      "  warnings.warn(\n"
     ]
    },
    {
     "name": "stdout",
     "output_type": "stream",
     "text": [
      "[CV 5/5; 6/12] END ....priors=None, reg_param=7;, score=0.858 total time=   0.0s\n",
      "[CV 1/5; 7/12] START priors=, reg_param=1.......................................\n",
      "[CV 1/5; 7/12] END ..........priors=, reg_param=1;, score=nan total time=   0.0s\n",
      "[CV 2/5; 7/12] START priors=, reg_param=1.......................................\n",
      "[CV 2/5; 7/12] END ..........priors=, reg_param=1;, score=nan total time=   0.0s\n",
      "[CV 3/5; 7/12] START priors=, reg_param=1.......................................\n",
      "[CV 3/5; 7/12] END ..........priors=, reg_param=1;, score=nan total time=   0.0s\n",
      "[CV 4/5; 7/12] START priors=, reg_param=1......................................."
     ]
    },
    {
     "name": "stderr",
     "output_type": "stream",
     "text": [
      "C:\\Users\\gueye\\anaconda3\\lib\\site-packages\\sklearn\\discriminant_analysis.py:878: UserWarning: Variables are collinear\n",
      "  warnings.warn(\"Variables are collinear\")\n",
      "C:\\Users\\gueye\\anaconda3\\lib\\site-packages\\sklearn\\model_selection\\_validation.py:770: UserWarning: Scoring failed. The score on this train-test partition for these parameters will be set to nan. Details: \n",
      "Traceback (most recent call last):\n",
      "  File \"C:\\Users\\gueye\\anaconda3\\lib\\site-packages\\sklearn\\model_selection\\_validation.py\", line 761, in _score\n",
      "    scores = scorer(estimator, X_test, y_test)\n",
      "  File \"C:\\Users\\gueye\\anaconda3\\lib\\site-packages\\sklearn\\metrics\\_scorer.py\", line 418, in _passthrough_scorer\n",
      "    return estimator.score(*args, **kwargs)\n",
      "  File \"C:\\Users\\gueye\\anaconda3\\lib\\site-packages\\sklearn\\base.py\", line 651, in score\n",
      "    return accuracy_score(y, self.predict(X), sample_weight=sample_weight)\n",
      "  File \"C:\\Users\\gueye\\anaconda3\\lib\\site-packages\\sklearn\\discriminant_analysis.py\", line 951, in predict\n",
      "    d = self._decision_function(X)\n",
      "  File \"C:\\Users\\gueye\\anaconda3\\lib\\site-packages\\sklearn\\discriminant_analysis.py\", line 907, in _decision_function\n",
      "    return -0.5 * (norm2 + u) + np.log(self.priors_)\n",
      "TypeError: ufunc 'log' not supported for the input types, and the inputs could not be safely coerced to any supported types according to the casting rule ''safe''\n",
      "\n",
      "  warnings.warn(\n",
      "C:\\Users\\gueye\\anaconda3\\lib\\site-packages\\sklearn\\discriminant_analysis.py:878: UserWarning: Variables are collinear\n",
      "  warnings.warn(\"Variables are collinear\")\n",
      "C:\\Users\\gueye\\anaconda3\\lib\\site-packages\\sklearn\\model_selection\\_validation.py:770: UserWarning: Scoring failed. The score on this train-test partition for these parameters will be set to nan. Details: \n",
      "Traceback (most recent call last):\n",
      "  File \"C:\\Users\\gueye\\anaconda3\\lib\\site-packages\\sklearn\\model_selection\\_validation.py\", line 761, in _score\n",
      "    scores = scorer(estimator, X_test, y_test)\n",
      "  File \"C:\\Users\\gueye\\anaconda3\\lib\\site-packages\\sklearn\\metrics\\_scorer.py\", line 418, in _passthrough_scorer\n",
      "    return estimator.score(*args, **kwargs)\n",
      "  File \"C:\\Users\\gueye\\anaconda3\\lib\\site-packages\\sklearn\\base.py\", line 651, in score\n",
      "    return accuracy_score(y, self.predict(X), sample_weight=sample_weight)\n",
      "  File \"C:\\Users\\gueye\\anaconda3\\lib\\site-packages\\sklearn\\discriminant_analysis.py\", line 951, in predict\n",
      "    d = self._decision_function(X)\n",
      "  File \"C:\\Users\\gueye\\anaconda3\\lib\\site-packages\\sklearn\\discriminant_analysis.py\", line 907, in _decision_function\n",
      "    return -0.5 * (norm2 + u) + np.log(self.priors_)\n",
      "TypeError: ufunc 'log' not supported for the input types, and the inputs could not be safely coerced to any supported types according to the casting rule ''safe''\n",
      "\n",
      "  warnings.warn(\n",
      "C:\\Users\\gueye\\anaconda3\\lib\\site-packages\\sklearn\\discriminant_analysis.py:878: UserWarning: Variables are collinear\n",
      "  warnings.warn(\"Variables are collinear\")\n",
      "C:\\Users\\gueye\\anaconda3\\lib\\site-packages\\sklearn\\model_selection\\_validation.py:770: UserWarning: Scoring failed. The score on this train-test partition for these parameters will be set to nan. Details: \n",
      "Traceback (most recent call last):\n",
      "  File \"C:\\Users\\gueye\\anaconda3\\lib\\site-packages\\sklearn\\model_selection\\_validation.py\", line 761, in _score\n",
      "    scores = scorer(estimator, X_test, y_test)\n",
      "  File \"C:\\Users\\gueye\\anaconda3\\lib\\site-packages\\sklearn\\metrics\\_scorer.py\", line 418, in _passthrough_scorer\n",
      "    return estimator.score(*args, **kwargs)\n",
      "  File \"C:\\Users\\gueye\\anaconda3\\lib\\site-packages\\sklearn\\base.py\", line 651, in score\n",
      "    return accuracy_score(y, self.predict(X), sample_weight=sample_weight)\n",
      "  File \"C:\\Users\\gueye\\anaconda3\\lib\\site-packages\\sklearn\\discriminant_analysis.py\", line 951, in predict\n",
      "    d = self._decision_function(X)\n",
      "  File \"C:\\Users\\gueye\\anaconda3\\lib\\site-packages\\sklearn\\discriminant_analysis.py\", line 907, in _decision_function\n",
      "    return -0.5 * (norm2 + u) + np.log(self.priors_)\n",
      "TypeError: ufunc 'log' not supported for the input types, and the inputs could not be safely coerced to any supported types according to the casting rule ''safe''\n",
      "\n",
      "  warnings.warn(\n"
     ]
    },
    {
     "name": "stdout",
     "output_type": "stream",
     "text": [
      "\n",
      "[CV 4/5; 7/12] END ..........priors=, reg_param=1;, score=nan total time=   0.0s\n",
      "[CV 5/5; 7/12] START priors=, reg_param=1.......................................\n",
      "[CV 5/5; 7/12] END ..........priors=, reg_param=1;, score=nan total time=   0.0s\n",
      "[CV 1/5; 8/12] START priors=, reg_param=6.......................................\n"
     ]
    },
    {
     "name": "stderr",
     "output_type": "stream",
     "text": [
      "C:\\Users\\gueye\\anaconda3\\lib\\site-packages\\sklearn\\discriminant_analysis.py:878: UserWarning: Variables are collinear\n",
      "  warnings.warn(\"Variables are collinear\")\n",
      "C:\\Users\\gueye\\anaconda3\\lib\\site-packages\\sklearn\\discriminant_analysis.py:903: RuntimeWarning: invalid value encountered in power\n",
      "  X2 = np.dot(Xm, R * (S ** (-0.5)))\n",
      "C:\\Users\\gueye\\anaconda3\\lib\\site-packages\\sklearn\\discriminant_analysis.py:906: RuntimeWarning: invalid value encountered in log\n",
      "  u = np.asarray([np.sum(np.log(s)) for s in self.scalings_])\n",
      "C:\\Users\\gueye\\anaconda3\\lib\\site-packages\\sklearn\\model_selection\\_validation.py:770: UserWarning: Scoring failed. The score on this train-test partition for these parameters will be set to nan. Details: \n",
      "Traceback (most recent call last):\n",
      "  File \"C:\\Users\\gueye\\anaconda3\\lib\\site-packages\\sklearn\\model_selection\\_validation.py\", line 761, in _score\n",
      "    scores = scorer(estimator, X_test, y_test)\n",
      "  File \"C:\\Users\\gueye\\anaconda3\\lib\\site-packages\\sklearn\\metrics\\_scorer.py\", line 418, in _passthrough_scorer\n",
      "    return estimator.score(*args, **kwargs)\n",
      "  File \"C:\\Users\\gueye\\anaconda3\\lib\\site-packages\\sklearn\\base.py\", line 651, in score\n",
      "    return accuracy_score(y, self.predict(X), sample_weight=sample_weight)\n",
      "  File \"C:\\Users\\gueye\\anaconda3\\lib\\site-packages\\sklearn\\discriminant_analysis.py\", line 951, in predict\n",
      "    d = self._decision_function(X)\n",
      "  File \"C:\\Users\\gueye\\anaconda3\\lib\\site-packages\\sklearn\\discriminant_analysis.py\", line 907, in _decision_function\n",
      "    return -0.5 * (norm2 + u) + np.log(self.priors_)\n",
      "TypeError: ufunc 'log' not supported for the input types, and the inputs could not be safely coerced to any supported types according to the casting rule ''safe''\n",
      "\n",
      "  warnings.warn(\n",
      "C:\\Users\\gueye\\anaconda3\\lib\\site-packages\\sklearn\\discriminant_analysis.py:878: UserWarning: Variables are collinear\n",
      "  warnings.warn(\"Variables are collinear\")\n",
      "C:\\Users\\gueye\\anaconda3\\lib\\site-packages\\sklearn\\discriminant_analysis.py:903: RuntimeWarning: invalid value encountered in power\n",
      "  X2 = np.dot(Xm, R * (S ** (-0.5)))\n",
      "C:\\Users\\gueye\\anaconda3\\lib\\site-packages\\sklearn\\discriminant_analysis.py:906: RuntimeWarning: invalid value encountered in log\n",
      "  u = np.asarray([np.sum(np.log(s)) for s in self.scalings_])\n",
      "C:\\Users\\gueye\\anaconda3\\lib\\site-packages\\sklearn\\model_selection\\_validation.py:770: UserWarning: Scoring failed. The score on this train-test partition for these parameters will be set to nan. Details: \n",
      "Traceback (most recent call last):\n",
      "  File \"C:\\Users\\gueye\\anaconda3\\lib\\site-packages\\sklearn\\model_selection\\_validation.py\", line 761, in _score\n",
      "    scores = scorer(estimator, X_test, y_test)\n",
      "  File \"C:\\Users\\gueye\\anaconda3\\lib\\site-packages\\sklearn\\metrics\\_scorer.py\", line 418, in _passthrough_scorer\n",
      "    return estimator.score(*args, **kwargs)\n",
      "  File \"C:\\Users\\gueye\\anaconda3\\lib\\site-packages\\sklearn\\base.py\", line 651, in score\n",
      "    return accuracy_score(y, self.predict(X), sample_weight=sample_weight)\n",
      "  File \"C:\\Users\\gueye\\anaconda3\\lib\\site-packages\\sklearn\\discriminant_analysis.py\", line 951, in predict\n",
      "    d = self._decision_function(X)\n",
      "  File \"C:\\Users\\gueye\\anaconda3\\lib\\site-packages\\sklearn\\discriminant_analysis.py\", line 907, in _decision_function\n",
      "    return -0.5 * (norm2 + u) + np.log(self.priors_)\n",
      "TypeError: ufunc 'log' not supported for the input types, and the inputs could not be safely coerced to any supported types according to the casting rule ''safe''\n",
      "\n",
      "  warnings.warn(\n",
      "C:\\Users\\gueye\\anaconda3\\lib\\site-packages\\sklearn\\discriminant_analysis.py:878: UserWarning: Variables are collinear\n",
      "  warnings.warn(\"Variables are collinear\")\n",
      "C:\\Users\\gueye\\anaconda3\\lib\\site-packages\\sklearn\\discriminant_analysis.py:903: RuntimeWarning: invalid value encountered in power\n",
      "  X2 = np.dot(Xm, R * (S ** (-0.5)))\n"
     ]
    },
    {
     "name": "stdout",
     "output_type": "stream",
     "text": [
      "[CV 1/5; 8/12] END ..........priors=, reg_param=6;, score=nan total time=   0.0s\n",
      "[CV 2/5; 8/12] START priors=, reg_param=6.......................................\n",
      "[CV 2/5; 8/12] END ..........priors=, reg_param=6;, score=nan total time=   0.0s\n",
      "[CV 3/5; 8/12] START priors=, reg_param=6.......................................\n"
     ]
    },
    {
     "name": "stderr",
     "output_type": "stream",
     "text": [
      "C:\\Users\\gueye\\anaconda3\\lib\\site-packages\\sklearn\\discriminant_analysis.py:906: RuntimeWarning: invalid value encountered in log\n",
      "  u = np.asarray([np.sum(np.log(s)) for s in self.scalings_])\n",
      "C:\\Users\\gueye\\anaconda3\\lib\\site-packages\\sklearn\\model_selection\\_validation.py:770: UserWarning: Scoring failed. The score on this train-test partition for these parameters will be set to nan. Details: \n",
      "Traceback (most recent call last):\n",
      "  File \"C:\\Users\\gueye\\anaconda3\\lib\\site-packages\\sklearn\\model_selection\\_validation.py\", line 761, in _score\n",
      "    scores = scorer(estimator, X_test, y_test)\n",
      "  File \"C:\\Users\\gueye\\anaconda3\\lib\\site-packages\\sklearn\\metrics\\_scorer.py\", line 418, in _passthrough_scorer\n",
      "    return estimator.score(*args, **kwargs)\n",
      "  File \"C:\\Users\\gueye\\anaconda3\\lib\\site-packages\\sklearn\\base.py\", line 651, in score\n",
      "    return accuracy_score(y, self.predict(X), sample_weight=sample_weight)\n",
      "  File \"C:\\Users\\gueye\\anaconda3\\lib\\site-packages\\sklearn\\discriminant_analysis.py\", line 951, in predict\n",
      "    d = self._decision_function(X)\n",
      "  File \"C:\\Users\\gueye\\anaconda3\\lib\\site-packages\\sklearn\\discriminant_analysis.py\", line 907, in _decision_function\n",
      "    return -0.5 * (norm2 + u) + np.log(self.priors_)\n",
      "TypeError: ufunc 'log' not supported for the input types, and the inputs could not be safely coerced to any supported types according to the casting rule ''safe''\n",
      "\n",
      "  warnings.warn(\n",
      "C:\\Users\\gueye\\anaconda3\\lib\\site-packages\\sklearn\\discriminant_analysis.py:878: UserWarning: Variables are collinear\n",
      "  warnings.warn(\"Variables are collinear\")\n",
      "C:\\Users\\gueye\\anaconda3\\lib\\site-packages\\sklearn\\discriminant_analysis.py:903: RuntimeWarning: invalid value encountered in power\n",
      "  X2 = np.dot(Xm, R * (S ** (-0.5)))\n",
      "C:\\Users\\gueye\\anaconda3\\lib\\site-packages\\sklearn\\discriminant_analysis.py:906: RuntimeWarning: invalid value encountered in log\n",
      "  u = np.asarray([np.sum(np.log(s)) for s in self.scalings_])\n",
      "C:\\Users\\gueye\\anaconda3\\lib\\site-packages\\sklearn\\model_selection\\_validation.py:770: UserWarning: Scoring failed. The score on this train-test partition for these parameters will be set to nan. Details: \n",
      "Traceback (most recent call last):\n",
      "  File \"C:\\Users\\gueye\\anaconda3\\lib\\site-packages\\sklearn\\model_selection\\_validation.py\", line 761, in _score\n",
      "    scores = scorer(estimator, X_test, y_test)\n",
      "  File \"C:\\Users\\gueye\\anaconda3\\lib\\site-packages\\sklearn\\metrics\\_scorer.py\", line 418, in _passthrough_scorer\n",
      "    return estimator.score(*args, **kwargs)\n",
      "  File \"C:\\Users\\gueye\\anaconda3\\lib\\site-packages\\sklearn\\base.py\", line 651, in score\n",
      "    return accuracy_score(y, self.predict(X), sample_weight=sample_weight)\n",
      "  File \"C:\\Users\\gueye\\anaconda3\\lib\\site-packages\\sklearn\\discriminant_analysis.py\", line 951, in predict\n",
      "    d = self._decision_function(X)\n",
      "  File \"C:\\Users\\gueye\\anaconda3\\lib\\site-packages\\sklearn\\discriminant_analysis.py\", line 907, in _decision_function\n",
      "    return -0.5 * (norm2 + u) + np.log(self.priors_)\n",
      "TypeError: ufunc 'log' not supported for the input types, and the inputs could not be safely coerced to any supported types according to the casting rule ''safe''\n",
      "\n",
      "  warnings.warn(\n",
      "C:\\Users\\gueye\\anaconda3\\lib\\site-packages\\sklearn\\discriminant_analysis.py:878: UserWarning: Variables are collinear\n",
      "  warnings.warn(\"Variables are collinear\")\n",
      "C:\\Users\\gueye\\anaconda3\\lib\\site-packages\\sklearn\\discriminant_analysis.py:903: RuntimeWarning: invalid value encountered in power\n",
      "  X2 = np.dot(Xm, R * (S ** (-0.5)))\n",
      "C:\\Users\\gueye\\anaconda3\\lib\\site-packages\\sklearn\\discriminant_analysis.py:906: RuntimeWarning: invalid value encountered in log\n",
      "  u = np.asarray([np.sum(np.log(s)) for s in self.scalings_])\n",
      "C:\\Users\\gueye\\anaconda3\\lib\\site-packages\\sklearn\\model_selection\\_validation.py:770: UserWarning: Scoring failed. The score on this train-test partition for these parameters will be set to nan. Details: \n",
      "Traceback (most recent call last):\n",
      "  File \"C:\\Users\\gueye\\anaconda3\\lib\\site-packages\\sklearn\\model_selection\\_validation.py\", line 761, in _score\n",
      "    scores = scorer(estimator, X_test, y_test)\n",
      "  File \"C:\\Users\\gueye\\anaconda3\\lib\\site-packages\\sklearn\\metrics\\_scorer.py\", line 418, in _passthrough_scorer\n",
      "    return estimator.score(*args, **kwargs)\n",
      "  File \"C:\\Users\\gueye\\anaconda3\\lib\\site-packages\\sklearn\\base.py\", line 651, in score\n",
      "    return accuracy_score(y, self.predict(X), sample_weight=sample_weight)\n",
      "  File \"C:\\Users\\gueye\\anaconda3\\lib\\site-packages\\sklearn\\discriminant_analysis.py\", line 951, in predict\n",
      "    d = self._decision_function(X)\n",
      "  File \"C:\\Users\\gueye\\anaconda3\\lib\\site-packages\\sklearn\\discriminant_analysis.py\", line 907, in _decision_function\n",
      "    return -0.5 * (norm2 + u) + np.log(self.priors_)\n",
      "TypeError: ufunc 'log' not supported for the input types, and the inputs could not be safely coerced to any supported types according to the casting rule ''safe''\n",
      "\n",
      "  warnings.warn(\n",
      "C:\\Users\\gueye\\anaconda3\\lib\\site-packages\\sklearn\\discriminant_analysis.py:878: UserWarning: Variables are collinear\n",
      "  warnings.warn(\"Variables are collinear\")\n"
     ]
    },
    {
     "name": "stdout",
     "output_type": "stream",
     "text": [
      "[CV 3/5; 8/12] END ..........priors=, reg_param=6;, score=nan total time=   0.0s\n",
      "[CV 4/5; 8/12] START priors=, reg_param=6.......................................\n",
      "[CV 4/5; 8/12] END ..........priors=, reg_param=6;, score=nan total time=   0.0s\n",
      "[CV 5/5; 8/12] START priors=, reg_param=6.......................................\n",
      "[CV 5/5; 8/12] END ..........priors=, reg_param=6;, score=nan total time=   0.0s\n",
      "[CV 1/5; 9/12] START priors=, reg_param=9.......................................\n"
     ]
    },
    {
     "name": "stderr",
     "output_type": "stream",
     "text": [
      "C:\\Users\\gueye\\anaconda3\\lib\\site-packages\\sklearn\\discriminant_analysis.py:903: RuntimeWarning: invalid value encountered in power\n",
      "  X2 = np.dot(Xm, R * (S ** (-0.5)))\n",
      "C:\\Users\\gueye\\anaconda3\\lib\\site-packages\\sklearn\\discriminant_analysis.py:906: RuntimeWarning: invalid value encountered in log\n",
      "  u = np.asarray([np.sum(np.log(s)) for s in self.scalings_])\n",
      "C:\\Users\\gueye\\anaconda3\\lib\\site-packages\\sklearn\\model_selection\\_validation.py:770: UserWarning: Scoring failed. The score on this train-test partition for these parameters will be set to nan. Details: \n",
      "Traceback (most recent call last):\n",
      "  File \"C:\\Users\\gueye\\anaconda3\\lib\\site-packages\\sklearn\\model_selection\\_validation.py\", line 761, in _score\n",
      "    scores = scorer(estimator, X_test, y_test)\n",
      "  File \"C:\\Users\\gueye\\anaconda3\\lib\\site-packages\\sklearn\\metrics\\_scorer.py\", line 418, in _passthrough_scorer\n",
      "    return estimator.score(*args, **kwargs)\n",
      "  File \"C:\\Users\\gueye\\anaconda3\\lib\\site-packages\\sklearn\\base.py\", line 651, in score\n",
      "    return accuracy_score(y, self.predict(X), sample_weight=sample_weight)\n",
      "  File \"C:\\Users\\gueye\\anaconda3\\lib\\site-packages\\sklearn\\discriminant_analysis.py\", line 951, in predict\n",
      "    d = self._decision_function(X)\n",
      "  File \"C:\\Users\\gueye\\anaconda3\\lib\\site-packages\\sklearn\\discriminant_analysis.py\", line 907, in _decision_function\n",
      "    return -0.5 * (norm2 + u) + np.log(self.priors_)\n",
      "TypeError: ufunc 'log' not supported for the input types, and the inputs could not be safely coerced to any supported types according to the casting rule ''safe''\n",
      "\n",
      "  warnings.warn(\n",
      "C:\\Users\\gueye\\anaconda3\\lib\\site-packages\\sklearn\\discriminant_analysis.py:878: UserWarning: Variables are collinear\n",
      "  warnings.warn(\"Variables are collinear\")\n",
      "C:\\Users\\gueye\\anaconda3\\lib\\site-packages\\sklearn\\discriminant_analysis.py:903: RuntimeWarning: invalid value encountered in power\n",
      "  X2 = np.dot(Xm, R * (S ** (-0.5)))\n",
      "C:\\Users\\gueye\\anaconda3\\lib\\site-packages\\sklearn\\discriminant_analysis.py:906: RuntimeWarning: invalid value encountered in log\n",
      "  u = np.asarray([np.sum(np.log(s)) for s in self.scalings_])\n",
      "C:\\Users\\gueye\\anaconda3\\lib\\site-packages\\sklearn\\model_selection\\_validation.py:770: UserWarning: Scoring failed. The score on this train-test partition for these parameters will be set to nan. Details: \n",
      "Traceback (most recent call last):\n",
      "  File \"C:\\Users\\gueye\\anaconda3\\lib\\site-packages\\sklearn\\model_selection\\_validation.py\", line 761, in _score\n",
      "    scores = scorer(estimator, X_test, y_test)\n",
      "  File \"C:\\Users\\gueye\\anaconda3\\lib\\site-packages\\sklearn\\metrics\\_scorer.py\", line 418, in _passthrough_scorer\n",
      "    return estimator.score(*args, **kwargs)\n",
      "  File \"C:\\Users\\gueye\\anaconda3\\lib\\site-packages\\sklearn\\base.py\", line 651, in score\n",
      "    return accuracy_score(y, self.predict(X), sample_weight=sample_weight)\n",
      "  File \"C:\\Users\\gueye\\anaconda3\\lib\\site-packages\\sklearn\\discriminant_analysis.py\", line 951, in predict\n",
      "    d = self._decision_function(X)\n",
      "  File \"C:\\Users\\gueye\\anaconda3\\lib\\site-packages\\sklearn\\discriminant_analysis.py\", line 907, in _decision_function\n",
      "    return -0.5 * (norm2 + u) + np.log(self.priors_)\n",
      "TypeError: ufunc 'log' not supported for the input types, and the inputs could not be safely coerced to any supported types according to the casting rule ''safe''\n",
      "\n",
      "  warnings.warn(\n",
      "C:\\Users\\gueye\\anaconda3\\lib\\site-packages\\sklearn\\discriminant_analysis.py:878: UserWarning: Variables are collinear\n",
      "  warnings.warn(\"Variables are collinear\")\n",
      "C:\\Users\\gueye\\anaconda3\\lib\\site-packages\\sklearn\\discriminant_analysis.py:903: RuntimeWarning: invalid value encountered in power\n",
      "  X2 = np.dot(Xm, R * (S ** (-0.5)))\n",
      "C:\\Users\\gueye\\anaconda3\\lib\\site-packages\\sklearn\\discriminant_analysis.py:906: RuntimeWarning: invalid value encountered in log\n",
      "  u = np.asarray([np.sum(np.log(s)) for s in self.scalings_])\n",
      "C:\\Users\\gueye\\anaconda3\\lib\\site-packages\\sklearn\\model_selection\\_validation.py:770: UserWarning: Scoring failed. The score on this train-test partition for these parameters will be set to nan. Details: \n",
      "Traceback (most recent call last):\n",
      "  File \"C:\\Users\\gueye\\anaconda3\\lib\\site-packages\\sklearn\\model_selection\\_validation.py\", line 761, in _score\n",
      "    scores = scorer(estimator, X_test, y_test)\n",
      "  File \"C:\\Users\\gueye\\anaconda3\\lib\\site-packages\\sklearn\\metrics\\_scorer.py\", line 418, in _passthrough_scorer\n",
      "    return estimator.score(*args, **kwargs)\n",
      "  File \"C:\\Users\\gueye\\anaconda3\\lib\\site-packages\\sklearn\\base.py\", line 651, in score\n",
      "    return accuracy_score(y, self.predict(X), sample_weight=sample_weight)\n",
      "  File \"C:\\Users\\gueye\\anaconda3\\lib\\site-packages\\sklearn\\discriminant_analysis.py\", line 951, in predict\n",
      "    d = self._decision_function(X)\n",
      "  File \"C:\\Users\\gueye\\anaconda3\\lib\\site-packages\\sklearn\\discriminant_analysis.py\", line 907, in _decision_function\n",
      "    return -0.5 * (norm2 + u) + np.log(self.priors_)\n",
      "TypeError: ufunc 'log' not supported for the input types, and the inputs could not be safely coerced to any supported types according to the casting rule ''safe''\n",
      "\n",
      "  warnings.warn(\n",
      "C:\\Users\\gueye\\anaconda3\\lib\\site-packages\\sklearn\\discriminant_analysis.py:878: UserWarning: Variables are collinear\n",
      "  warnings.warn(\"Variables are collinear\")\n"
     ]
    },
    {
     "name": "stdout",
     "output_type": "stream",
     "text": [
      "[CV 1/5; 9/12] END ..........priors=, reg_param=9;, score=nan total time=   0.0s\n",
      "[CV 2/5; 9/12] START priors=, reg_param=9.......................................\n",
      "[CV 2/5; 9/12] END ..........priors=, reg_param=9;, score=nan total time=   0.0s\n",
      "[CV 3/5; 9/12] START priors=, reg_param=9.......................................\n",
      "[CV 3/5; 9/12] END ..........priors=, reg_param=9;, score=nan total time=   0.0s\n",
      "[CV 4/5; 9/12] START priors=, reg_param=9.......................................\n"
     ]
    },
    {
     "name": "stderr",
     "output_type": "stream",
     "text": [
      "C:\\Users\\gueye\\anaconda3\\lib\\site-packages\\sklearn\\discriminant_analysis.py:903: RuntimeWarning: invalid value encountered in power\n",
      "  X2 = np.dot(Xm, R * (S ** (-0.5)))\n",
      "C:\\Users\\gueye\\anaconda3\\lib\\site-packages\\sklearn\\discriminant_analysis.py:906: RuntimeWarning: invalid value encountered in log\n",
      "  u = np.asarray([np.sum(np.log(s)) for s in self.scalings_])\n",
      "C:\\Users\\gueye\\anaconda3\\lib\\site-packages\\sklearn\\model_selection\\_validation.py:770: UserWarning: Scoring failed. The score on this train-test partition for these parameters will be set to nan. Details: \n",
      "Traceback (most recent call last):\n",
      "  File \"C:\\Users\\gueye\\anaconda3\\lib\\site-packages\\sklearn\\model_selection\\_validation.py\", line 761, in _score\n",
      "    scores = scorer(estimator, X_test, y_test)\n",
      "  File \"C:\\Users\\gueye\\anaconda3\\lib\\site-packages\\sklearn\\metrics\\_scorer.py\", line 418, in _passthrough_scorer\n",
      "    return estimator.score(*args, **kwargs)\n",
      "  File \"C:\\Users\\gueye\\anaconda3\\lib\\site-packages\\sklearn\\base.py\", line 651, in score\n",
      "    return accuracy_score(y, self.predict(X), sample_weight=sample_weight)\n",
      "  File \"C:\\Users\\gueye\\anaconda3\\lib\\site-packages\\sklearn\\discriminant_analysis.py\", line 951, in predict\n",
      "    d = self._decision_function(X)\n",
      "  File \"C:\\Users\\gueye\\anaconda3\\lib\\site-packages\\sklearn\\discriminant_analysis.py\", line 907, in _decision_function\n",
      "    return -0.5 * (norm2 + u) + np.log(self.priors_)\n",
      "TypeError: ufunc 'log' not supported for the input types, and the inputs could not be safely coerced to any supported types according to the casting rule ''safe''\n",
      "\n",
      "  warnings.warn(\n",
      "C:\\Users\\gueye\\anaconda3\\lib\\site-packages\\sklearn\\discriminant_analysis.py:878: UserWarning: Variables are collinear\n",
      "  warnings.warn(\"Variables are collinear\")\n",
      "C:\\Users\\gueye\\anaconda3\\lib\\site-packages\\sklearn\\discriminant_analysis.py:903: RuntimeWarning: invalid value encountered in power\n",
      "  X2 = np.dot(Xm, R * (S ** (-0.5)))\n",
      "C:\\Users\\gueye\\anaconda3\\lib\\site-packages\\sklearn\\discriminant_analysis.py:906: RuntimeWarning: invalid value encountered in log\n",
      "  u = np.asarray([np.sum(np.log(s)) for s in self.scalings_])\n",
      "C:\\Users\\gueye\\anaconda3\\lib\\site-packages\\sklearn\\model_selection\\_validation.py:770: UserWarning: Scoring failed. The score on this train-test partition for these parameters will be set to nan. Details: \n",
      "Traceback (most recent call last):\n",
      "  File \"C:\\Users\\gueye\\anaconda3\\lib\\site-packages\\sklearn\\model_selection\\_validation.py\", line 761, in _score\n",
      "    scores = scorer(estimator, X_test, y_test)\n",
      "  File \"C:\\Users\\gueye\\anaconda3\\lib\\site-packages\\sklearn\\metrics\\_scorer.py\", line 418, in _passthrough_scorer\n",
      "    return estimator.score(*args, **kwargs)\n",
      "  File \"C:\\Users\\gueye\\anaconda3\\lib\\site-packages\\sklearn\\base.py\", line 651, in score\n",
      "    return accuracy_score(y, self.predict(X), sample_weight=sample_weight)\n",
      "  File \"C:\\Users\\gueye\\anaconda3\\lib\\site-packages\\sklearn\\discriminant_analysis.py\", line 951, in predict\n",
      "    d = self._decision_function(X)\n",
      "  File \"C:\\Users\\gueye\\anaconda3\\lib\\site-packages\\sklearn\\discriminant_analysis.py\", line 907, in _decision_function\n",
      "    return -0.5 * (norm2 + u) + np.log(self.priors_)\n",
      "TypeError: ufunc 'log' not supported for the input types, and the inputs could not be safely coerced to any supported types according to the casting rule ''safe''\n",
      "\n",
      "  warnings.warn(\n",
      "C:\\Users\\gueye\\anaconda3\\lib\\site-packages\\sklearn\\discriminant_analysis.py:878: UserWarning: Variables are collinear\n",
      "  warnings.warn(\"Variables are collinear\")\n",
      "C:\\Users\\gueye\\anaconda3\\lib\\site-packages\\sklearn\\discriminant_analysis.py:903: RuntimeWarning: invalid value encountered in power\n",
      "  X2 = np.dot(Xm, R * (S ** (-0.5)))\n",
      "C:\\Users\\gueye\\anaconda3\\lib\\site-packages\\sklearn\\discriminant_analysis.py:906: RuntimeWarning: invalid value encountered in log\n",
      "  u = np.asarray([np.sum(np.log(s)) for s in self.scalings_])\n",
      "C:\\Users\\gueye\\anaconda3\\lib\\site-packages\\sklearn\\model_selection\\_validation.py:770: UserWarning: Scoring failed. The score on this train-test partition for these parameters will be set to nan. Details: \n",
      "Traceback (most recent call last):\n",
      "  File \"C:\\Users\\gueye\\anaconda3\\lib\\site-packages\\sklearn\\model_selection\\_validation.py\", line 761, in _score\n",
      "    scores = scorer(estimator, X_test, y_test)\n",
      "  File \"C:\\Users\\gueye\\anaconda3\\lib\\site-packages\\sklearn\\metrics\\_scorer.py\", line 418, in _passthrough_scorer\n",
      "    return estimator.score(*args, **kwargs)\n",
      "  File \"C:\\Users\\gueye\\anaconda3\\lib\\site-packages\\sklearn\\base.py\", line 651, in score\n",
      "    return accuracy_score(y, self.predict(X), sample_weight=sample_weight)\n",
      "  File \"C:\\Users\\gueye\\anaconda3\\lib\\site-packages\\sklearn\\discriminant_analysis.py\", line 951, in predict\n",
      "    d = self._decision_function(X)\n",
      "  File \"C:\\Users\\gueye\\anaconda3\\lib\\site-packages\\sklearn\\discriminant_analysis.py\", line 907, in _decision_function\n",
      "    return -0.5 * (norm2 + u) + np.log(self.priors_)\n",
      "TypeError: ufunc 'log' not supported for the input types, and the inputs could not be safely coerced to any supported types according to the casting rule ''safe''\n",
      "\n",
      "  warnings.warn(\n"
     ]
    },
    {
     "name": "stdout",
     "output_type": "stream",
     "text": [
      "[CV 4/5; 9/12] END ..........priors=, reg_param=9;, score=nan total time=   0.0s\n",
      "[CV 5/5; 9/12] START priors=, reg_param=9.......................................\n",
      "[CV 5/5; 9/12] END ..........priors=, reg_param=9;, score=nan total time=   0.0s\n",
      "[CV 1/5; 10/12] START priors=, reg_param=6......................................\n",
      "[CV 1/5; 10/12] END .........priors=, reg_param=6;, score=nan total time=   0.0s\n",
      "[CV 2/5; 10/12] START priors=, reg_param=6......................................\n"
     ]
    },
    {
     "name": "stderr",
     "output_type": "stream",
     "text": [
      "C:\\Users\\gueye\\anaconda3\\lib\\site-packages\\sklearn\\discriminant_analysis.py:878: UserWarning: Variables are collinear\n",
      "  warnings.warn(\"Variables are collinear\")\n",
      "C:\\Users\\gueye\\anaconda3\\lib\\site-packages\\sklearn\\discriminant_analysis.py:903: RuntimeWarning: invalid value encountered in power\n",
      "  X2 = np.dot(Xm, R * (S ** (-0.5)))\n",
      "C:\\Users\\gueye\\anaconda3\\lib\\site-packages\\sklearn\\discriminant_analysis.py:906: RuntimeWarning: invalid value encountered in log\n",
      "  u = np.asarray([np.sum(np.log(s)) for s in self.scalings_])\n",
      "C:\\Users\\gueye\\anaconda3\\lib\\site-packages\\sklearn\\model_selection\\_validation.py:770: UserWarning: Scoring failed. The score on this train-test partition for these parameters will be set to nan. Details: \n",
      "Traceback (most recent call last):\n",
      "  File \"C:\\Users\\gueye\\anaconda3\\lib\\site-packages\\sklearn\\model_selection\\_validation.py\", line 761, in _score\n",
      "    scores = scorer(estimator, X_test, y_test)\n",
      "  File \"C:\\Users\\gueye\\anaconda3\\lib\\site-packages\\sklearn\\metrics\\_scorer.py\", line 418, in _passthrough_scorer\n",
      "    return estimator.score(*args, **kwargs)\n",
      "  File \"C:\\Users\\gueye\\anaconda3\\lib\\site-packages\\sklearn\\base.py\", line 651, in score\n",
      "    return accuracy_score(y, self.predict(X), sample_weight=sample_weight)\n",
      "  File \"C:\\Users\\gueye\\anaconda3\\lib\\site-packages\\sklearn\\discriminant_analysis.py\", line 951, in predict\n",
      "    d = self._decision_function(X)\n",
      "  File \"C:\\Users\\gueye\\anaconda3\\lib\\site-packages\\sklearn\\discriminant_analysis.py\", line 907, in _decision_function\n",
      "    return -0.5 * (norm2 + u) + np.log(self.priors_)\n",
      "TypeError: ufunc 'log' not supported for the input types, and the inputs could not be safely coerced to any supported types according to the casting rule ''safe''\n",
      "\n",
      "  warnings.warn(\n",
      "C:\\Users\\gueye\\anaconda3\\lib\\site-packages\\sklearn\\discriminant_analysis.py:878: UserWarning: Variables are collinear\n",
      "  warnings.warn(\"Variables are collinear\")\n",
      "C:\\Users\\gueye\\anaconda3\\lib\\site-packages\\sklearn\\discriminant_analysis.py:903: RuntimeWarning: invalid value encountered in power\n",
      "  X2 = np.dot(Xm, R * (S ** (-0.5)))\n",
      "C:\\Users\\gueye\\anaconda3\\lib\\site-packages\\sklearn\\discriminant_analysis.py:906: RuntimeWarning: invalid value encountered in log\n",
      "  u = np.asarray([np.sum(np.log(s)) for s in self.scalings_])\n",
      "C:\\Users\\gueye\\anaconda3\\lib\\site-packages\\sklearn\\model_selection\\_validation.py:770: UserWarning: Scoring failed. The score on this train-test partition for these parameters will be set to nan. Details: \n",
      "Traceback (most recent call last):\n",
      "  File \"C:\\Users\\gueye\\anaconda3\\lib\\site-packages\\sklearn\\model_selection\\_validation.py\", line 761, in _score\n",
      "    scores = scorer(estimator, X_test, y_test)\n",
      "  File \"C:\\Users\\gueye\\anaconda3\\lib\\site-packages\\sklearn\\metrics\\_scorer.py\", line 418, in _passthrough_scorer\n",
      "    return estimator.score(*args, **kwargs)\n",
      "  File \"C:\\Users\\gueye\\anaconda3\\lib\\site-packages\\sklearn\\base.py\", line 651, in score\n",
      "    return accuracy_score(y, self.predict(X), sample_weight=sample_weight)\n",
      "  File \"C:\\Users\\gueye\\anaconda3\\lib\\site-packages\\sklearn\\discriminant_analysis.py\", line 951, in predict\n",
      "    d = self._decision_function(X)\n",
      "  File \"C:\\Users\\gueye\\anaconda3\\lib\\site-packages\\sklearn\\discriminant_analysis.py\", line 907, in _decision_function\n",
      "    return -0.5 * (norm2 + u) + np.log(self.priors_)\n",
      "TypeError: ufunc 'log' not supported for the input types, and the inputs could not be safely coerced to any supported types according to the casting rule ''safe''\n",
      "\n",
      "  warnings.warn(\n",
      "C:\\Users\\gueye\\anaconda3\\lib\\site-packages\\sklearn\\discriminant_analysis.py:878: UserWarning: Variables are collinear\n",
      "  warnings.warn(\"Variables are collinear\")\n",
      "C:\\Users\\gueye\\anaconda3\\lib\\site-packages\\sklearn\\discriminant_analysis.py:903: RuntimeWarning: invalid value encountered in power\n",
      "  X2 = np.dot(Xm, R * (S ** (-0.5)))\n",
      "C:\\Users\\gueye\\anaconda3\\lib\\site-packages\\sklearn\\discriminant_analysis.py:906: RuntimeWarning: invalid value encountered in log\n",
      "  u = np.asarray([np.sum(np.log(s)) for s in self.scalings_])\n",
      "C:\\Users\\gueye\\anaconda3\\lib\\site-packages\\sklearn\\model_selection\\_validation.py:770: UserWarning: Scoring failed. The score on this train-test partition for these parameters will be set to nan. Details: \n",
      "Traceback (most recent call last):\n",
      "  File \"C:\\Users\\gueye\\anaconda3\\lib\\site-packages\\sklearn\\model_selection\\_validation.py\", line 761, in _score\n",
      "    scores = scorer(estimator, X_test, y_test)\n",
      "  File \"C:\\Users\\gueye\\anaconda3\\lib\\site-packages\\sklearn\\metrics\\_scorer.py\", line 418, in _passthrough_scorer\n",
      "    return estimator.score(*args, **kwargs)\n",
      "  File \"C:\\Users\\gueye\\anaconda3\\lib\\site-packages\\sklearn\\base.py\", line 651, in score\n",
      "    return accuracy_score(y, self.predict(X), sample_weight=sample_weight)\n",
      "  File \"C:\\Users\\gueye\\anaconda3\\lib\\site-packages\\sklearn\\discriminant_analysis.py\", line 951, in predict\n",
      "    d = self._decision_function(X)\n",
      "  File \"C:\\Users\\gueye\\anaconda3\\lib\\site-packages\\sklearn\\discriminant_analysis.py\", line 907, in _decision_function\n",
      "    return -0.5 * (norm2 + u) + np.log(self.priors_)\n",
      "TypeError: ufunc 'log' not supported for the input types, and the inputs could not be safely coerced to any supported types according to the casting rule ''safe''\n",
      "\n",
      "  warnings.warn(\n",
      "C:\\Users\\gueye\\anaconda3\\lib\\site-packages\\sklearn\\discriminant_analysis.py:878: UserWarning: Variables are collinear\n",
      "  warnings.warn(\"Variables are collinear\")\n"
     ]
    },
    {
     "name": "stdout",
     "output_type": "stream",
     "text": [
      "[CV 2/5; 10/12] END .........priors=, reg_param=6;, score=nan total time=   0.0s\n",
      "[CV 3/5; 10/12] START priors=, reg_param=6......................................\n",
      "[CV 3/5; 10/12] END .........priors=, reg_param=6;, score=nan total time=   0.0s\n",
      "[CV 4/5; 10/12] START priors=, reg_param=6......................................\n",
      "[CV 4/5; 10/12] END .........priors=, reg_param=6;, score=nan total time=   0.0s\n",
      "[CV 5/5; 10/12] START priors=, reg_param=6......................................\n"
     ]
    },
    {
     "name": "stderr",
     "output_type": "stream",
     "text": [
      "C:\\Users\\gueye\\anaconda3\\lib\\site-packages\\sklearn\\discriminant_analysis.py:903: RuntimeWarning: invalid value encountered in power\n",
      "  X2 = np.dot(Xm, R * (S ** (-0.5)))\n",
      "C:\\Users\\gueye\\anaconda3\\lib\\site-packages\\sklearn\\discriminant_analysis.py:906: RuntimeWarning: invalid value encountered in log\n",
      "  u = np.asarray([np.sum(np.log(s)) for s in self.scalings_])\n",
      "C:\\Users\\gueye\\anaconda3\\lib\\site-packages\\sklearn\\model_selection\\_validation.py:770: UserWarning: Scoring failed. The score on this train-test partition for these parameters will be set to nan. Details: \n",
      "Traceback (most recent call last):\n",
      "  File \"C:\\Users\\gueye\\anaconda3\\lib\\site-packages\\sklearn\\model_selection\\_validation.py\", line 761, in _score\n",
      "    scores = scorer(estimator, X_test, y_test)\n",
      "  File \"C:\\Users\\gueye\\anaconda3\\lib\\site-packages\\sklearn\\metrics\\_scorer.py\", line 418, in _passthrough_scorer\n",
      "    return estimator.score(*args, **kwargs)\n",
      "  File \"C:\\Users\\gueye\\anaconda3\\lib\\site-packages\\sklearn\\base.py\", line 651, in score\n",
      "    return accuracy_score(y, self.predict(X), sample_weight=sample_weight)\n",
      "  File \"C:\\Users\\gueye\\anaconda3\\lib\\site-packages\\sklearn\\discriminant_analysis.py\", line 951, in predict\n",
      "    d = self._decision_function(X)\n",
      "  File \"C:\\Users\\gueye\\anaconda3\\lib\\site-packages\\sklearn\\discriminant_analysis.py\", line 907, in _decision_function\n",
      "    return -0.5 * (norm2 + u) + np.log(self.priors_)\n",
      "TypeError: ufunc 'log' not supported for the input types, and the inputs could not be safely coerced to any supported types according to the casting rule ''safe''\n",
      "\n",
      "  warnings.warn(\n",
      "C:\\Users\\gueye\\anaconda3\\lib\\site-packages\\sklearn\\discriminant_analysis.py:878: UserWarning: Variables are collinear\n",
      "  warnings.warn(\"Variables are collinear\")\n",
      "C:\\Users\\gueye\\anaconda3\\lib\\site-packages\\sklearn\\discriminant_analysis.py:903: RuntimeWarning: invalid value encountered in power\n",
      "  X2 = np.dot(Xm, R * (S ** (-0.5)))\n",
      "C:\\Users\\gueye\\anaconda3\\lib\\site-packages\\sklearn\\discriminant_analysis.py:906: RuntimeWarning: invalid value encountered in log\n",
      "  u = np.asarray([np.sum(np.log(s)) for s in self.scalings_])\n",
      "C:\\Users\\gueye\\anaconda3\\lib\\site-packages\\sklearn\\model_selection\\_validation.py:770: UserWarning: Scoring failed. The score on this train-test partition for these parameters will be set to nan. Details: \n",
      "Traceback (most recent call last):\n",
      "  File \"C:\\Users\\gueye\\anaconda3\\lib\\site-packages\\sklearn\\model_selection\\_validation.py\", line 761, in _score\n",
      "    scores = scorer(estimator, X_test, y_test)\n",
      "  File \"C:\\Users\\gueye\\anaconda3\\lib\\site-packages\\sklearn\\metrics\\_scorer.py\", line 418, in _passthrough_scorer\n",
      "    return estimator.score(*args, **kwargs)\n",
      "  File \"C:\\Users\\gueye\\anaconda3\\lib\\site-packages\\sklearn\\base.py\", line 651, in score\n",
      "    return accuracy_score(y, self.predict(X), sample_weight=sample_weight)\n",
      "  File \"C:\\Users\\gueye\\anaconda3\\lib\\site-packages\\sklearn\\discriminant_analysis.py\", line 951, in predict\n",
      "    d = self._decision_function(X)\n",
      "  File \"C:\\Users\\gueye\\anaconda3\\lib\\site-packages\\sklearn\\discriminant_analysis.py\", line 907, in _decision_function\n",
      "    return -0.5 * (norm2 + u) + np.log(self.priors_)\n",
      "TypeError: ufunc 'log' not supported for the input types, and the inputs could not be safely coerced to any supported types according to the casting rule ''safe''\n",
      "\n",
      "  warnings.warn(\n",
      "C:\\Users\\gueye\\anaconda3\\lib\\site-packages\\sklearn\\discriminant_analysis.py:878: UserWarning: Variables are collinear\n",
      "  warnings.warn(\"Variables are collinear\")\n",
      "C:\\Users\\gueye\\anaconda3\\lib\\site-packages\\sklearn\\discriminant_analysis.py:903: RuntimeWarning: invalid value encountered in power\n",
      "  X2 = np.dot(Xm, R * (S ** (-0.5)))\n",
      "C:\\Users\\gueye\\anaconda3\\lib\\site-packages\\sklearn\\discriminant_analysis.py:906: RuntimeWarning: invalid value encountered in log\n",
      "  u = np.asarray([np.sum(np.log(s)) for s in self.scalings_])\n",
      "C:\\Users\\gueye\\anaconda3\\lib\\site-packages\\sklearn\\model_selection\\_validation.py:770: UserWarning: Scoring failed. The score on this train-test partition for these parameters will be set to nan. Details: \n",
      "Traceback (most recent call last):\n",
      "  File \"C:\\Users\\gueye\\anaconda3\\lib\\site-packages\\sklearn\\model_selection\\_validation.py\", line 761, in _score\n",
      "    scores = scorer(estimator, X_test, y_test)\n",
      "  File \"C:\\Users\\gueye\\anaconda3\\lib\\site-packages\\sklearn\\metrics\\_scorer.py\", line 418, in _passthrough_scorer\n",
      "    return estimator.score(*args, **kwargs)\n",
      "  File \"C:\\Users\\gueye\\anaconda3\\lib\\site-packages\\sklearn\\base.py\", line 651, in score\n",
      "    return accuracy_score(y, self.predict(X), sample_weight=sample_weight)\n",
      "  File \"C:\\Users\\gueye\\anaconda3\\lib\\site-packages\\sklearn\\discriminant_analysis.py\", line 951, in predict\n",
      "    d = self._decision_function(X)\n",
      "  File \"C:\\Users\\gueye\\anaconda3\\lib\\site-packages\\sklearn\\discriminant_analysis.py\", line 907, in _decision_function\n",
      "    return -0.5 * (norm2 + u) + np.log(self.priors_)\n",
      "TypeError: ufunc 'log' not supported for the input types, and the inputs could not be safely coerced to any supported types according to the casting rule ''safe''\n",
      "\n",
      "  warnings.warn(\n",
      "C:\\Users\\gueye\\anaconda3\\lib\\site-packages\\sklearn\\discriminant_analysis.py:878: UserWarning: Variables are collinear\n",
      "  warnings.warn(\"Variables are collinear\")\n",
      "C:\\Users\\gueye\\anaconda3\\lib\\site-packages\\sklearn\\discriminant_analysis.py:903: RuntimeWarning: invalid value encountered in power\n",
      "  X2 = np.dot(Xm, R * (S ** (-0.5)))\n"
     ]
    },
    {
     "name": "stdout",
     "output_type": "stream",
     "text": [
      "[CV 5/5; 10/12] END .........priors=, reg_param=6;, score=nan total time=   0.0s\n",
      "[CV 1/5; 11/12] START priors=, reg_param=3......................................\n",
      "[CV 1/5; 11/12] END .........priors=, reg_param=3;, score=nan total time=   0.0s\n",
      "[CV 2/5; 11/12] START priors=, reg_param=3......................................\n",
      "[CV 2/5; 11/12] END .........priors=, reg_param=3;, score=nan total time=   0.0s\n",
      "[CV 3/5; 11/12] START priors=, reg_param=3......................................\n"
     ]
    },
    {
     "name": "stderr",
     "output_type": "stream",
     "text": [
      "C:\\Users\\gueye\\anaconda3\\lib\\site-packages\\sklearn\\discriminant_analysis.py:906: RuntimeWarning: invalid value encountered in log\n",
      "  u = np.asarray([np.sum(np.log(s)) for s in self.scalings_])\n",
      "C:\\Users\\gueye\\anaconda3\\lib\\site-packages\\sklearn\\model_selection\\_validation.py:770: UserWarning: Scoring failed. The score on this train-test partition for these parameters will be set to nan. Details: \n",
      "Traceback (most recent call last):\n",
      "  File \"C:\\Users\\gueye\\anaconda3\\lib\\site-packages\\sklearn\\model_selection\\_validation.py\", line 761, in _score\n",
      "    scores = scorer(estimator, X_test, y_test)\n",
      "  File \"C:\\Users\\gueye\\anaconda3\\lib\\site-packages\\sklearn\\metrics\\_scorer.py\", line 418, in _passthrough_scorer\n",
      "    return estimator.score(*args, **kwargs)\n",
      "  File \"C:\\Users\\gueye\\anaconda3\\lib\\site-packages\\sklearn\\base.py\", line 651, in score\n",
      "    return accuracy_score(y, self.predict(X), sample_weight=sample_weight)\n",
      "  File \"C:\\Users\\gueye\\anaconda3\\lib\\site-packages\\sklearn\\discriminant_analysis.py\", line 951, in predict\n",
      "    d = self._decision_function(X)\n",
      "  File \"C:\\Users\\gueye\\anaconda3\\lib\\site-packages\\sklearn\\discriminant_analysis.py\", line 907, in _decision_function\n",
      "    return -0.5 * (norm2 + u) + np.log(self.priors_)\n",
      "TypeError: ufunc 'log' not supported for the input types, and the inputs could not be safely coerced to any supported types according to the casting rule ''safe''\n",
      "\n",
      "  warnings.warn(\n",
      "C:\\Users\\gueye\\anaconda3\\lib\\site-packages\\sklearn\\discriminant_analysis.py:878: UserWarning: Variables are collinear\n",
      "  warnings.warn(\"Variables are collinear\")\n",
      "C:\\Users\\gueye\\anaconda3\\lib\\site-packages\\sklearn\\discriminant_analysis.py:903: RuntimeWarning: invalid value encountered in power\n",
      "  X2 = np.dot(Xm, R * (S ** (-0.5)))\n",
      "C:\\Users\\gueye\\anaconda3\\lib\\site-packages\\sklearn\\discriminant_analysis.py:906: RuntimeWarning: invalid value encountered in log\n",
      "  u = np.asarray([np.sum(np.log(s)) for s in self.scalings_])\n",
      "C:\\Users\\gueye\\anaconda3\\lib\\site-packages\\sklearn\\model_selection\\_validation.py:770: UserWarning: Scoring failed. The score on this train-test partition for these parameters will be set to nan. Details: \n",
      "Traceback (most recent call last):\n",
      "  File \"C:\\Users\\gueye\\anaconda3\\lib\\site-packages\\sklearn\\model_selection\\_validation.py\", line 761, in _score\n",
      "    scores = scorer(estimator, X_test, y_test)\n",
      "  File \"C:\\Users\\gueye\\anaconda3\\lib\\site-packages\\sklearn\\metrics\\_scorer.py\", line 418, in _passthrough_scorer\n",
      "    return estimator.score(*args, **kwargs)\n",
      "  File \"C:\\Users\\gueye\\anaconda3\\lib\\site-packages\\sklearn\\base.py\", line 651, in score\n",
      "    return accuracy_score(y, self.predict(X), sample_weight=sample_weight)\n",
      "  File \"C:\\Users\\gueye\\anaconda3\\lib\\site-packages\\sklearn\\discriminant_analysis.py\", line 951, in predict\n",
      "    d = self._decision_function(X)\n",
      "  File \"C:\\Users\\gueye\\anaconda3\\lib\\site-packages\\sklearn\\discriminant_analysis.py\", line 907, in _decision_function\n",
      "    return -0.5 * (norm2 + u) + np.log(self.priors_)\n",
      "TypeError: ufunc 'log' not supported for the input types, and the inputs could not be safely coerced to any supported types according to the casting rule ''safe''\n",
      "\n",
      "  warnings.warn(\n",
      "C:\\Users\\gueye\\anaconda3\\lib\\site-packages\\sklearn\\discriminant_analysis.py:878: UserWarning: Variables are collinear\n",
      "  warnings.warn(\"Variables are collinear\")\n",
      "C:\\Users\\gueye\\anaconda3\\lib\\site-packages\\sklearn\\discriminant_analysis.py:903: RuntimeWarning: invalid value encountered in power\n",
      "  X2 = np.dot(Xm, R * (S ** (-0.5)))\n",
      "C:\\Users\\gueye\\anaconda3\\lib\\site-packages\\sklearn\\discriminant_analysis.py:906: RuntimeWarning: invalid value encountered in log\n",
      "  u = np.asarray([np.sum(np.log(s)) for s in self.scalings_])\n",
      "C:\\Users\\gueye\\anaconda3\\lib\\site-packages\\sklearn\\model_selection\\_validation.py:770: UserWarning: Scoring failed. The score on this train-test partition for these parameters will be set to nan. Details: \n",
      "Traceback (most recent call last):\n",
      "  File \"C:\\Users\\gueye\\anaconda3\\lib\\site-packages\\sklearn\\model_selection\\_validation.py\", line 761, in _score\n",
      "    scores = scorer(estimator, X_test, y_test)\n",
      "  File \"C:\\Users\\gueye\\anaconda3\\lib\\site-packages\\sklearn\\metrics\\_scorer.py\", line 418, in _passthrough_scorer\n",
      "    return estimator.score(*args, **kwargs)\n",
      "  File \"C:\\Users\\gueye\\anaconda3\\lib\\site-packages\\sklearn\\base.py\", line 651, in score\n",
      "    return accuracy_score(y, self.predict(X), sample_weight=sample_weight)\n",
      "  File \"C:\\Users\\gueye\\anaconda3\\lib\\site-packages\\sklearn\\discriminant_analysis.py\", line 951, in predict\n",
      "    d = self._decision_function(X)\n",
      "  File \"C:\\Users\\gueye\\anaconda3\\lib\\site-packages\\sklearn\\discriminant_analysis.py\", line 907, in _decision_function\n",
      "    return -0.5 * (norm2 + u) + np.log(self.priors_)\n",
      "TypeError: ufunc 'log' not supported for the input types, and the inputs could not be safely coerced to any supported types according to the casting rule ''safe''\n",
      "\n",
      "  warnings.warn(\n",
      "C:\\Users\\gueye\\anaconda3\\lib\\site-packages\\sklearn\\discriminant_analysis.py:878: UserWarning: Variables are collinear\n",
      "  warnings.warn(\"Variables are collinear\")\n"
     ]
    },
    {
     "name": "stdout",
     "output_type": "stream",
     "text": [
      "[CV 3/5; 11/12] END .........priors=, reg_param=3;, score=nan total time=   0.0s\n",
      "[CV 4/5; 11/12] START priors=, reg_param=3......................................\n",
      "[CV 4/5; 11/12] END .........priors=, reg_param=3;, score=nan total time=   0.0s\n",
      "[CV 5/5; 11/12] START priors=, reg_param=3......................................\n",
      "[CV 5/5; 11/12] END .........priors=, reg_param=3;, score=nan total time=   0.0s\n",
      "[CV 1/5; 12/12] START priors=, reg_param=7......................................\n",
      "[CV 1/5; 12/12] END .........priors=, reg_param=7;, score=nan total time=   0.0s\n",
      "[CV 2/5; 12/12] START priors=, reg_param=7......................................"
     ]
    },
    {
     "name": "stderr",
     "output_type": "stream",
     "text": [
      "C:\\Users\\gueye\\anaconda3\\lib\\site-packages\\sklearn\\discriminant_analysis.py:903: RuntimeWarning: invalid value encountered in power\n",
      "  X2 = np.dot(Xm, R * (S ** (-0.5)))\n",
      "C:\\Users\\gueye\\anaconda3\\lib\\site-packages\\sklearn\\discriminant_analysis.py:906: RuntimeWarning: invalid value encountered in log\n",
      "  u = np.asarray([np.sum(np.log(s)) for s in self.scalings_])\n",
      "C:\\Users\\gueye\\anaconda3\\lib\\site-packages\\sklearn\\model_selection\\_validation.py:770: UserWarning: Scoring failed. The score on this train-test partition for these parameters will be set to nan. Details: \n",
      "Traceback (most recent call last):\n",
      "  File \"C:\\Users\\gueye\\anaconda3\\lib\\site-packages\\sklearn\\model_selection\\_validation.py\", line 761, in _score\n",
      "    scores = scorer(estimator, X_test, y_test)\n",
      "  File \"C:\\Users\\gueye\\anaconda3\\lib\\site-packages\\sklearn\\metrics\\_scorer.py\", line 418, in _passthrough_scorer\n",
      "    return estimator.score(*args, **kwargs)\n",
      "  File \"C:\\Users\\gueye\\anaconda3\\lib\\site-packages\\sklearn\\base.py\", line 651, in score\n",
      "    return accuracy_score(y, self.predict(X), sample_weight=sample_weight)\n",
      "  File \"C:\\Users\\gueye\\anaconda3\\lib\\site-packages\\sklearn\\discriminant_analysis.py\", line 951, in predict\n",
      "    d = self._decision_function(X)\n",
      "  File \"C:\\Users\\gueye\\anaconda3\\lib\\site-packages\\sklearn\\discriminant_analysis.py\", line 907, in _decision_function\n",
      "    return -0.5 * (norm2 + u) + np.log(self.priors_)\n",
      "TypeError: ufunc 'log' not supported for the input types, and the inputs could not be safely coerced to any supported types according to the casting rule ''safe''\n",
      "\n",
      "  warnings.warn(\n",
      "C:\\Users\\gueye\\anaconda3\\lib\\site-packages\\sklearn\\discriminant_analysis.py:878: UserWarning: Variables are collinear\n",
      "  warnings.warn(\"Variables are collinear\")\n",
      "C:\\Users\\gueye\\anaconda3\\lib\\site-packages\\sklearn\\discriminant_analysis.py:903: RuntimeWarning: invalid value encountered in power\n",
      "  X2 = np.dot(Xm, R * (S ** (-0.5)))\n",
      "C:\\Users\\gueye\\anaconda3\\lib\\site-packages\\sklearn\\discriminant_analysis.py:906: RuntimeWarning: invalid value encountered in log\n",
      "  u = np.asarray([np.sum(np.log(s)) for s in self.scalings_])\n",
      "C:\\Users\\gueye\\anaconda3\\lib\\site-packages\\sklearn\\model_selection\\_validation.py:770: UserWarning: Scoring failed. The score on this train-test partition for these parameters will be set to nan. Details: \n",
      "Traceback (most recent call last):\n",
      "  File \"C:\\Users\\gueye\\anaconda3\\lib\\site-packages\\sklearn\\model_selection\\_validation.py\", line 761, in _score\n",
      "    scores = scorer(estimator, X_test, y_test)\n",
      "  File \"C:\\Users\\gueye\\anaconda3\\lib\\site-packages\\sklearn\\metrics\\_scorer.py\", line 418, in _passthrough_scorer\n",
      "    return estimator.score(*args, **kwargs)\n",
      "  File \"C:\\Users\\gueye\\anaconda3\\lib\\site-packages\\sklearn\\base.py\", line 651, in score\n",
      "    return accuracy_score(y, self.predict(X), sample_weight=sample_weight)\n",
      "  File \"C:\\Users\\gueye\\anaconda3\\lib\\site-packages\\sklearn\\discriminant_analysis.py\", line 951, in predict\n",
      "    d = self._decision_function(X)\n",
      "  File \"C:\\Users\\gueye\\anaconda3\\lib\\site-packages\\sklearn\\discriminant_analysis.py\", line 907, in _decision_function\n",
      "    return -0.5 * (norm2 + u) + np.log(self.priors_)\n",
      "TypeError: ufunc 'log' not supported for the input types, and the inputs could not be safely coerced to any supported types according to the casting rule ''safe''\n",
      "\n",
      "  warnings.warn(\n",
      "C:\\Users\\gueye\\anaconda3\\lib\\site-packages\\sklearn\\discriminant_analysis.py:878: UserWarning: Variables are collinear\n",
      "  warnings.warn(\"Variables are collinear\")\n",
      "C:\\Users\\gueye\\anaconda3\\lib\\site-packages\\sklearn\\discriminant_analysis.py:903: RuntimeWarning: invalid value encountered in power\n",
      "  X2 = np.dot(Xm, R * (S ** (-0.5)))\n",
      "C:\\Users\\gueye\\anaconda3\\lib\\site-packages\\sklearn\\discriminant_analysis.py:906: RuntimeWarning: invalid value encountered in log\n",
      "  u = np.asarray([np.sum(np.log(s)) for s in self.scalings_])\n",
      "C:\\Users\\gueye\\anaconda3\\lib\\site-packages\\sklearn\\model_selection\\_validation.py:770: UserWarning: Scoring failed. The score on this train-test partition for these parameters will be set to nan. Details: \n",
      "Traceback (most recent call last):\n",
      "  File \"C:\\Users\\gueye\\anaconda3\\lib\\site-packages\\sklearn\\model_selection\\_validation.py\", line 761, in _score\n",
      "    scores = scorer(estimator, X_test, y_test)\n",
      "  File \"C:\\Users\\gueye\\anaconda3\\lib\\site-packages\\sklearn\\metrics\\_scorer.py\", line 418, in _passthrough_scorer\n",
      "    return estimator.score(*args, **kwargs)\n",
      "  File \"C:\\Users\\gueye\\anaconda3\\lib\\site-packages\\sklearn\\base.py\", line 651, in score\n",
      "    return accuracy_score(y, self.predict(X), sample_weight=sample_weight)\n",
      "  File \"C:\\Users\\gueye\\anaconda3\\lib\\site-packages\\sklearn\\discriminant_analysis.py\", line 951, in predict\n",
      "    d = self._decision_function(X)\n",
      "  File \"C:\\Users\\gueye\\anaconda3\\lib\\site-packages\\sklearn\\discriminant_analysis.py\", line 907, in _decision_function\n",
      "    return -0.5 * (norm2 + u) + np.log(self.priors_)\n",
      "TypeError: ufunc 'log' not supported for the input types, and the inputs could not be safely coerced to any supported types according to the casting rule ''safe''\n",
      "\n",
      "  warnings.warn(\n",
      "C:\\Users\\gueye\\anaconda3\\lib\\site-packages\\sklearn\\discriminant_analysis.py:878: UserWarning: Variables are collinear\n",
      "  warnings.warn(\"Variables are collinear\")\n"
     ]
    },
    {
     "name": "stdout",
     "output_type": "stream",
     "text": [
      "\n",
      "[CV 2/5; 12/12] END .........priors=, reg_param=7;, score=nan total time=   0.0s\n",
      "[CV 3/5; 12/12] START priors=, reg_param=7......................................\n",
      "[CV 3/5; 12/12] END .........priors=, reg_param=7;, score=nan total time=   0.0s\n",
      "[CV 4/5; 12/12] START priors=, reg_param=7......................................\n",
      "[CV 4/5; 12/12] END .........priors=, reg_param=7;, score=nan total time=   0.0s\n",
      "[CV 5/5; 12/12] START priors=, reg_param=7......................................\n",
      "[CV 5/5; 12/12] END .........priors=, reg_param=7;, score=nan total time=   0.0s\n"
     ]
    },
    {
     "name": "stderr",
     "output_type": "stream",
     "text": [
      "C:\\Users\\gueye\\anaconda3\\lib\\site-packages\\sklearn\\discriminant_analysis.py:903: RuntimeWarning: invalid value encountered in power\n",
      "  X2 = np.dot(Xm, R * (S ** (-0.5)))\n",
      "C:\\Users\\gueye\\anaconda3\\lib\\site-packages\\sklearn\\discriminant_analysis.py:906: RuntimeWarning: invalid value encountered in log\n",
      "  u = np.asarray([np.sum(np.log(s)) for s in self.scalings_])\n",
      "C:\\Users\\gueye\\anaconda3\\lib\\site-packages\\sklearn\\model_selection\\_validation.py:770: UserWarning: Scoring failed. The score on this train-test partition for these parameters will be set to nan. Details: \n",
      "Traceback (most recent call last):\n",
      "  File \"C:\\Users\\gueye\\anaconda3\\lib\\site-packages\\sklearn\\model_selection\\_validation.py\", line 761, in _score\n",
      "    scores = scorer(estimator, X_test, y_test)\n",
      "  File \"C:\\Users\\gueye\\anaconda3\\lib\\site-packages\\sklearn\\metrics\\_scorer.py\", line 418, in _passthrough_scorer\n",
      "    return estimator.score(*args, **kwargs)\n",
      "  File \"C:\\Users\\gueye\\anaconda3\\lib\\site-packages\\sklearn\\base.py\", line 651, in score\n",
      "    return accuracy_score(y, self.predict(X), sample_weight=sample_weight)\n",
      "  File \"C:\\Users\\gueye\\anaconda3\\lib\\site-packages\\sklearn\\discriminant_analysis.py\", line 951, in predict\n",
      "    d = self._decision_function(X)\n",
      "  File \"C:\\Users\\gueye\\anaconda3\\lib\\site-packages\\sklearn\\discriminant_analysis.py\", line 907, in _decision_function\n",
      "    return -0.5 * (norm2 + u) + np.log(self.priors_)\n",
      "TypeError: ufunc 'log' not supported for the input types, and the inputs could not be safely coerced to any supported types according to the casting rule ''safe''\n",
      "\n",
      "  warnings.warn(\n",
      "C:\\Users\\gueye\\anaconda3\\lib\\site-packages\\sklearn\\discriminant_analysis.py:878: UserWarning: Variables are collinear\n",
      "  warnings.warn(\"Variables are collinear\")\n",
      "C:\\Users\\gueye\\anaconda3\\lib\\site-packages\\sklearn\\discriminant_analysis.py:903: RuntimeWarning: invalid value encountered in power\n",
      "  X2 = np.dot(Xm, R * (S ** (-0.5)))\n",
      "C:\\Users\\gueye\\anaconda3\\lib\\site-packages\\sklearn\\discriminant_analysis.py:906: RuntimeWarning: invalid value encountered in log\n",
      "  u = np.asarray([np.sum(np.log(s)) for s in self.scalings_])\n",
      "C:\\Users\\gueye\\anaconda3\\lib\\site-packages\\sklearn\\model_selection\\_validation.py:770: UserWarning: Scoring failed. The score on this train-test partition for these parameters will be set to nan. Details: \n",
      "Traceback (most recent call last):\n",
      "  File \"C:\\Users\\gueye\\anaconda3\\lib\\site-packages\\sklearn\\model_selection\\_validation.py\", line 761, in _score\n",
      "    scores = scorer(estimator, X_test, y_test)\n",
      "  File \"C:\\Users\\gueye\\anaconda3\\lib\\site-packages\\sklearn\\metrics\\_scorer.py\", line 418, in _passthrough_scorer\n",
      "    return estimator.score(*args, **kwargs)\n",
      "  File \"C:\\Users\\gueye\\anaconda3\\lib\\site-packages\\sklearn\\base.py\", line 651, in score\n",
      "    return accuracy_score(y, self.predict(X), sample_weight=sample_weight)\n",
      "  File \"C:\\Users\\gueye\\anaconda3\\lib\\site-packages\\sklearn\\discriminant_analysis.py\", line 951, in predict\n",
      "    d = self._decision_function(X)\n",
      "  File \"C:\\Users\\gueye\\anaconda3\\lib\\site-packages\\sklearn\\discriminant_analysis.py\", line 907, in _decision_function\n",
      "    return -0.5 * (norm2 + u) + np.log(self.priors_)\n",
      "TypeError: ufunc 'log' not supported for the input types, and the inputs could not be safely coerced to any supported types according to the casting rule ''safe''\n",
      "\n",
      "  warnings.warn(\n",
      "C:\\Users\\gueye\\anaconda3\\lib\\site-packages\\sklearn\\model_selection\\_search.py:969: UserWarning: One or more of the test scores are non-finite: [0.83657279 0.8577068  0.8577068  0.8577068  0.8577068  0.8577068\n",
      "        nan        nan        nan        nan        nan        nan]\n",
      "  warnings.warn(\n",
      "C:\\Users\\gueye\\anaconda3\\lib\\site-packages\\sklearn\\discriminant_analysis.py:878: UserWarning: Variables are collinear\n",
      "  warnings.warn(\"Variables are collinear\")\n"
     ]
    },
    {
     "data": {
      "text/plain": [
       "GridSearchCV(cv=5, estimator=QuadraticDiscriminantAnalysis(),\n",
       "             param_grid=[{'priors': [None, ''],\n",
       "                          'reg_param': [1, 6, 9, 6, 3, 7]}],\n",
       "             verbose=10)"
      ]
     },
     "execution_count": 19,
     "metadata": {},
     "output_type": "execute_result"
    }
   ],
   "source": [
    "#optimisation du modéle QDA\n",
    "from sklearn.model_selection import GridSearchCV\n",
    "#parametre du grid\n",
    "params=[\n",
    "     {'priors':[None,''],\n",
    "      'reg_param':[1,6,9,6,3,7]\n",
    "     }\n",
    "]\n",
    "##instantiation du model\n",
    "qda_best_model=GridSearchCV(model_qda,params,cv=5,verbose=10)\n",
    "qda_best_model.fit(X_Train,y_Train)"
   ]
  },
  {
   "cell_type": "code",
   "execution_count": 20,
   "id": "17797e21",
   "metadata": {},
   "outputs": [
    {
     "data": {
      "text/plain": [
       "{'priors': None, 'reg_param': 6}"
      ]
     },
     "execution_count": 20,
     "metadata": {},
     "output_type": "execute_result"
    }
   ],
   "source": [
    "#parametres optionnaux\n",
    "qda_best_model.best_params_"
   ]
  },
  {
   "cell_type": "code",
   "execution_count": 21,
   "id": "5a1dccf5",
   "metadata": {},
   "outputs": [
    {
     "data": {
      "text/plain": [
       "QuadraticDiscriminantAnalysis(reg_param=6)"
      ]
     },
     "execution_count": 21,
     "metadata": {},
     "output_type": "execute_result"
    }
   ],
   "source": [
    "#model optimal\n",
    "qda_best_model.best_estimator_"
   ]
  },
  {
   "cell_type": "code",
   "execution_count": 22,
   "id": "eb81984e",
   "metadata": {},
   "outputs": [
    {
     "data": {
      "text/plain": [
       "0.8577067950249015"
      ]
     },
     "execution_count": 22,
     "metadata": {},
     "output_type": "execute_result"
    }
   ],
   "source": [
    "#meilleur score\n",
    "qda_best_model.best_score_"
   ]
  },
  {
   "cell_type": "code",
   "execution_count": 23,
   "id": "5c8577ff",
   "metadata": {},
   "outputs": [
    {
     "name": "stdout",
     "output_type": "stream",
     "text": [
      "le taux accuracy knn_best est de 0.86270898271465\n"
     ]
    },
    {
     "name": "stderr",
     "output_type": "stream",
     "text": [
      "C:\\Users\\gueye\\anaconda3\\lib\\site-packages\\sklearn\\discriminant_analysis.py:903: RuntimeWarning: invalid value encountered in power\n",
      "  X2 = np.dot(Xm, R * (S ** (-0.5)))\n",
      "C:\\Users\\gueye\\anaconda3\\lib\\site-packages\\sklearn\\discriminant_analysis.py:906: RuntimeWarning: invalid value encountered in log\n",
      "  u = np.asarray([np.sum(np.log(s)) for s in self.scalings_])\n"
     ]
    }
   ],
   "source": [
    "#Mesure d'evaluation de qda_best\n",
    "pred_qda_best = qda_best_model.best_estimator_.predict(X_Test)\n",
    "qda_best_acc = accuracy_score(y_Test,pred_qda_best)\n",
    "print('le taux accuracy knn_best est de', qda_best_acc)"
   ]
  },
  {
   "cell_type": "markdown",
   "id": "2f5b4471",
   "metadata": {},
   "source": [
    "# Modele KNN"
   ]
  },
  {
   "cell_type": "code",
   "execution_count": 24,
   "id": "79bf20a0",
   "metadata": {},
   "outputs": [
    {
     "name": "stdout",
     "output_type": "stream",
     "text": [
      "Le taux accurancy est de : 0.8818362142249929\n"
     ]
    }
   ],
   "source": [
    "### Application du modéle knn\n",
    "from sklearn.metrics import accuracy_score\n",
    "#Appel de la fonction\n",
    "from sklearn.neighbors import KNeighborsClassifier\n",
    "####  1. Instanciation du modele\n",
    "model_knn = KNeighborsClassifier(n_neighbors=5)\n",
    "model_knn\n",
    "#### 2. Fitting du modéle\n",
    "model_knn.fit(X_Train, y_Train)\n",
    "model_knn\n",
    "#### 3.Prediction\n",
    "pred=model_knn.predict(X_Test)\n",
    "pred\n",
    "#Mesure d'evaluation\n",
    "knn_acc=accuracy_score(pred,y_Test)\n",
    "print('Le taux accurancy est de :',knn_acc)"
   ]
  },
  {
   "cell_type": "code",
   "execution_count": 25,
   "id": "81441ce3",
   "metadata": {},
   "outputs": [
    {
     "name": "stdout",
     "output_type": "stream",
     "text": [
      "Fitting 5 folds for each of 10 candidates, totalling 50 fits\n",
      "[CV 1/5; 1/10] START n_neighbors=1..............................................\n",
      "[CV 1/5; 1/10] END ...............n_neighbors=1;, score=0.835 total time=   1.4s\n",
      "[CV 2/5; 1/10] START n_neighbors=1..............................................\n",
      "[CV 2/5; 1/10] END ...............n_neighbors=1;, score=0.833 total time=   1.4s\n",
      "[CV 3/5; 1/10] START n_neighbors=1..............................................\n",
      "[CV 3/5; 1/10] END ...............n_neighbors=1;, score=0.829 total time=   1.4s\n",
      "[CV 4/5; 1/10] START n_neighbors=1..............................................\n",
      "[CV 4/5; 1/10] END ...............n_neighbors=1;, score=0.837 total time=   1.4s\n",
      "[CV 5/5; 1/10] START n_neighbors=1..............................................\n",
      "[CV 5/5; 1/10] END ...............n_neighbors=1;, score=0.839 total time=   1.4s\n",
      "[CV 1/5; 2/10] START n_neighbors=2..............................................\n",
      "[CV 1/5; 2/10] END ...............n_neighbors=2;, score=0.870 total time=   1.5s\n",
      "[CV 2/5; 2/10] START n_neighbors=2..............................................\n",
      "[CV 2/5; 2/10] END ...............n_neighbors=2;, score=0.871 total time=   1.4s\n",
      "[CV 3/5; 2/10] START n_neighbors=2..............................................\n",
      "[CV 3/5; 2/10] END ...............n_neighbors=2;, score=0.876 total time=   1.1s\n",
      "[CV 4/5; 2/10] START n_neighbors=2..............................................\n",
      "[CV 4/5; 2/10] END ...............n_neighbors=2;, score=0.872 total time=   1.4s\n",
      "[CV 5/5; 2/10] START n_neighbors=2..............................................\n",
      "[CV 5/5; 2/10] END ...............n_neighbors=2;, score=0.868 total time=   1.6s\n",
      "[CV 1/5; 3/10] START n_neighbors=3..............................................\n",
      "[CV 1/5; 3/10] END ...............n_neighbors=3;, score=0.865 total time=   1.7s\n",
      "[CV 2/5; 3/10] START n_neighbors=3..............................................\n",
      "[CV 2/5; 3/10] END ...............n_neighbors=3;, score=0.864 total time=   1.6s\n",
      "[CV 3/5; 3/10] START n_neighbors=3..............................................\n",
      "[CV 3/5; 3/10] END ...............n_neighbors=3;, score=0.866 total time=   1.9s\n",
      "[CV 4/5; 3/10] START n_neighbors=3..............................................\n",
      "[CV 4/5; 3/10] END ...............n_neighbors=3;, score=0.862 total time=   2.3s\n",
      "[CV 5/5; 3/10] START n_neighbors=3..............................................\n",
      "[CV 5/5; 3/10] END ...............n_neighbors=3;, score=0.865 total time=   2.1s\n",
      "[CV 1/5; 4/10] START n_neighbors=4..............................................\n",
      "[CV 1/5; 4/10] END ...............n_neighbors=4;, score=0.880 total time=   2.0s\n",
      "[CV 2/5; 4/10] START n_neighbors=4..............................................\n",
      "[CV 2/5; 4/10] END ...............n_neighbors=4;, score=0.875 total time=   2.0s\n",
      "[CV 3/5; 4/10] START n_neighbors=4..............................................\n",
      "[CV 3/5; 4/10] END ...............n_neighbors=4;, score=0.880 total time=   2.2s\n",
      "[CV 4/5; 4/10] START n_neighbors=4..............................................\n",
      "[CV 4/5; 4/10] END ...............n_neighbors=4;, score=0.876 total time=   2.3s\n",
      "[CV 5/5; 4/10] START n_neighbors=4..............................................\n",
      "[CV 5/5; 4/10] END ...............n_neighbors=4;, score=0.876 total time=   2.5s\n",
      "[CV 1/5; 5/10] START n_neighbors=5..............................................\n",
      "[CV 1/5; 5/10] END ...............n_neighbors=5;, score=0.876 total time=   2.4s\n",
      "[CV 2/5; 5/10] START n_neighbors=5..............................................\n",
      "[CV 2/5; 5/10] END ...............n_neighbors=5;, score=0.871 total time=   2.4s\n",
      "[CV 3/5; 5/10] START n_neighbors=5..............................................\n",
      "[CV 3/5; 5/10] END ...............n_neighbors=5;, score=0.875 total time=   1.7s\n",
      "[CV 4/5; 5/10] START n_neighbors=5..............................................\n",
      "[CV 4/5; 5/10] END ...............n_neighbors=5;, score=0.872 total time=   1.4s\n",
      "[CV 5/5; 5/10] START n_neighbors=5..............................................\n",
      "[CV 5/5; 5/10] END ...............n_neighbors=5;, score=0.874 total time=   2.1s\n",
      "[CV 1/5; 6/10] START n_neighbors=6..............................................\n",
      "[CV 1/5; 6/10] END ...............n_neighbors=6;, score=0.882 total time=   2.1s\n",
      "[CV 2/5; 6/10] START n_neighbors=6..............................................\n",
      "[CV 2/5; 6/10] END ...............n_neighbors=6;, score=0.876 total time=   2.0s\n",
      "[CV 3/5; 6/10] START n_neighbors=6..............................................\n",
      "[CV 3/5; 6/10] END ...............n_neighbors=6;, score=0.881 total time=   2.1s\n",
      "[CV 4/5; 6/10] START n_neighbors=6..............................................\n",
      "[CV 4/5; 6/10] END ...............n_neighbors=6;, score=0.878 total time=   2.1s\n",
      "[CV 5/5; 6/10] START n_neighbors=6..............................................\n",
      "[CV 5/5; 6/10] END ...............n_neighbors=6;, score=0.881 total time=   2.0s\n",
      "[CV 1/5; 7/10] START leaf_size=2................................................\n",
      "[CV 1/5; 7/10] END .................leaf_size=2;, score=0.876 total time=   1.7s\n",
      "[CV 2/5; 7/10] START leaf_size=2................................................\n",
      "[CV 2/5; 7/10] END .................leaf_size=2;, score=0.871 total time=   1.6s\n",
      "[CV 3/5; 7/10] START leaf_size=2................................................\n",
      "[CV 3/5; 7/10] END .................leaf_size=2;, score=0.875 total time=   2.2s\n",
      "[CV 4/5; 7/10] START leaf_size=2................................................\n",
      "[CV 4/5; 7/10] END .................leaf_size=2;, score=0.872 total time=   2.1s\n",
      "[CV 5/5; 7/10] START leaf_size=2................................................\n",
      "[CV 5/5; 7/10] END .................leaf_size=2;, score=0.874 total time=   2.2s\n",
      "[CV 1/5; 8/10] START leaf_size=4................................................\n",
      "[CV 1/5; 8/10] END .................leaf_size=4;, score=0.876 total time=   2.1s\n",
      "[CV 2/5; 8/10] START leaf_size=4................................................\n",
      "[CV 2/5; 8/10] END .................leaf_size=4;, score=0.871 total time=   2.1s\n",
      "[CV 3/5; 8/10] START leaf_size=4................................................\n",
      "[CV 3/5; 8/10] END .................leaf_size=4;, score=0.875 total time=   1.7s\n",
      "[CV 4/5; 8/10] START leaf_size=4................................................\n",
      "[CV 4/5; 8/10] END .................leaf_size=4;, score=0.872 total time=   1.4s\n",
      "[CV 5/5; 8/10] START leaf_size=4................................................\n",
      "[CV 5/5; 8/10] END .................leaf_size=4;, score=0.874 total time=   1.8s\n",
      "[CV 1/5; 9/10] START leaf_size=5................................................\n",
      "[CV 1/5; 9/10] END .................leaf_size=5;, score=0.876 total time=   2.1s\n",
      "[CV 2/5; 9/10] START leaf_size=5................................................\n",
      "[CV 2/5; 9/10] END .................leaf_size=5;, score=0.871 total time=   2.0s\n",
      "[CV 3/5; 9/10] START leaf_size=5................................................\n",
      "[CV 3/5; 9/10] END .................leaf_size=5;, score=0.875 total time=   2.0s\n",
      "[CV 4/5; 9/10] START leaf_size=5................................................\n",
      "[CV 4/5; 9/10] END .................leaf_size=5;, score=0.872 total time=   2.1s\n",
      "[CV 5/5; 9/10] START leaf_size=5................................................\n",
      "[CV 5/5; 9/10] END .................leaf_size=5;, score=0.874 total time=   2.1s\n",
      "[CV 1/5; 10/10] START leaf_size=6...............................................\n",
      "[CV 1/5; 10/10] END ................leaf_size=6;, score=0.876 total time=   1.7s\n",
      "[CV 2/5; 10/10] START leaf_size=6...............................................\n",
      "[CV 2/5; 10/10] END ................leaf_size=6;, score=0.871 total time=   1.4s\n",
      "[CV 3/5; 10/10] START leaf_size=6...............................................\n",
      "[CV 3/5; 10/10] END ................leaf_size=6;, score=0.875 total time=   2.2s\n",
      "[CV 4/5; 10/10] START leaf_size=6...............................................\n",
      "[CV 4/5; 10/10] END ................leaf_size=6;, score=0.872 total time=   2.6s\n",
      "[CV 5/5; 10/10] START leaf_size=6...............................................\n",
      "[CV 5/5; 10/10] END ................leaf_size=6;, score=0.874 total time=   2.3s\n"
     ]
    },
    {
     "data": {
      "text/plain": [
       "GridSearchCV(cv=5, estimator=KNeighborsClassifier(),\n",
       "             param_grid=[{'n_neighbors': [1, 2, 3, 4, 5, 6]},\n",
       "                         {'leaf_size': [2, 4, 5, 6]}],\n",
       "             verbose=10)"
      ]
     },
     "execution_count": 25,
     "metadata": {},
     "output_type": "execute_result"
    }
   ],
   "source": [
    "#optimisons le model knn\n",
    "#parametre du grid\n",
    "#Optimisation du models on utilise hyperparameters\n",
    "from sklearn.model_selection import GridSearchCV\n",
    "#parametre du grid\n",
    "params=[\n",
    "    {'n_neighbors': [1,2,3,4,5,6]},\n",
    "    {'leaf_size':[2,4,5,6]}\n",
    "]\n",
    "##instantiation du model\n",
    "knn_best_model=GridSearchCV(model_knn,params,cv=5,verbose=10)\n",
    "knn_best_model.fit(X_Train,y_Train)"
   ]
  },
  {
   "cell_type": "code",
   "execution_count": 26,
   "id": "43387c76",
   "metadata": {},
   "outputs": [
    {
     "data": {
      "text/plain": [
       "{'n_neighbors': 6}"
      ]
     },
     "execution_count": 26,
     "metadata": {},
     "output_type": "execute_result"
    }
   ],
   "source": [
    "#parametres optimaux\n",
    "knn_best_model.best_params_"
   ]
  },
  {
   "cell_type": "code",
   "execution_count": 27,
   "id": "51912e4b",
   "metadata": {},
   "outputs": [
    {
     "data": {
      "text/plain": [
       "KNeighborsClassifier(n_neighbors=6)"
      ]
     },
     "execution_count": 27,
     "metadata": {},
     "output_type": "execute_result"
    }
   ],
   "source": [
    "#model optimal\n",
    "knn_best_model.best_estimator_"
   ]
  },
  {
   "cell_type": "code",
   "execution_count": 28,
   "id": "762178b0",
   "metadata": {},
   "outputs": [
    {
     "data": {
      "text/plain": [
       "0.8795698996104229"
      ]
     },
     "execution_count": 28,
     "metadata": {},
     "output_type": "execute_result"
    }
   ],
   "source": [
    "#meilleur score\n",
    "knn_best_model.best_score_"
   ]
  },
  {
   "cell_type": "code",
   "execution_count": 29,
   "id": "b15e1ef2",
   "metadata": {},
   "outputs": [
    {
     "name": "stdout",
     "output_type": "stream",
     "text": [
      "le taux accuracy knn_best est de 0.8858033437234344\n"
     ]
    }
   ],
   "source": [
    "#Mesure d'evaluation de knn_best\n",
    "pred_knn_best = knn_best_model.best_estimator_.predict(X_Test)\n",
    "knn_best_acc = accuracy_score(y_Test,pred_knn_best)\n",
    "print('le taux accuracy knn_best est de', knn_best_acc)"
   ]
  },
  {
   "cell_type": "markdown",
   "id": "e570cc7b",
   "metadata": {},
   "source": [
    "# Modele de regression logistique"
   ]
  },
  {
   "cell_type": "code",
   "execution_count": 30,
   "id": "bcd7f87e",
   "metadata": {},
   "outputs": [
    {
     "name": "stdout",
     "output_type": "stream",
     "text": [
      "Le taux accurancy est de : 0.8863700765089261\n"
     ]
    },
    {
     "name": "stderr",
     "output_type": "stream",
     "text": [
      "C:\\Users\\gueye\\anaconda3\\lib\\site-packages\\sklearn\\linear_model\\_logistic.py:814: ConvergenceWarning: lbfgs failed to converge (status=1):\n",
      "STOP: TOTAL NO. of ITERATIONS REACHED LIMIT.\n",
      "\n",
      "Increase the number of iterations (max_iter) or scale the data as shown in:\n",
      "    https://scikit-learn.org/stable/modules/preprocessing.html\n",
      "Please also refer to the documentation for alternative solver options:\n",
      "    https://scikit-learn.org/stable/modules/linear_model.html#logistic-regression\n",
      "  n_iter_i = _check_optimize_result(\n"
     ]
    }
   ],
   "source": [
    "#Instanciation du modele regression logistique\n",
    "from sklearn.linear_model import LogisticRegression\n",
    "model_lr=LogisticRegression()\n",
    "model_lr\n",
    "#Fiting du modele\n",
    "model_lr .fit(X_Train,y_Train)\n",
    "#Prediction\n",
    "pred_lr=model_lr.predict(X_Test)\n",
    "#Mesure d'evaluation\n",
    "lr_acc=accuracy_score(y_Test,pred_lr)\n",
    "print('Le taux accurancy est de :',lr_acc)"
   ]
  },
  {
   "cell_type": "code",
   "execution_count": 31,
   "id": "427ddd81",
   "metadata": {},
   "outputs": [
    {
     "name": "stdout",
     "output_type": "stream",
     "text": [
      "Fitting 5 folds for each of 10 candidates, totalling 50 fits\n",
      "[CV 1/5; 1/10] START penalty=l1.................................................\n",
      "[CV 1/5; 1/10] END ....................penalty=l1;, score=nan total time=   0.0s\n",
      "[CV 2/5; 1/10] START penalty=l1.................................................\n",
      "[CV 2/5; 1/10] END ....................penalty=l1;, score=nan total time=   0.0s\n",
      "[CV 3/5; 1/10] START penalty=l1.................................................\n",
      "[CV 3/5; 1/10] END ....................penalty=l1;, score=nan total time=   0.0s\n",
      "[CV 4/5; 1/10] START penalty=l1.................................................\n",
      "[CV 4/5; 1/10] END ....................penalty=l1;, score=nan total time=   0.0s\n",
      "[CV 5/5; 1/10] START penalty=l1.................................................\n",
      "[CV 5/5; 1/10] END ....................penalty=l1;, score=nan total time=   0.0s\n",
      "[CV 1/5; 2/10] START penalty=l2.................................................\n"
     ]
    },
    {
     "name": "stderr",
     "output_type": "stream",
     "text": [
      "C:\\Users\\gueye\\anaconda3\\lib\\site-packages\\sklearn\\linear_model\\_logistic.py:814: ConvergenceWarning: lbfgs failed to converge (status=1):\n",
      "STOP: TOTAL NO. of ITERATIONS REACHED LIMIT.\n",
      "\n",
      "Increase the number of iterations (max_iter) or scale the data as shown in:\n",
      "    https://scikit-learn.org/stable/modules/preprocessing.html\n",
      "Please also refer to the documentation for alternative solver options:\n",
      "    https://scikit-learn.org/stable/modules/linear_model.html#logistic-regression\n",
      "  n_iter_i = _check_optimize_result(\n"
     ]
    },
    {
     "name": "stdout",
     "output_type": "stream",
     "text": [
      "[CV 1/5; 2/10] END ..................penalty=l2;, score=0.881 total time=   0.2s\n",
      "[CV 2/5; 2/10] START penalty=l2.................................................\n"
     ]
    },
    {
     "name": "stderr",
     "output_type": "stream",
     "text": [
      "C:\\Users\\gueye\\anaconda3\\lib\\site-packages\\sklearn\\linear_model\\_logistic.py:814: ConvergenceWarning: lbfgs failed to converge (status=1):\n",
      "STOP: TOTAL NO. of ITERATIONS REACHED LIMIT.\n",
      "\n",
      "Increase the number of iterations (max_iter) or scale the data as shown in:\n",
      "    https://scikit-learn.org/stable/modules/preprocessing.html\n",
      "Please also refer to the documentation for alternative solver options:\n",
      "    https://scikit-learn.org/stable/modules/linear_model.html#logistic-regression\n",
      "  n_iter_i = _check_optimize_result(\n"
     ]
    },
    {
     "name": "stdout",
     "output_type": "stream",
     "text": [
      "[CV 2/5; 2/10] END ..................penalty=l2;, score=0.886 total time=   0.2s\n",
      "[CV 3/5; 2/10] START penalty=l2.................................................\n"
     ]
    },
    {
     "name": "stderr",
     "output_type": "stream",
     "text": [
      "C:\\Users\\gueye\\anaconda3\\lib\\site-packages\\sklearn\\linear_model\\_logistic.py:814: ConvergenceWarning: lbfgs failed to converge (status=1):\n",
      "STOP: TOTAL NO. of ITERATIONS REACHED LIMIT.\n",
      "\n",
      "Increase the number of iterations (max_iter) or scale the data as shown in:\n",
      "    https://scikit-learn.org/stable/modules/preprocessing.html\n",
      "Please also refer to the documentation for alternative solver options:\n",
      "    https://scikit-learn.org/stable/modules/linear_model.html#logistic-regression\n",
      "  n_iter_i = _check_optimize_result(\n"
     ]
    },
    {
     "name": "stdout",
     "output_type": "stream",
     "text": [
      "[CV 3/5; 2/10] END ..................penalty=l2;, score=0.885 total time=   0.2s\n",
      "[CV 4/5; 2/10] START penalty=l2.................................................\n"
     ]
    },
    {
     "name": "stderr",
     "output_type": "stream",
     "text": [
      "C:\\Users\\gueye\\anaconda3\\lib\\site-packages\\sklearn\\linear_model\\_logistic.py:814: ConvergenceWarning: lbfgs failed to converge (status=1):\n",
      "STOP: TOTAL NO. of ITERATIONS REACHED LIMIT.\n",
      "\n",
      "Increase the number of iterations (max_iter) or scale the data as shown in:\n",
      "    https://scikit-learn.org/stable/modules/preprocessing.html\n",
      "Please also refer to the documentation for alternative solver options:\n",
      "    https://scikit-learn.org/stable/modules/linear_model.html#logistic-regression\n",
      "  n_iter_i = _check_optimize_result(\n"
     ]
    },
    {
     "name": "stdout",
     "output_type": "stream",
     "text": [
      "[CV 4/5; 2/10] END ..................penalty=l2;, score=0.879 total time=   0.3s\n",
      "[CV 5/5; 2/10] START penalty=l2.................................................\n"
     ]
    },
    {
     "name": "stderr",
     "output_type": "stream",
     "text": [
      "C:\\Users\\gueye\\anaconda3\\lib\\site-packages\\sklearn\\linear_model\\_logistic.py:814: ConvergenceWarning: lbfgs failed to converge (status=1):\n",
      "STOP: TOTAL NO. of ITERATIONS REACHED LIMIT.\n",
      "\n",
      "Increase the number of iterations (max_iter) or scale the data as shown in:\n",
      "    https://scikit-learn.org/stable/modules/preprocessing.html\n",
      "Please also refer to the documentation for alternative solver options:\n",
      "    https://scikit-learn.org/stable/modules/linear_model.html#logistic-regression\n",
      "  n_iter_i = _check_optimize_result(\n"
     ]
    },
    {
     "name": "stdout",
     "output_type": "stream",
     "text": [
      "[CV 5/5; 2/10] END ..................penalty=l2;, score=0.884 total time=   0.2s\n",
      "[CV 1/5; 3/10] START penalty=none...............................................\n"
     ]
    },
    {
     "name": "stderr",
     "output_type": "stream",
     "text": [
      "C:\\Users\\gueye\\anaconda3\\lib\\site-packages\\sklearn\\linear_model\\_logistic.py:814: ConvergenceWarning: lbfgs failed to converge (status=1):\n",
      "STOP: TOTAL NO. of ITERATIONS REACHED LIMIT.\n",
      "\n",
      "Increase the number of iterations (max_iter) or scale the data as shown in:\n",
      "    https://scikit-learn.org/stable/modules/preprocessing.html\n",
      "Please also refer to the documentation for alternative solver options:\n",
      "    https://scikit-learn.org/stable/modules/linear_model.html#logistic-regression\n",
      "  n_iter_i = _check_optimize_result(\n"
     ]
    },
    {
     "name": "stdout",
     "output_type": "stream",
     "text": [
      "[CV 1/5; 3/10] END ................penalty=none;, score=0.881 total time=   0.3s\n",
      "[CV 2/5; 3/10] START penalty=none...............................................\n",
      "[CV 2/5; 3/10] END ................penalty=none;, score=0.886 total time=   0.2s\n",
      "[CV 3/5; 3/10] START penalty=none...............................................\n"
     ]
    },
    {
     "name": "stderr",
     "output_type": "stream",
     "text": [
      "C:\\Users\\gueye\\anaconda3\\lib\\site-packages\\sklearn\\linear_model\\_logistic.py:814: ConvergenceWarning: lbfgs failed to converge (status=1):\n",
      "STOP: TOTAL NO. of ITERATIONS REACHED LIMIT.\n",
      "\n",
      "Increase the number of iterations (max_iter) or scale the data as shown in:\n",
      "    https://scikit-learn.org/stable/modules/preprocessing.html\n",
      "Please also refer to the documentation for alternative solver options:\n",
      "    https://scikit-learn.org/stable/modules/linear_model.html#logistic-regression\n",
      "  n_iter_i = _check_optimize_result(\n"
     ]
    },
    {
     "name": "stdout",
     "output_type": "stream",
     "text": [
      "[CV 3/5; 3/10] END ................penalty=none;, score=0.885 total time=   0.2s\n",
      "[CV 4/5; 3/10] START penalty=none...............................................\n",
      "[CV 4/5; 3/10] END ................penalty=none;, score=0.879 total time=   0.2s\n",
      "[CV 5/5; 3/10] START penalty=none...............................................\n",
      "[CV 5/5; 3/10] END ................penalty=none;, score=0.884 total time=   0.2s\n",
      "[CV 1/5; 4/10] START solver=newton-cg...........................................\n",
      "[CV 1/5; 4/10] END ............solver=newton-cg;, score=0.881 total time=   0.4s\n",
      "[CV 2/5; 4/10] START solver=newton-cg...........................................\n",
      "[CV 2/5; 4/10] END ............solver=newton-cg;, score=0.886 total time=   0.5s\n",
      "[CV 3/5; 4/10] START solver=newton-cg...........................................\n",
      "[CV 3/5; 4/10] END ............solver=newton-cg;, score=0.885 total time=   0.4s\n",
      "[CV 4/5; 4/10] START solver=newton-cg...........................................\n",
      "[CV 4/5; 4/10] END ............solver=newton-cg;, score=0.879 total time=   0.5s\n",
      "[CV 5/5; 4/10] START solver=newton-cg...........................................\n",
      "[CV 5/5; 4/10] END ............solver=newton-cg;, score=0.884 total time=   0.7s\n",
      "[CV 1/5; 5/10] START solver=lbfgs...............................................\n"
     ]
    },
    {
     "name": "stderr",
     "output_type": "stream",
     "text": [
      "C:\\Users\\gueye\\anaconda3\\lib\\site-packages\\sklearn\\linear_model\\_logistic.py:814: ConvergenceWarning: lbfgs failed to converge (status=1):\n",
      "STOP: TOTAL NO. of ITERATIONS REACHED LIMIT.\n",
      "\n",
      "Increase the number of iterations (max_iter) or scale the data as shown in:\n",
      "    https://scikit-learn.org/stable/modules/preprocessing.html\n",
      "Please also refer to the documentation for alternative solver options:\n",
      "    https://scikit-learn.org/stable/modules/linear_model.html#logistic-regression\n",
      "  n_iter_i = _check_optimize_result(\n"
     ]
    },
    {
     "name": "stdout",
     "output_type": "stream",
     "text": [
      "[CV 1/5; 5/10] END ................solver=lbfgs;, score=0.881 total time=   0.3s\n",
      "[CV 2/5; 5/10] START solver=lbfgs...............................................\n"
     ]
    },
    {
     "name": "stderr",
     "output_type": "stream",
     "text": [
      "C:\\Users\\gueye\\anaconda3\\lib\\site-packages\\sklearn\\linear_model\\_logistic.py:814: ConvergenceWarning: lbfgs failed to converge (status=1):\n",
      "STOP: TOTAL NO. of ITERATIONS REACHED LIMIT.\n",
      "\n",
      "Increase the number of iterations (max_iter) or scale the data as shown in:\n",
      "    https://scikit-learn.org/stable/modules/preprocessing.html\n",
      "Please also refer to the documentation for alternative solver options:\n",
      "    https://scikit-learn.org/stable/modules/linear_model.html#logistic-regression\n",
      "  n_iter_i = _check_optimize_result(\n"
     ]
    },
    {
     "name": "stdout",
     "output_type": "stream",
     "text": [
      "[CV 2/5; 5/10] END ................solver=lbfgs;, score=0.886 total time=   0.3s\n",
      "[CV 3/5; 5/10] START solver=lbfgs...............................................\n"
     ]
    },
    {
     "name": "stderr",
     "output_type": "stream",
     "text": [
      "C:\\Users\\gueye\\anaconda3\\lib\\site-packages\\sklearn\\linear_model\\_logistic.py:814: ConvergenceWarning: lbfgs failed to converge (status=1):\n",
      "STOP: TOTAL NO. of ITERATIONS REACHED LIMIT.\n",
      "\n",
      "Increase the number of iterations (max_iter) or scale the data as shown in:\n",
      "    https://scikit-learn.org/stable/modules/preprocessing.html\n",
      "Please also refer to the documentation for alternative solver options:\n",
      "    https://scikit-learn.org/stable/modules/linear_model.html#logistic-regression\n",
      "  n_iter_i = _check_optimize_result(\n"
     ]
    },
    {
     "name": "stdout",
     "output_type": "stream",
     "text": [
      "[CV 3/5; 5/10] END ................solver=lbfgs;, score=0.885 total time=   0.4s\n",
      "[CV 4/5; 5/10] START solver=lbfgs...............................................\n"
     ]
    },
    {
     "name": "stderr",
     "output_type": "stream",
     "text": [
      "C:\\Users\\gueye\\anaconda3\\lib\\site-packages\\sklearn\\linear_model\\_logistic.py:814: ConvergenceWarning: lbfgs failed to converge (status=1):\n",
      "STOP: TOTAL NO. of ITERATIONS REACHED LIMIT.\n",
      "\n",
      "Increase the number of iterations (max_iter) or scale the data as shown in:\n",
      "    https://scikit-learn.org/stable/modules/preprocessing.html\n",
      "Please also refer to the documentation for alternative solver options:\n",
      "    https://scikit-learn.org/stable/modules/linear_model.html#logistic-regression\n",
      "  n_iter_i = _check_optimize_result(\n"
     ]
    },
    {
     "name": "stdout",
     "output_type": "stream",
     "text": [
      "[CV 4/5; 5/10] END ................solver=lbfgs;, score=0.879 total time=   0.3s\n",
      "[CV 5/5; 5/10] START solver=lbfgs...............................................\n"
     ]
    },
    {
     "name": "stderr",
     "output_type": "stream",
     "text": [
      "C:\\Users\\gueye\\anaconda3\\lib\\site-packages\\sklearn\\linear_model\\_logistic.py:814: ConvergenceWarning: lbfgs failed to converge (status=1):\n",
      "STOP: TOTAL NO. of ITERATIONS REACHED LIMIT.\n",
      "\n",
      "Increase the number of iterations (max_iter) or scale the data as shown in:\n",
      "    https://scikit-learn.org/stable/modules/preprocessing.html\n",
      "Please also refer to the documentation for alternative solver options:\n",
      "    https://scikit-learn.org/stable/modules/linear_model.html#logistic-regression\n",
      "  n_iter_i = _check_optimize_result(\n"
     ]
    },
    {
     "name": "stdout",
     "output_type": "stream",
     "text": [
      "[CV 5/5; 5/10] END ................solver=lbfgs;, score=0.884 total time=   0.3s\n",
      "[CV 1/5; 6/10] START solver=saga................................................\n"
     ]
    },
    {
     "name": "stderr",
     "output_type": "stream",
     "text": [
      "C:\\Users\\gueye\\anaconda3\\lib\\site-packages\\sklearn\\linear_model\\_sag.py:352: ConvergenceWarning: The max_iter was reached which means the coef_ did not converge\n",
      "  warnings.warn(\n"
     ]
    },
    {
     "name": "stdout",
     "output_type": "stream",
     "text": [
      "[CV 1/5; 6/10] END .................solver=saga;, score=0.881 total time=   1.7s\n",
      "[CV 2/5; 6/10] START solver=saga................................................\n"
     ]
    },
    {
     "name": "stderr",
     "output_type": "stream",
     "text": [
      "C:\\Users\\gueye\\anaconda3\\lib\\site-packages\\sklearn\\linear_model\\_sag.py:352: ConvergenceWarning: The max_iter was reached which means the coef_ did not converge\n",
      "  warnings.warn(\n"
     ]
    },
    {
     "name": "stdout",
     "output_type": "stream",
     "text": [
      "[CV 2/5; 6/10] END .................solver=saga;, score=0.886 total time=   1.6s\n",
      "[CV 3/5; 6/10] START solver=saga................................................\n"
     ]
    },
    {
     "name": "stderr",
     "output_type": "stream",
     "text": [
      "C:\\Users\\gueye\\anaconda3\\lib\\site-packages\\sklearn\\linear_model\\_sag.py:352: ConvergenceWarning: The max_iter was reached which means the coef_ did not converge\n",
      "  warnings.warn(\n"
     ]
    },
    {
     "name": "stdout",
     "output_type": "stream",
     "text": [
      "[CV 3/5; 6/10] END .................solver=saga;, score=0.885 total time=   1.6s\n",
      "[CV 4/5; 6/10] START solver=saga................................................\n"
     ]
    },
    {
     "name": "stderr",
     "output_type": "stream",
     "text": [
      "C:\\Users\\gueye\\anaconda3\\lib\\site-packages\\sklearn\\linear_model\\_sag.py:352: ConvergenceWarning: The max_iter was reached which means the coef_ did not converge\n",
      "  warnings.warn(\n"
     ]
    },
    {
     "name": "stdout",
     "output_type": "stream",
     "text": [
      "[CV 4/5; 6/10] END .................solver=saga;, score=0.879 total time=   1.6s\n",
      "[CV 5/5; 6/10] START solver=saga................................................\n"
     ]
    },
    {
     "name": "stderr",
     "output_type": "stream",
     "text": [
      "C:\\Users\\gueye\\anaconda3\\lib\\site-packages\\sklearn\\linear_model\\_sag.py:352: ConvergenceWarning: The max_iter was reached which means the coef_ did not converge\n",
      "  warnings.warn(\n",
      "C:\\Users\\gueye\\anaconda3\\lib\\site-packages\\sklearn\\linear_model\\_logistic.py:814: ConvergenceWarning: lbfgs failed to converge (status=1):\n",
      "STOP: TOTAL NO. of ITERATIONS REACHED LIMIT.\n",
      "\n",
      "Increase the number of iterations (max_iter) or scale the data as shown in:\n",
      "    https://scikit-learn.org/stable/modules/preprocessing.html\n",
      "Please also refer to the documentation for alternative solver options:\n",
      "    https://scikit-learn.org/stable/modules/linear_model.html#logistic-regression\n",
      "  n_iter_i = _check_optimize_result(\n",
      "C:\\Users\\gueye\\anaconda3\\lib\\site-packages\\sklearn\\linear_model\\_logistic.py:814: ConvergenceWarning: lbfgs failed to converge (status=1):\n",
      "STOP: TOTAL NO. of ITERATIONS REACHED LIMIT.\n",
      "\n",
      "Increase the number of iterations (max_iter) or scale the data as shown in:\n",
      "    https://scikit-learn.org/stable/modules/preprocessing.html\n",
      "Please also refer to the documentation for alternative solver options:\n",
      "    https://scikit-learn.org/stable/modules/linear_model.html#logistic-regression\n",
      "  n_iter_i = _check_optimize_result(\n",
      "C:\\Users\\gueye\\anaconda3\\lib\\site-packages\\sklearn\\linear_model\\_logistic.py:814: ConvergenceWarning: lbfgs failed to converge (status=1):\n",
      "STOP: TOTAL NO. of ITERATIONS REACHED LIMIT.\n",
      "\n",
      "Increase the number of iterations (max_iter) or scale the data as shown in:\n",
      "    https://scikit-learn.org/stable/modules/preprocessing.html\n",
      "Please also refer to the documentation for alternative solver options:\n",
      "    https://scikit-learn.org/stable/modules/linear_model.html#logistic-regression\n",
      "  n_iter_i = _check_optimize_result(\n"
     ]
    },
    {
     "name": "stdout",
     "output_type": "stream",
     "text": [
      "[CV 5/5; 6/10] END .................solver=saga;, score=0.884 total time=   1.1s\n",
      "[CV 1/5; 7/10] START max_iter=15................................................\n",
      "[CV 1/5; 7/10] END .................max_iter=15;, score=0.882 total time=   0.0s\n",
      "[CV 2/5; 7/10] START max_iter=15................................................\n",
      "[CV 2/5; 7/10] END .................max_iter=15;, score=0.886 total time=   0.0s\n",
      "[CV 3/5; 7/10] START max_iter=15................................................\n",
      "[CV 3/5; 7/10] END .................max_iter=15;, score=0.886 total time=   0.0s\n",
      "[CV 4/5; 7/10] START max_iter=15................................................\n"
     ]
    },
    {
     "name": "stderr",
     "output_type": "stream",
     "text": [
      "C:\\Users\\gueye\\anaconda3\\lib\\site-packages\\sklearn\\linear_model\\_logistic.py:814: ConvergenceWarning: lbfgs failed to converge (status=1):\n",
      "STOP: TOTAL NO. of ITERATIONS REACHED LIMIT.\n",
      "\n",
      "Increase the number of iterations (max_iter) or scale the data as shown in:\n",
      "    https://scikit-learn.org/stable/modules/preprocessing.html\n",
      "Please also refer to the documentation for alternative solver options:\n",
      "    https://scikit-learn.org/stable/modules/linear_model.html#logistic-regression\n",
      "  n_iter_i = _check_optimize_result(\n",
      "C:\\Users\\gueye\\anaconda3\\lib\\site-packages\\sklearn\\linear_model\\_logistic.py:814: ConvergenceWarning: lbfgs failed to converge (status=1):\n",
      "STOP: TOTAL NO. of ITERATIONS REACHED LIMIT.\n",
      "\n",
      "Increase the number of iterations (max_iter) or scale the data as shown in:\n",
      "    https://scikit-learn.org/stable/modules/preprocessing.html\n",
      "Please also refer to the documentation for alternative solver options:\n",
      "    https://scikit-learn.org/stable/modules/linear_model.html#logistic-regression\n",
      "  n_iter_i = _check_optimize_result(\n",
      "C:\\Users\\gueye\\anaconda3\\lib\\site-packages\\sklearn\\linear_model\\_logistic.py:814: ConvergenceWarning: lbfgs failed to converge (status=1):\n",
      "STOP: TOTAL NO. of ITERATIONS REACHED LIMIT.\n",
      "\n",
      "Increase the number of iterations (max_iter) or scale the data as shown in:\n",
      "    https://scikit-learn.org/stable/modules/preprocessing.html\n",
      "Please also refer to the documentation for alternative solver options:\n",
      "    https://scikit-learn.org/stable/modules/linear_model.html#logistic-regression\n",
      "  n_iter_i = _check_optimize_result(\n",
      "C:\\Users\\gueye\\anaconda3\\lib\\site-packages\\sklearn\\linear_model\\_logistic.py:814: ConvergenceWarning: lbfgs failed to converge (status=1):\n",
      "STOP: TOTAL NO. of ITERATIONS REACHED LIMIT.\n",
      "\n",
      "Increase the number of iterations (max_iter) or scale the data as shown in:\n",
      "    https://scikit-learn.org/stable/modules/preprocessing.html\n",
      "Please also refer to the documentation for alternative solver options:\n",
      "    https://scikit-learn.org/stable/modules/linear_model.html#logistic-regression\n",
      "  n_iter_i = _check_optimize_result(\n",
      "C:\\Users\\gueye\\anaconda3\\lib\\site-packages\\sklearn\\linear_model\\_logistic.py:814: ConvergenceWarning: lbfgs failed to converge (status=1):\n",
      "STOP: TOTAL NO. of ITERATIONS REACHED LIMIT.\n",
      "\n",
      "Increase the number of iterations (max_iter) or scale the data as shown in:\n",
      "    https://scikit-learn.org/stable/modules/preprocessing.html\n",
      "Please also refer to the documentation for alternative solver options:\n",
      "    https://scikit-learn.org/stable/modules/linear_model.html#logistic-regression\n",
      "  n_iter_i = _check_optimize_result(\n"
     ]
    },
    {
     "name": "stdout",
     "output_type": "stream",
     "text": [
      "[CV 4/5; 7/10] END .................max_iter=15;, score=0.880 total time=   0.0s\n",
      "[CV 5/5; 7/10] START max_iter=15................................................\n",
      "[CV 5/5; 7/10] END .................max_iter=15;, score=0.884 total time=   0.0s\n",
      "[CV 1/5; 8/10] START max_iter=8.................................................\n",
      "[CV 1/5; 8/10] END ..................max_iter=8;, score=0.882 total time=   0.0s\n",
      "[CV 2/5; 8/10] START max_iter=8.................................................\n",
      "[CV 2/5; 8/10] END ..................max_iter=8;, score=0.886 total time=   0.0s\n",
      "[CV 3/5; 8/10] START max_iter=8.................................................\n",
      "[CV 3/5; 8/10] END ..................max_iter=8;, score=0.884 total time=   0.0s\n",
      "[CV 4/5; 8/10] START max_iter=8.................................................\n"
     ]
    },
    {
     "name": "stderr",
     "output_type": "stream",
     "text": [
      "C:\\Users\\gueye\\anaconda3\\lib\\site-packages\\sklearn\\linear_model\\_logistic.py:814: ConvergenceWarning: lbfgs failed to converge (status=1):\n",
      "STOP: TOTAL NO. of ITERATIONS REACHED LIMIT.\n",
      "\n",
      "Increase the number of iterations (max_iter) or scale the data as shown in:\n",
      "    https://scikit-learn.org/stable/modules/preprocessing.html\n",
      "Please also refer to the documentation for alternative solver options:\n",
      "    https://scikit-learn.org/stable/modules/linear_model.html#logistic-regression\n",
      "  n_iter_i = _check_optimize_result(\n",
      "C:\\Users\\gueye\\anaconda3\\lib\\site-packages\\sklearn\\linear_model\\_logistic.py:814: ConvergenceWarning: lbfgs failed to converge (status=1):\n",
      "STOP: TOTAL NO. of ITERATIONS REACHED LIMIT.\n",
      "\n",
      "Increase the number of iterations (max_iter) or scale the data as shown in:\n",
      "    https://scikit-learn.org/stable/modules/preprocessing.html\n",
      "Please also refer to the documentation for alternative solver options:\n",
      "    https://scikit-learn.org/stable/modules/linear_model.html#logistic-regression\n",
      "  n_iter_i = _check_optimize_result(\n",
      "C:\\Users\\gueye\\anaconda3\\lib\\site-packages\\sklearn\\linear_model\\_logistic.py:814: ConvergenceWarning: lbfgs failed to converge (status=1):\n",
      "STOP: TOTAL NO. of ITERATIONS REACHED LIMIT.\n",
      "\n",
      "Increase the number of iterations (max_iter) or scale the data as shown in:\n",
      "    https://scikit-learn.org/stable/modules/preprocessing.html\n",
      "Please also refer to the documentation for alternative solver options:\n",
      "    https://scikit-learn.org/stable/modules/linear_model.html#logistic-regression\n",
      "  n_iter_i = _check_optimize_result(\n"
     ]
    },
    {
     "name": "stdout",
     "output_type": "stream",
     "text": [
      "[CV 4/5; 8/10] END ..................max_iter=8;, score=0.878 total time=   0.0s\n",
      "[CV 5/5; 8/10] START max_iter=8.................................................\n",
      "[CV 5/5; 8/10] END ..................max_iter=8;, score=0.885 total time=   0.0s\n",
      "[CV 1/5; 9/10] START max_iter=39................................................\n",
      "[CV 1/5; 9/10] END .................max_iter=39;, score=0.881 total time=   0.0s\n",
      "[CV 2/5; 9/10] START max_iter=39................................................\n",
      "[CV 2/5; 9/10] END .................max_iter=39;, score=0.886 total time=   0.0s\n",
      "[CV 3/5; 9/10] START max_iter=39................................................\n"
     ]
    },
    {
     "name": "stderr",
     "output_type": "stream",
     "text": [
      "C:\\Users\\gueye\\anaconda3\\lib\\site-packages\\sklearn\\linear_model\\_logistic.py:814: ConvergenceWarning: lbfgs failed to converge (status=1):\n",
      "STOP: TOTAL NO. of ITERATIONS REACHED LIMIT.\n",
      "\n",
      "Increase the number of iterations (max_iter) or scale the data as shown in:\n",
      "    https://scikit-learn.org/stable/modules/preprocessing.html\n",
      "Please also refer to the documentation for alternative solver options:\n",
      "    https://scikit-learn.org/stable/modules/linear_model.html#logistic-regression\n",
      "  n_iter_i = _check_optimize_result(\n",
      "C:\\Users\\gueye\\anaconda3\\lib\\site-packages\\sklearn\\linear_model\\_logistic.py:814: ConvergenceWarning: lbfgs failed to converge (status=1):\n",
      "STOP: TOTAL NO. of ITERATIONS REACHED LIMIT.\n",
      "\n",
      "Increase the number of iterations (max_iter) or scale the data as shown in:\n",
      "    https://scikit-learn.org/stable/modules/preprocessing.html\n",
      "Please also refer to the documentation for alternative solver options:\n",
      "    https://scikit-learn.org/stable/modules/linear_model.html#logistic-regression\n",
      "  n_iter_i = _check_optimize_result(\n"
     ]
    },
    {
     "name": "stdout",
     "output_type": "stream",
     "text": [
      "[CV 3/5; 9/10] END .................max_iter=39;, score=0.885 total time=   0.0s\n",
      "[CV 4/5; 9/10] START max_iter=39................................................\n",
      "[CV 4/5; 9/10] END .................max_iter=39;, score=0.879 total time=   0.0s\n",
      "[CV 5/5; 9/10] START max_iter=39................................................\n"
     ]
    },
    {
     "name": "stderr",
     "output_type": "stream",
     "text": [
      "C:\\Users\\gueye\\anaconda3\\lib\\site-packages\\sklearn\\linear_model\\_logistic.py:814: ConvergenceWarning: lbfgs failed to converge (status=1):\n",
      "STOP: TOTAL NO. of ITERATIONS REACHED LIMIT.\n",
      "\n",
      "Increase the number of iterations (max_iter) or scale the data as shown in:\n",
      "    https://scikit-learn.org/stable/modules/preprocessing.html\n",
      "Please also refer to the documentation for alternative solver options:\n",
      "    https://scikit-learn.org/stable/modules/linear_model.html#logistic-regression\n",
      "  n_iter_i = _check_optimize_result(\n",
      "C:\\Users\\gueye\\anaconda3\\lib\\site-packages\\sklearn\\linear_model\\_logistic.py:814: ConvergenceWarning: lbfgs failed to converge (status=1):\n",
      "STOP: TOTAL NO. of ITERATIONS REACHED LIMIT.\n",
      "\n",
      "Increase the number of iterations (max_iter) or scale the data as shown in:\n",
      "    https://scikit-learn.org/stable/modules/preprocessing.html\n",
      "Please also refer to the documentation for alternative solver options:\n",
      "    https://scikit-learn.org/stable/modules/linear_model.html#logistic-regression\n",
      "  n_iter_i = _check_optimize_result(\n"
     ]
    },
    {
     "name": "stdout",
     "output_type": "stream",
     "text": [
      "[CV 5/5; 9/10] END .................max_iter=39;, score=0.885 total time=   0.0s\n",
      "[CV 1/5; 10/10] START max_iter=77...............................................\n"
     ]
    },
    {
     "name": "stderr",
     "output_type": "stream",
     "text": [
      "C:\\Users\\gueye\\anaconda3\\lib\\site-packages\\sklearn\\linear_model\\_logistic.py:814: ConvergenceWarning: lbfgs failed to converge (status=1):\n",
      "STOP: TOTAL NO. of ITERATIONS REACHED LIMIT.\n",
      "\n",
      "Increase the number of iterations (max_iter) or scale the data as shown in:\n",
      "    https://scikit-learn.org/stable/modules/preprocessing.html\n",
      "Please also refer to the documentation for alternative solver options:\n",
      "    https://scikit-learn.org/stable/modules/linear_model.html#logistic-regression\n",
      "  n_iter_i = _check_optimize_result(\n"
     ]
    },
    {
     "name": "stdout",
     "output_type": "stream",
     "text": [
      "[CV 1/5; 10/10] END ................max_iter=77;, score=0.881 total time=   0.1s\n",
      "[CV 2/5; 10/10] START max_iter=77...............................................\n"
     ]
    },
    {
     "name": "stderr",
     "output_type": "stream",
     "text": [
      "C:\\Users\\gueye\\anaconda3\\lib\\site-packages\\sklearn\\linear_model\\_logistic.py:814: ConvergenceWarning: lbfgs failed to converge (status=1):\n",
      "STOP: TOTAL NO. of ITERATIONS REACHED LIMIT.\n",
      "\n",
      "Increase the number of iterations (max_iter) or scale the data as shown in:\n",
      "    https://scikit-learn.org/stable/modules/preprocessing.html\n",
      "Please also refer to the documentation for alternative solver options:\n",
      "    https://scikit-learn.org/stable/modules/linear_model.html#logistic-regression\n",
      "  n_iter_i = _check_optimize_result(\n"
     ]
    },
    {
     "name": "stdout",
     "output_type": "stream",
     "text": [
      "[CV 2/5; 10/10] END ................max_iter=77;, score=0.886 total time=   0.2s\n",
      "[CV 3/5; 10/10] START max_iter=77...............................................\n"
     ]
    },
    {
     "name": "stderr",
     "output_type": "stream",
     "text": [
      "C:\\Users\\gueye\\anaconda3\\lib\\site-packages\\sklearn\\linear_model\\_logistic.py:814: ConvergenceWarning: lbfgs failed to converge (status=1):\n",
      "STOP: TOTAL NO. of ITERATIONS REACHED LIMIT.\n",
      "\n",
      "Increase the number of iterations (max_iter) or scale the data as shown in:\n",
      "    https://scikit-learn.org/stable/modules/preprocessing.html\n",
      "Please also refer to the documentation for alternative solver options:\n",
      "    https://scikit-learn.org/stable/modules/linear_model.html#logistic-regression\n",
      "  n_iter_i = _check_optimize_result(\n"
     ]
    },
    {
     "name": "stdout",
     "output_type": "stream",
     "text": [
      "[CV 3/5; 10/10] END ................max_iter=77;, score=0.885 total time=   0.2s\n",
      "[CV 4/5; 10/10] START max_iter=77...............................................\n"
     ]
    },
    {
     "name": "stderr",
     "output_type": "stream",
     "text": [
      "C:\\Users\\gueye\\anaconda3\\lib\\site-packages\\sklearn\\linear_model\\_logistic.py:814: ConvergenceWarning: lbfgs failed to converge (status=1):\n",
      "STOP: TOTAL NO. of ITERATIONS REACHED LIMIT.\n",
      "\n",
      "Increase the number of iterations (max_iter) or scale the data as shown in:\n",
      "    https://scikit-learn.org/stable/modules/preprocessing.html\n",
      "Please also refer to the documentation for alternative solver options:\n",
      "    https://scikit-learn.org/stable/modules/linear_model.html#logistic-regression\n",
      "  n_iter_i = _check_optimize_result(\n"
     ]
    },
    {
     "name": "stdout",
     "output_type": "stream",
     "text": [
      "[CV 4/5; 10/10] END ................max_iter=77;, score=0.879 total time=   0.2s\n",
      "[CV 5/5; 10/10] START max_iter=77...............................................\n",
      "[CV 5/5; 10/10] END ................max_iter=77;, score=0.884 total time=   0.2s\n"
     ]
    },
    {
     "name": "stderr",
     "output_type": "stream",
     "text": [
      "C:\\Users\\gueye\\anaconda3\\lib\\site-packages\\sklearn\\linear_model\\_logistic.py:814: ConvergenceWarning: lbfgs failed to converge (status=1):\n",
      "STOP: TOTAL NO. of ITERATIONS REACHED LIMIT.\n",
      "\n",
      "Increase the number of iterations (max_iter) or scale the data as shown in:\n",
      "    https://scikit-learn.org/stable/modules/preprocessing.html\n",
      "Please also refer to the documentation for alternative solver options:\n",
      "    https://scikit-learn.org/stable/modules/linear_model.html#logistic-regression\n",
      "  n_iter_i = _check_optimize_result(\n",
      "C:\\Users\\gueye\\anaconda3\\lib\\site-packages\\sklearn\\model_selection\\_validation.py:372: FitFailedWarning: \n",
      "5 fits failed out of a total of 50.\n",
      "The score on these train-test partitions for these parameters will be set to nan.\n",
      "If these failures are not expected, you can try to debug them by setting error_score='raise'.\n",
      "\n",
      "Below are more details about the failures:\n",
      "--------------------------------------------------------------------------------\n",
      "5 fits failed with the following error:\n",
      "Traceback (most recent call last):\n",
      "  File \"C:\\Users\\gueye\\anaconda3\\lib\\site-packages\\sklearn\\model_selection\\_validation.py\", line 680, in _fit_and_score\n",
      "    estimator.fit(X_train, y_train, **fit_params)\n",
      "  File \"C:\\Users\\gueye\\anaconda3\\lib\\site-packages\\sklearn\\linear_model\\_logistic.py\", line 1461, in fit\n",
      "    solver = _check_solver(self.solver, self.penalty, self.dual)\n",
      "  File \"C:\\Users\\gueye\\anaconda3\\lib\\site-packages\\sklearn\\linear_model\\_logistic.py\", line 447, in _check_solver\n",
      "    raise ValueError(\n",
      "ValueError: Solver lbfgs supports only 'l2' or 'none' penalties, got l1 penalty.\n",
      "\n",
      "  warnings.warn(some_fits_failed_message, FitFailedWarning)\n",
      "C:\\Users\\gueye\\anaconda3\\lib\\site-packages\\sklearn\\model_selection\\_search.py:969: UserWarning: One or more of the test scores are non-finite: [       nan 0.88297111 0.88315328 0.88315328 0.88297111 0.88315328\n",
      " 0.88363912 0.88309249 0.88339622 0.88327475]\n",
      "  warnings.warn(\n",
      "C:\\Users\\gueye\\anaconda3\\lib\\site-packages\\sklearn\\linear_model\\_logistic.py:814: ConvergenceWarning: lbfgs failed to converge (status=1):\n",
      "STOP: TOTAL NO. of ITERATIONS REACHED LIMIT.\n",
      "\n",
      "Increase the number of iterations (max_iter) or scale the data as shown in:\n",
      "    https://scikit-learn.org/stable/modules/preprocessing.html\n",
      "Please also refer to the documentation for alternative solver options:\n",
      "    https://scikit-learn.org/stable/modules/linear_model.html#logistic-regression\n",
      "  n_iter_i = _check_optimize_result(\n"
     ]
    },
    {
     "data": {
      "text/plain": [
       "GridSearchCV(cv=5, estimator=LogisticRegression(),\n",
       "             param_grid=[{'penalty': ['l1', 'l2', 'none']},\n",
       "                         {'solver': ['newton-cg', 'lbfgs', 'saga']},\n",
       "                         {'max_iter': [15, 8, 39, 77]}],\n",
       "             verbose=10)"
      ]
     },
     "execution_count": 31,
     "metadata": {},
     "output_type": "execute_result"
    }
   ],
   "source": [
    "#optimisons le model de regression logistique\n",
    "#parametre du grid\n",
    "params=[\n",
    "    {'penalty':['l1', 'l2','none']},\n",
    "    {'solver':['newton-cg', 'lbfgs', 'saga']},\n",
    "    {'max_iter':[15,8,39,77]}\n",
    "]\n",
    "##instantiation du model\n",
    "lr_best_model=GridSearchCV(model_lr,params,cv=5,verbose=10)\n",
    "lr_best_model.fit(X_Train,y_Train)"
   ]
  },
  {
   "cell_type": "code",
   "execution_count": 32,
   "id": "9ffd15eb",
   "metadata": {},
   "outputs": [
    {
     "data": {
      "text/plain": [
       "{'max_iter': 15}"
      ]
     },
     "execution_count": 32,
     "metadata": {},
     "output_type": "execute_result"
    }
   ],
   "source": [
    "#parametres optimaux\n",
    "lr_best_model.best_params_"
   ]
  },
  {
   "cell_type": "code",
   "execution_count": 33,
   "id": "fc7ae5da",
   "metadata": {},
   "outputs": [
    {
     "data": {
      "text/plain": [
       "LogisticRegression(max_iter=15)"
      ]
     },
     "execution_count": 33,
     "metadata": {},
     "output_type": "execute_result"
    }
   ],
   "source": [
    "#model optimal\n",
    "lr_best_model.best_estimator_"
   ]
  },
  {
   "cell_type": "code",
   "execution_count": 34,
   "id": "94b8e52e",
   "metadata": {},
   "outputs": [
    {
     "data": {
      "text/plain": [
       "0.8836391189494892"
      ]
     },
     "execution_count": 34,
     "metadata": {},
     "output_type": "execute_result"
    }
   ],
   "source": [
    "#meilleur score\n",
    "lr_best_model.best_score_"
   ]
  },
  {
   "cell_type": "code",
   "execution_count": 35,
   "id": "520df089",
   "metadata": {},
   "outputs": [
    {
     "name": "stdout",
     "output_type": "stream",
     "text": [
      "le taux accuracy lr_best est de 0.8867951260980448\n"
     ]
    }
   ],
   "source": [
    "#Mesure d'evaluation de knn_best\n",
    "pred_lr_best = lr_best_model.best_estimator_.predict(X_Test)\n",
    "lr_best_acc = accuracy_score(y_Test,pred_lr_best)\n",
    "print('le taux accuracy lr_best est de', lr_best_acc)"
   ]
  },
  {
   "cell_type": "markdown",
   "id": "f0949c87",
   "metadata": {},
   "source": [
    "# Modele Naive Bayesian"
   ]
  },
  {
   "cell_type": "code",
   "execution_count": 36,
   "id": "ae65d3be",
   "metadata": {},
   "outputs": [
    {
     "name": "stdout",
     "output_type": "stream",
     "text": [
      "Le taux accurancy est de : 0.8551997733068858\n"
     ]
    }
   ],
   "source": [
    "#Instanciation du modele Naive Bayesian\n",
    "from sklearn.naive_bayes import GaussianNB\n",
    "gnb=GaussianNB()\n",
    "#Fitting du modele\n",
    "gnb.fit(X_Train,y_Train)\n",
    "#Prediction du modele\n",
    "pred_gnb=gnb.predict(X_Test)\n",
    "#Mesure d'evaluation\n",
    "gnb_acc=accuracy_score(y_Test,pred_gnb)\n",
    "print('Le taux accurancy est de :',gnb_acc)"
   ]
  },
  {
   "cell_type": "code",
   "execution_count": 37,
   "id": "f9d4f03b",
   "metadata": {},
   "outputs": [
    {
     "name": "stdout",
     "output_type": "stream",
     "text": [
      "Fitting 5 folds for each of 2 candidates, totalling 10 fits\n",
      "[CV 1/5; 1/2] START priors=None.................................................\n",
      "[CV 1/5; 1/2] END ..................priors=None;, score=0.858 total time=   0.0s\n",
      "[CV 2/5; 1/2] START priors=None.................................................\n",
      "[CV 2/5; 1/2] END ..................priors=None;, score=0.861 total time=   0.0s\n",
      "[CV 3/5; 1/2] START priors=None.................................................\n",
      "[CV 3/5; 1/2] END ..................priors=None;, score=0.550 total time=   0.0s\n",
      "[CV 4/5; 1/2] START priors=None.................................................\n",
      "[CV 4/5; 1/2] END ..................priors=None;, score=0.853 total time=   0.0s\n",
      "[CV 5/5; 1/2] START priors=None.................................................\n",
      "[CV 5/5; 1/2] END ..................priors=None;, score=0.861 total time=   0.0s\n",
      "[CV 1/5; 2/2] START priors=.....................................................\n",
      "[CV 1/5; 2/2] END ........................priors=;, score=nan total time=   0.0s\n",
      "[CV 2/5; 2/2] START priors=.....................................................\n",
      "[CV 2/5; 2/2] END ........................priors=;, score=nan total time=   0.0s\n",
      "[CV 3/5; 2/2] START priors=.....................................................\n",
      "[CV 3/5; 2/2] END ........................priors=;, score=nan total time=   0.0s\n",
      "[CV 4/5; 2/2] START priors=.....................................................\n",
      "[CV 4/5; 2/2] END ........................priors=;, score=nan total time=   0.0s\n",
      "[CV 5/5; 2/2] START priors=.....................................................\n",
      "[CV 5/5; 2/2] END ........................priors=;, score=nan total time=   0.0s\n"
     ]
    },
    {
     "name": "stderr",
     "output_type": "stream",
     "text": [
      "C:\\Users\\gueye\\anaconda3\\lib\\site-packages\\sklearn\\model_selection\\_validation.py:372: FitFailedWarning: \n",
      "5 fits failed out of a total of 10.\n",
      "The score on these train-test partitions for these parameters will be set to nan.\n",
      "If these failures are not expected, you can try to debug them by setting error_score='raise'.\n",
      "\n",
      "Below are more details about the failures:\n",
      "--------------------------------------------------------------------------------\n",
      "5 fits failed with the following error:\n",
      "Traceback (most recent call last):\n",
      "  File \"C:\\Users\\gueye\\anaconda3\\lib\\site-packages\\sklearn\\model_selection\\_validation.py\", line 680, in _fit_and_score\n",
      "    estimator.fit(X_train, y_train, **fit_params)\n",
      "  File \"C:\\Users\\gueye\\anaconda3\\lib\\site-packages\\sklearn\\naive_bayes.py\", line 245, in fit\n",
      "    return self._partial_fit(\n",
      "  File \"C:\\Users\\gueye\\anaconda3\\lib\\site-packages\\sklearn\\naive_bayes.py\", line 427, in _partial_fit\n",
      "    if len(priors) != n_classes:\n",
      "TypeError: len() of unsized object\n",
      "\n",
      "  warnings.warn(some_fits_failed_message, FitFailedWarning)\n",
      "C:\\Users\\gueye\\anaconda3\\lib\\site-packages\\sklearn\\model_selection\\_search.py:969: UserWarning: One or more of the test scores are non-finite: [0.79654672        nan]\n",
      "  warnings.warn(\n"
     ]
    },
    {
     "data": {
      "text/plain": [
       "GridSearchCV(cv=5, estimator=GaussianNB(), param_grid=[{'priors': [None, '']}],\n",
       "             verbose=10)"
      ]
     },
     "execution_count": 37,
     "metadata": {},
     "output_type": "execute_result"
    }
   ],
   "source": [
    "#optimisons le model de Naive Bayesian\n",
    "#parametre du grid\n",
    "params=[\n",
    "    {'priors':[None,'']}\n",
    "]\n",
    "##instantiation du model\n",
    "gnb_best_model=GridSearchCV(gnb,params,cv=5,verbose=10)\n",
    "gnb_best_model.fit(X_Train,y_Train)"
   ]
  },
  {
   "cell_type": "code",
   "execution_count": 38,
   "id": "08989472",
   "metadata": {},
   "outputs": [
    {
     "data": {
      "text/plain": [
       "{'priors': None}"
      ]
     },
     "execution_count": 38,
     "metadata": {},
     "output_type": "execute_result"
    }
   ],
   "source": [
    "#parametres optimaux\n",
    "gnb_best_model.best_params_"
   ]
  },
  {
   "cell_type": "code",
   "execution_count": 39,
   "id": "36b9258e",
   "metadata": {},
   "outputs": [
    {
     "data": {
      "text/plain": [
       "0.7965467217078932"
      ]
     },
     "execution_count": 39,
     "metadata": {},
     "output_type": "execute_result"
    }
   ],
   "source": [
    "#meilleur score\n",
    "gnb_best_model.best_score_"
   ]
  },
  {
   "cell_type": "code",
   "execution_count": 40,
   "id": "8c52956e",
   "metadata": {},
   "outputs": [
    {
     "name": "stdout",
     "output_type": "stream",
     "text": [
      "le taux accuracy gnb_best est de 0.8551997733068858\n"
     ]
    }
   ],
   "source": [
    "#Mesure d'evaluation de gnb_best\n",
    "pred_gnb_best = gnb_best_model.best_estimator_.predict(X_Test)\n",
    "gnb_best_acc = accuracy_score(y_Test,pred_gnb_best)\n",
    "print('le taux accuracy gnb_best est de', gnb_best_acc)"
   ]
  },
  {
   "cell_type": "markdown",
   "id": "7288dbd5",
   "metadata": {},
   "source": [
    "# Modéle Arbre de Decision"
   ]
  },
  {
   "cell_type": "code",
   "execution_count": 41,
   "id": "8548d9bc",
   "metadata": {},
   "outputs": [
    {
     "name": "stdout",
     "output_type": "stream",
     "text": [
      "Le taux accurancy est de : 0.8369226409747804\n"
     ]
    }
   ],
   "source": [
    "#Instanciation du modele arbre de decision\n",
    "from sklearn.tree import DecisionTreeClassifier\n",
    "dtc=DecisionTreeClassifier()\n",
    "#Fitting du modele\n",
    "dtc.fit(X_Train,y_Train)\n",
    "#Prediction du modele\n",
    "pred_dtc=dtc.predict(X_Test)\n",
    "#Mesure d'evaluation\n",
    "dtc_acc=accuracy_score(y_Test,pred_dtc)\n",
    "print('Le taux accurancy est de :',dtc_acc)"
   ]
  },
  {
   "cell_type": "code",
   "execution_count": 42,
   "id": "89cb6430",
   "metadata": {},
   "outputs": [
    {
     "name": "stdout",
     "output_type": "stream",
     "text": [
      "Fitting 5 folds for each of 25 candidates, totalling 125 fits\n",
      "[CV 1/5; 1/25] START max_depth=4, min_samples_leaf=1............................\n",
      "[CV 1/5; 1/25] END max_depth=4, min_samples_leaf=1;, score=0.876 total time=   0.0s\n",
      "[CV 2/5; 1/25] START max_depth=4, min_samples_leaf=1............................\n",
      "[CV 2/5; 1/25] END max_depth=4, min_samples_leaf=1;, score=0.882 total time=   0.0s\n",
      "[CV 3/5; 1/25] START max_depth=4, min_samples_leaf=1............................\n",
      "[CV 3/5; 1/25] END max_depth=4, min_samples_leaf=1;, score=0.881 total time=   0.0s\n",
      "[CV 4/5; 1/25] START max_depth=4, min_samples_leaf=1............................\n",
      "[CV 4/5; 1/25] END max_depth=4, min_samples_leaf=1;, score=0.875 total time=   0.0s\n",
      "[CV 5/5; 1/25] START max_depth=4, min_samples_leaf=1............................\n",
      "[CV 5/5; 1/25] END max_depth=4, min_samples_leaf=1;, score=0.876 total time=   0.0s\n",
      "[CV 1/5; 2/25] START max_depth=4, min_samples_leaf=5............................\n",
      "[CV 1/5; 2/25] END max_depth=4, min_samples_leaf=5;, score=0.876 total time=   0.0s\n",
      "[CV 2/5; 2/25] START max_depth=4, min_samples_leaf=5............................\n",
      "[CV 2/5; 2/25] END max_depth=4, min_samples_leaf=5;, score=0.882 total time=   0.0s\n",
      "[CV 3/5; 2/25] START max_depth=4, min_samples_leaf=5............................\n",
      "[CV 3/5; 2/25] END max_depth=4, min_samples_leaf=5;, score=0.881 total time=   0.0s\n",
      "[CV 4/5; 2/25] START max_depth=4, min_samples_leaf=5............................\n",
      "[CV 4/5; 2/25] END max_depth=4, min_samples_leaf=5;, score=0.875 total time=   0.0s\n",
      "[CV 5/5; 2/25] START max_depth=4, min_samples_leaf=5............................\n",
      "[CV 5/5; 2/25] END max_depth=4, min_samples_leaf=5;, score=0.876 total time=   0.0s\n",
      "[CV 1/5; 3/25] START max_depth=4, min_samples_leaf=4............................\n",
      "[CV 1/5; 3/25] END max_depth=4, min_samples_leaf=4;, score=0.876 total time=   0.0s\n",
      "[CV 2/5; 3/25] START max_depth=4, min_samples_leaf=4............................\n",
      "[CV 2/5; 3/25] END max_depth=4, min_samples_leaf=4;, score=0.882 total time=   0.0s\n",
      "[CV 3/5; 3/25] START max_depth=4, min_samples_leaf=4............................\n",
      "[CV 3/5; 3/25] END max_depth=4, min_samples_leaf=4;, score=0.881 total time=   0.0s\n",
      "[CV 4/5; 3/25] START max_depth=4, min_samples_leaf=4............................\n",
      "[CV 4/5; 3/25] END max_depth=4, min_samples_leaf=4;, score=0.875 total time=   0.0s\n",
      "[CV 5/5; 3/25] START max_depth=4, min_samples_leaf=4............................\n",
      "[CV 5/5; 3/25] END max_depth=4, min_samples_leaf=4;, score=0.876 total time=   0.0s\n",
      "[CV 1/5; 4/25] START max_depth=4, min_samples_leaf=3............................\n",
      "[CV 1/5; 4/25] END max_depth=4, min_samples_leaf=3;, score=0.876 total time=   0.0s\n",
      "[CV 2/5; 4/25] START max_depth=4, min_samples_leaf=3............................\n",
      "[CV 2/5; 4/25] END max_depth=4, min_samples_leaf=3;, score=0.882 total time=   0.0s\n",
      "[CV 3/5; 4/25] START max_depth=4, min_samples_leaf=3............................\n",
      "[CV 3/5; 4/25] END max_depth=4, min_samples_leaf=3;, score=0.881 total time=   0.0s\n",
      "[CV 4/5; 4/25] START max_depth=4, min_samples_leaf=3............................\n",
      "[CV 4/5; 4/25] END max_depth=4, min_samples_leaf=3;, score=0.875 total time=   0.0s\n",
      "[CV 5/5; 4/25] START max_depth=4, min_samples_leaf=3............................\n",
      "[CV 5/5; 4/25] END max_depth=4, min_samples_leaf=3;, score=0.876 total time=   0.0s\n",
      "[CV 1/5; 5/25] START max_depth=4, min_samples_leaf=2............................\n",
      "[CV 1/5; 5/25] END max_depth=4, min_samples_leaf=2;, score=0.876 total time=   0.0s\n",
      "[CV 2/5; 5/25] START max_depth=4, min_samples_leaf=2............................\n",
      "[CV 2/5; 5/25] END max_depth=4, min_samples_leaf=2;, score=0.882 total time=   0.0s\n",
      "[CV 3/5; 5/25] START max_depth=4, min_samples_leaf=2............................\n",
      "[CV 3/5; 5/25] END max_depth=4, min_samples_leaf=2;, score=0.881 total time=   0.0s\n",
      "[CV 4/5; 5/25] START max_depth=4, min_samples_leaf=2............................\n",
      "[CV 4/5; 5/25] END max_depth=4, min_samples_leaf=2;, score=0.875 total time=   0.0s\n",
      "[CV 5/5; 5/25] START max_depth=4, min_samples_leaf=2............................\n",
      "[CV 5/5; 5/25] END max_depth=4, min_samples_leaf=2;, score=0.876 total time=   0.0s\n",
      "[CV 1/5; 6/25] START max_depth=16, min_samples_leaf=1...........................\n",
      "[CV 1/5; 6/25] END max_depth=16, min_samples_leaf=1;, score=0.862 total time=   0.0s\n",
      "[CV 2/5; 6/25] START max_depth=16, min_samples_leaf=1...........................\n",
      "[CV 2/5; 6/25] END max_depth=16, min_samples_leaf=1;, score=0.860 total time=   0.1s\n",
      "[CV 3/5; 6/25] START max_depth=16, min_samples_leaf=1...........................\n",
      "[CV 3/5; 6/25] END max_depth=16, min_samples_leaf=1;, score=0.860 total time=   0.0s\n",
      "[CV 4/5; 6/25] START max_depth=16, min_samples_leaf=1...........................\n",
      "[CV 4/5; 6/25] END max_depth=16, min_samples_leaf=1;, score=0.858 total time=   0.0s\n",
      "[CV 5/5; 6/25] START max_depth=16, min_samples_leaf=1...........................\n",
      "[CV 5/5; 6/25] END max_depth=16, min_samples_leaf=1;, score=0.856 total time=   0.1s\n",
      "[CV 1/5; 7/25] START max_depth=16, min_samples_leaf=5...........................\n",
      "[CV 1/5; 7/25] END max_depth=16, min_samples_leaf=5;, score=0.875 total time=   0.0s\n",
      "[CV 2/5; 7/25] START max_depth=16, min_samples_leaf=5...........................\n",
      "[CV 2/5; 7/25] END max_depth=16, min_samples_leaf=5;, score=0.871 total time=   0.0s\n",
      "[CV 3/5; 7/25] START max_depth=16, min_samples_leaf=5...........................\n",
      "[CV 3/5; 7/25] END max_depth=16, min_samples_leaf=5;, score=0.875 total time=   0.0s\n",
      "[CV 4/5; 7/25] START max_depth=16, min_samples_leaf=5...........................\n",
      "[CV 4/5; 7/25] END max_depth=16, min_samples_leaf=5;, score=0.874 total time=   0.0s\n",
      "[CV 5/5; 7/25] START max_depth=16, min_samples_leaf=5...........................\n",
      "[CV 5/5; 7/25] END max_depth=16, min_samples_leaf=5;, score=0.875 total time=   0.0s\n",
      "[CV 1/5; 8/25] START max_depth=16, min_samples_leaf=4...........................\n",
      "[CV 1/5; 8/25] END max_depth=16, min_samples_leaf=4;, score=0.876 total time=   0.0s\n",
      "[CV 2/5; 8/25] START max_depth=16, min_samples_leaf=4...........................\n",
      "[CV 2/5; 8/25] END max_depth=16, min_samples_leaf=4;, score=0.871 total time=   0.0s\n",
      "[CV 3/5; 8/25] START max_depth=16, min_samples_leaf=4...........................\n",
      "[CV 3/5; 8/25] END max_depth=16, min_samples_leaf=4;, score=0.873 total time=   0.0s\n",
      "[CV 4/5; 8/25] START max_depth=16, min_samples_leaf=4...........................\n",
      "[CV 4/5; 8/25] END max_depth=16, min_samples_leaf=4;, score=0.869 total time=   0.0s\n",
      "[CV 5/5; 8/25] START max_depth=16, min_samples_leaf=4...........................\n",
      "[CV 5/5; 8/25] END max_depth=16, min_samples_leaf=4;, score=0.875 total time=   0.0s\n",
      "[CV 1/5; 9/25] START max_depth=16, min_samples_leaf=3...........................\n",
      "[CV 1/5; 9/25] END max_depth=16, min_samples_leaf=3;, score=0.871 total time=   0.0s\n",
      "[CV 2/5; 9/25] START max_depth=16, min_samples_leaf=3...........................\n",
      "[CV 2/5; 9/25] END max_depth=16, min_samples_leaf=3;, score=0.863 total time=   0.0s\n",
      "[CV 3/5; 9/25] START max_depth=16, min_samples_leaf=3...........................\n",
      "[CV 3/5; 9/25] END max_depth=16, min_samples_leaf=3;, score=0.869 total time=   0.0s\n",
      "[CV 4/5; 9/25] START max_depth=16, min_samples_leaf=3...........................\n",
      "[CV 4/5; 9/25] END max_depth=16, min_samples_leaf=3;, score=0.862 total time=   0.0s\n",
      "[CV 5/5; 9/25] START max_depth=16, min_samples_leaf=3...........................\n",
      "[CV 5/5; 9/25] END max_depth=16, min_samples_leaf=3;, score=0.870 total time=   0.0s\n",
      "[CV 1/5; 10/25] START max_depth=16, min_samples_leaf=2..........................\n",
      "[CV 1/5; 10/25] END max_depth=16, min_samples_leaf=2;, score=0.871 total time=   0.0s\n",
      "[CV 2/5; 10/25] START max_depth=16, min_samples_leaf=2..........................\n",
      "[CV 2/5; 10/25] END max_depth=16, min_samples_leaf=2;, score=0.866 total time=   0.0s\n",
      "[CV 3/5; 10/25] START max_depth=16, min_samples_leaf=2..........................\n",
      "[CV 3/5; 10/25] END max_depth=16, min_samples_leaf=2;, score=0.867 total time=   0.0s\n",
      "[CV 4/5; 10/25] START max_depth=16, min_samples_leaf=2..........................\n",
      "[CV 4/5; 10/25] END max_depth=16, min_samples_leaf=2;, score=0.869 total time=   0.0s\n",
      "[CV 5/5; 10/25] START max_depth=16, min_samples_leaf=2..........................\n",
      "[CV 5/5; 10/25] END max_depth=16, min_samples_leaf=2;, score=0.870 total time=   0.1s\n",
      "[CV 1/5; 11/25] START max_depth=5, min_samples_leaf=1...........................\n",
      "[CV 1/5; 11/25] END max_depth=5, min_samples_leaf=1;, score=0.880 total time=   0.0s\n",
      "[CV 2/5; 11/25] START max_depth=5, min_samples_leaf=1...........................\n",
      "[CV 2/5; 11/25] END max_depth=5, min_samples_leaf=1;, score=0.882 total time=   0.0s\n",
      "[CV 3/5; 11/25] START max_depth=5, min_samples_leaf=1...........................\n",
      "[CV 3/5; 11/25] END max_depth=5, min_samples_leaf=1;, score=0.880 total time=   0.0s\n",
      "[CV 4/5; 11/25] START max_depth=5, min_samples_leaf=1...........................\n",
      "[CV 4/5; 11/25] END max_depth=5, min_samples_leaf=1;, score=0.879 total time=   0.0s\n",
      "[CV 5/5; 11/25] START max_depth=5, min_samples_leaf=1...........................\n",
      "[CV 5/5; 11/25] END max_depth=5, min_samples_leaf=1;, score=0.879 total time=   0.0s\n",
      "[CV 1/5; 12/25] START max_depth=5, min_samples_leaf=5...........................\n",
      "[CV 1/5; 12/25] END max_depth=5, min_samples_leaf=5;, score=0.881 total time=   0.0s\n",
      "[CV 2/5; 12/25] START max_depth=5, min_samples_leaf=5...........................\n",
      "[CV 2/5; 12/25] END max_depth=5, min_samples_leaf=5;, score=0.882 total time=   0.0s\n",
      "[CV 3/5; 12/25] START max_depth=5, min_samples_leaf=5...........................\n",
      "[CV 3/5; 12/25] END max_depth=5, min_samples_leaf=5;, score=0.881 total time=   0.0s\n",
      "[CV 4/5; 12/25] START max_depth=5, min_samples_leaf=5...........................\n",
      "[CV 4/5; 12/25] END max_depth=5, min_samples_leaf=5;, score=0.879 total time=   0.0s\n",
      "[CV 5/5; 12/25] START max_depth=5, min_samples_leaf=5...........................\n",
      "[CV 5/5; 12/25] END max_depth=5, min_samples_leaf=5;, score=0.879 total time=   0.0s\n",
      "[CV 1/5; 13/25] START max_depth=5, min_samples_leaf=4...........................\n",
      "[CV 1/5; 13/25] END max_depth=5, min_samples_leaf=4;, score=0.880 total time=   0.0s\n",
      "[CV 2/5; 13/25] START max_depth=5, min_samples_leaf=4...........................\n",
      "[CV 2/5; 13/25] END max_depth=5, min_samples_leaf=4;, score=0.882 total time=   0.0s\n",
      "[CV 3/5; 13/25] START max_depth=5, min_samples_leaf=4...........................\n",
      "[CV 3/5; 13/25] END max_depth=5, min_samples_leaf=4;, score=0.881 total time=   0.0s\n",
      "[CV 4/5; 13/25] START max_depth=5, min_samples_leaf=4...........................\n",
      "[CV 4/5; 13/25] END max_depth=5, min_samples_leaf=4;, score=0.878 total time=   0.1s\n",
      "[CV 5/5; 13/25] START max_depth=5, min_samples_leaf=4...........................\n",
      "[CV 5/5; 13/25] END max_depth=5, min_samples_leaf=4;, score=0.879 total time=   0.0s\n",
      "[CV 1/5; 14/25] START max_depth=5, min_samples_leaf=3...........................\n",
      "[CV 1/5; 14/25] END max_depth=5, min_samples_leaf=3;, score=0.880 total time=   0.0s\n",
      "[CV 2/5; 14/25] START max_depth=5, min_samples_leaf=3...........................\n",
      "[CV 2/5; 14/25] END max_depth=5, min_samples_leaf=3;, score=0.882 total time=   0.0s\n",
      "[CV 3/5; 14/25] START max_depth=5, min_samples_leaf=3...........................\n",
      "[CV 3/5; 14/25] END max_depth=5, min_samples_leaf=3;, score=0.881 total time=   0.0s\n",
      "[CV 4/5; 14/25] START max_depth=5, min_samples_leaf=3...........................\n",
      "[CV 4/5; 14/25] END max_depth=5, min_samples_leaf=3;, score=0.879 total time=   0.0s\n",
      "[CV 5/5; 14/25] START max_depth=5, min_samples_leaf=3...........................\n",
      "[CV 5/5; 14/25] END max_depth=5, min_samples_leaf=3;, score=0.879 total time=   0.0s\n",
      "[CV 1/5; 15/25] START max_depth=5, min_samples_leaf=2...........................\n",
      "[CV 1/5; 15/25] END max_depth=5, min_samples_leaf=2;, score=0.880 total time=   0.0s\n",
      "[CV 2/5; 15/25] START max_depth=5, min_samples_leaf=2...........................\n",
      "[CV 2/5; 15/25] END max_depth=5, min_samples_leaf=2;, score=0.882 total time=   0.0s\n",
      "[CV 3/5; 15/25] START max_depth=5, min_samples_leaf=2...........................\n",
      "[CV 3/5; 15/25] END max_depth=5, min_samples_leaf=2;, score=0.881 total time=   0.0s\n",
      "[CV 4/5; 15/25] START max_depth=5, min_samples_leaf=2...........................\n",
      "[CV 4/5; 15/25] END max_depth=5, min_samples_leaf=2;, score=0.879 total time=   0.0s\n",
      "[CV 5/5; 15/25] START max_depth=5, min_samples_leaf=2...........................\n",
      "[CV 5/5; 15/25] END max_depth=5, min_samples_leaf=2;, score=0.879 total time=   0.0s\n",
      "[CV 1/5; 16/25] START max_depth=3, min_samples_leaf=1...........................\n",
      "[CV 1/5; 16/25] END max_depth=3, min_samples_leaf=1;, score=0.877 total time=   0.0s\n",
      "[CV 2/5; 16/25] START max_depth=3, min_samples_leaf=1...........................\n",
      "[CV 2/5; 16/25] END max_depth=3, min_samples_leaf=1;, score=0.878 total time=   0.0s\n",
      "[CV 3/5; 16/25] START max_depth=3, min_samples_leaf=1...........................\n",
      "[CV 3/5; 16/25] END max_depth=3, min_samples_leaf=1;, score=0.879 total time=   0.0s\n",
      "[CV 4/5; 16/25] START max_depth=3, min_samples_leaf=1...........................\n",
      "[CV 4/5; 16/25] END max_depth=3, min_samples_leaf=1;, score=0.872 total time=   0.0s\n",
      "[CV 5/5; 16/25] START max_depth=3, min_samples_leaf=1...........................\n",
      "[CV 5/5; 16/25] END max_depth=3, min_samples_leaf=1;, score=0.876 total time=   0.0s\n",
      "[CV 1/5; 17/25] START max_depth=3, min_samples_leaf=5...........................\n",
      "[CV 1/5; 17/25] END max_depth=3, min_samples_leaf=5;, score=0.877 total time=   0.0s\n",
      "[CV 2/5; 17/25] START max_depth=3, min_samples_leaf=5...........................\n",
      "[CV 2/5; 17/25] END max_depth=3, min_samples_leaf=5;, score=0.878 total time=   0.1s\n",
      "[CV 3/5; 17/25] START max_depth=3, min_samples_leaf=5...........................\n",
      "[CV 3/5; 17/25] END max_depth=3, min_samples_leaf=5;, score=0.879 total time=   0.0s\n",
      "[CV 4/5; 17/25] START max_depth=3, min_samples_leaf=5...........................\n",
      "[CV 4/5; 17/25] END max_depth=3, min_samples_leaf=5;, score=0.872 total time=   0.0s\n",
      "[CV 5/5; 17/25] START max_depth=3, min_samples_leaf=5...........................\n",
      "[CV 5/5; 17/25] END max_depth=3, min_samples_leaf=5;, score=0.876 total time=   0.0s\n",
      "[CV 1/5; 18/25] START max_depth=3, min_samples_leaf=4...........................\n",
      "[CV 1/5; 18/25] END max_depth=3, min_samples_leaf=4;, score=0.877 total time=   0.0s\n",
      "[CV 2/5; 18/25] START max_depth=3, min_samples_leaf=4...........................\n",
      "[CV 2/5; 18/25] END max_depth=3, min_samples_leaf=4;, score=0.878 total time=   0.0s\n",
      "[CV 3/5; 18/25] START max_depth=3, min_samples_leaf=4...........................\n",
      "[CV 3/5; 18/25] END max_depth=3, min_samples_leaf=4;, score=0.879 total time=   0.0s\n",
      "[CV 4/5; 18/25] START max_depth=3, min_samples_leaf=4...........................\n",
      "[CV 4/5; 18/25] END max_depth=3, min_samples_leaf=4;, score=0.872 total time=   0.0s\n",
      "[CV 5/5; 18/25] START max_depth=3, min_samples_leaf=4...........................\n",
      "[CV 5/5; 18/25] END max_depth=3, min_samples_leaf=4;, score=0.876 total time=   0.0s\n",
      "[CV 1/5; 19/25] START max_depth=3, min_samples_leaf=3...........................\n",
      "[CV 1/5; 19/25] END max_depth=3, min_samples_leaf=3;, score=0.877 total time=   0.0s\n",
      "[CV 2/5; 19/25] START max_depth=3, min_samples_leaf=3...........................\n",
      "[CV 2/5; 19/25] END max_depth=3, min_samples_leaf=3;, score=0.878 total time=   0.0s\n",
      "[CV 3/5; 19/25] START max_depth=3, min_samples_leaf=3...........................\n",
      "[CV 3/5; 19/25] END max_depth=3, min_samples_leaf=3;, score=0.879 total time=   0.0s\n",
      "[CV 4/5; 19/25] START max_depth=3, min_samples_leaf=3...........................\n",
      "[CV 4/5; 19/25] END max_depth=3, min_samples_leaf=3;, score=0.872 total time=   0.0s\n",
      "[CV 5/5; 19/25] START max_depth=3, min_samples_leaf=3...........................\n",
      "[CV 5/5; 19/25] END max_depth=3, min_samples_leaf=3;, score=0.876 total time=   0.0s\n",
      "[CV 1/5; 20/25] START max_depth=3, min_samples_leaf=2...........................\n",
      "[CV 1/5; 20/25] END max_depth=3, min_samples_leaf=2;, score=0.877 total time=   0.0s\n",
      "[CV 2/5; 20/25] START max_depth=3, min_samples_leaf=2...........................\n",
      "[CV 2/5; 20/25] END max_depth=3, min_samples_leaf=2;, score=0.878 total time=   0.0s\n",
      "[CV 3/5; 20/25] START max_depth=3, min_samples_leaf=2...........................\n",
      "[CV 3/5; 20/25] END max_depth=3, min_samples_leaf=2;, score=0.879 total time=   0.0s\n",
      "[CV 4/5; 20/25] START max_depth=3, min_samples_leaf=2...........................\n",
      "[CV 4/5; 20/25] END max_depth=3, min_samples_leaf=2;, score=0.872 total time=   0.0s\n",
      "[CV 5/5; 20/25] START max_depth=3, min_samples_leaf=2...........................\n",
      "[CV 5/5; 20/25] END max_depth=3, min_samples_leaf=2;, score=0.876 total time=   0.0s\n",
      "[CV 1/5; 21/25] START max_depth=9, min_samples_leaf=1...........................\n",
      "[CV 1/5; 21/25] END max_depth=9, min_samples_leaf=1;, score=0.881 total time=   0.1s\n",
      "[CV 2/5; 21/25] START max_depth=9, min_samples_leaf=1...........................\n",
      "[CV 2/5; 21/25] END max_depth=9, min_samples_leaf=1;, score=0.883 total time=   0.1s\n",
      "[CV 3/5; 21/25] START max_depth=9, min_samples_leaf=1...........................\n",
      "[CV 3/5; 21/25] END max_depth=9, min_samples_leaf=1;, score=0.884 total time=   0.1s\n",
      "[CV 4/5; 21/25] START max_depth=9, min_samples_leaf=1...........................\n",
      "[CV 4/5; 21/25] END max_depth=9, min_samples_leaf=1;, score=0.872 total time=   0.0s\n",
      "[CV 5/5; 21/25] START max_depth=9, min_samples_leaf=1...........................\n",
      "[CV 5/5; 21/25] END max_depth=9, min_samples_leaf=1;, score=0.877 total time=   0.0s\n",
      "[CV 1/5; 22/25] START max_depth=9, min_samples_leaf=5...........................\n",
      "[CV 1/5; 22/25] END max_depth=9, min_samples_leaf=5;, score=0.886 total time=   0.0s\n",
      "[CV 2/5; 22/25] START max_depth=9, min_samples_leaf=5...........................\n",
      "[CV 2/5; 22/25] END max_depth=9, min_samples_leaf=5;, score=0.883 total time=   0.0s\n",
      "[CV 3/5; 22/25] START max_depth=9, min_samples_leaf=5...........................\n",
      "[CV 3/5; 22/25] END max_depth=9, min_samples_leaf=5;, score=0.885 total time=   0.0s\n",
      "[CV 4/5; 22/25] START max_depth=9, min_samples_leaf=5...........................\n",
      "[CV 4/5; 22/25] END max_depth=9, min_samples_leaf=5;, score=0.876 total time=   0.0s\n",
      "[CV 5/5; 22/25] START max_depth=9, min_samples_leaf=5...........................\n",
      "[CV 5/5; 22/25] END max_depth=9, min_samples_leaf=5;, score=0.877 total time=   0.0s\n",
      "[CV 1/5; 23/25] START max_depth=9, min_samples_leaf=4...........................\n",
      "[CV 1/5; 23/25] END max_depth=9, min_samples_leaf=4;, score=0.883 total time=   0.0s\n",
      "[CV 2/5; 23/25] START max_depth=9, min_samples_leaf=4...........................\n",
      "[CV 2/5; 23/25] END max_depth=9, min_samples_leaf=4;, score=0.882 total time=   0.0s\n",
      "[CV 3/5; 23/25] START max_depth=9, min_samples_leaf=4...........................\n",
      "[CV 3/5; 23/25] END max_depth=9, min_samples_leaf=4;, score=0.883 total time=   0.0s\n",
      "[CV 4/5; 23/25] START max_depth=9, min_samples_leaf=4...........................\n",
      "[CV 4/5; 23/25] END max_depth=9, min_samples_leaf=4;, score=0.875 total time=   0.0s\n",
      "[CV 5/5; 23/25] START max_depth=9, min_samples_leaf=4...........................\n",
      "[CV 5/5; 23/25] END max_depth=9, min_samples_leaf=4;, score=0.878 total time=   0.0s\n",
      "[CV 1/5; 24/25] START max_depth=9, min_samples_leaf=3...........................\n",
      "[CV 1/5; 24/25] END max_depth=9, min_samples_leaf=3;, score=0.882 total time=   0.1s\n",
      "[CV 2/5; 24/25] START max_depth=9, min_samples_leaf=3...........................\n",
      "[CV 2/5; 24/25] END max_depth=9, min_samples_leaf=3;, score=0.885 total time=   0.0s\n",
      "[CV 3/5; 24/25] START max_depth=9, min_samples_leaf=3...........................\n",
      "[CV 3/5; 24/25] END max_depth=9, min_samples_leaf=3;, score=0.885 total time=   0.0s\n",
      "[CV 4/5; 24/25] START max_depth=9, min_samples_leaf=3...........................\n",
      "[CV 4/5; 24/25] END max_depth=9, min_samples_leaf=3;, score=0.875 total time=   0.0s\n",
      "[CV 5/5; 24/25] START max_depth=9, min_samples_leaf=3...........................\n",
      "[CV 5/5; 24/25] END max_depth=9, min_samples_leaf=3;, score=0.875 total time=   0.0s\n",
      "[CV 1/5; 25/25] START max_depth=9, min_samples_leaf=2...........................\n",
      "[CV 1/5; 25/25] END max_depth=9, min_samples_leaf=2;, score=0.883 total time=   0.0s\n",
      "[CV 2/5; 25/25] START max_depth=9, min_samples_leaf=2...........................\n",
      "[CV 2/5; 25/25] END max_depth=9, min_samples_leaf=2;, score=0.885 total time=   0.0s\n",
      "[CV 3/5; 25/25] START max_depth=9, min_samples_leaf=2...........................\n",
      "[CV 3/5; 25/25] END max_depth=9, min_samples_leaf=2;, score=0.883 total time=   0.0s\n",
      "[CV 4/5; 25/25] START max_depth=9, min_samples_leaf=2...........................\n",
      "[CV 4/5; 25/25] END max_depth=9, min_samples_leaf=2;, score=0.875 total time=   0.0s\n",
      "[CV 5/5; 25/25] START max_depth=9, min_samples_leaf=2...........................\n",
      "[CV 5/5; 25/25] END max_depth=9, min_samples_leaf=2;, score=0.875 total time=   0.0s\n"
     ]
    },
    {
     "data": {
      "text/plain": [
       "GridSearchCV(cv=5, estimator=DecisionTreeClassifier(),\n",
       "             param_grid=[{'max_depth': [4, 16, 5, 3, 9],\n",
       "                          'min_samples_leaf': [1, 5, 4, 3, 2]}],\n",
       "             verbose=10)"
      ]
     },
     "execution_count": 42,
     "metadata": {},
     "output_type": "execute_result"
    }
   ],
   "source": [
    "#optimisons le model d'Arbre de decision\n",
    "#parametre du grid\n",
    "params=[\n",
    "    {'max_depth':[4,16,5,3,9],\n",
    "    'min_samples_leaf':[1,5,4,3,2]}\n",
    "]\n",
    "##instantiation du model\n",
    "dtc_best_model=GridSearchCV(dtc,params,cv=5,verbose=10)\n",
    "dtc_best_model.fit(X_Train,y_Train)"
   ]
  },
  {
   "cell_type": "code",
   "execution_count": 43,
   "id": "94d5f4f8",
   "metadata": {},
   "outputs": [
    {
     "data": {
      "text/plain": [
       "{'max_depth': 9, 'min_samples_leaf': 5}"
      ]
     },
     "execution_count": 43,
     "metadata": {},
     "output_type": "execute_result"
    }
   ],
   "source": [
    "#parametres optimaux\n",
    "dtc_best_model.best_params_"
   ]
  },
  {
   "cell_type": "code",
   "execution_count": 44,
   "id": "20d9fc7a",
   "metadata": {},
   "outputs": [
    {
     "data": {
      "text/plain": [
       "0.8814524415740109"
      ]
     },
     "execution_count": 44,
     "metadata": {},
     "output_type": "execute_result"
    }
   ],
   "source": [
    "#meilleur score\n",
    "dtc_best_model.best_score_"
   ]
  },
  {
   "cell_type": "code",
   "execution_count": 45,
   "id": "a6d76736",
   "metadata": {},
   "outputs": [
    {
     "name": "stdout",
     "output_type": "stream",
     "text": [
      "le taux accuracy dtc_best est de 0.883253046188722\n"
     ]
    }
   ],
   "source": [
    "#Mesure d'evaluation de dtc_best\n",
    "pred_dtc_best = dtc_best_model.best_estimator_.predict(X_Test)\n",
    "dtc_best_acc = accuracy_score(y_Test,pred_dtc_best)\n",
    "print('le taux accuracy dtc_best est de', dtc_best_acc)"
   ]
  },
  {
   "cell_type": "code",
   "execution_count": 46,
   "id": "9512514e",
   "metadata": {},
   "outputs": [
    {
     "data": {
      "text/plain": [
       "[{'meilleur score de qda': 0.8577067950249015},\n",
       " {'meilleur score de knn': 0.8795698996104229},\n",
       " {'meilleur score de lr': 0.8836391189494892},\n",
       " {'meilleur score de gnb': 0.7965467217078932},\n",
       " {'meilleur score de dtc': 0.8814524415740109}]"
      ]
     },
     "execution_count": 46,
     "metadata": {},
     "output_type": "execute_result"
    }
   ],
   "source": [
    "#Affichage du meilleur score des différents modele\n",
    "t_best = [\n",
    "    {\"meilleur score de qda\":qda_best_model.best_score_},\n",
    "    {\"meilleur score de knn\":knn_best_model.best_score_},\n",
    "    {\"meilleur score de lr\":lr_best_model.best_score_},\n",
    "    {\"meilleur score de gnb\":gnb_best_model.best_score_},\n",
    "    {\"meilleur score de dtc\":dtc_best_model.best_score_}\n",
    "]\n",
    "t_best"
   ]
  },
  {
   "cell_type": "code",
   "execution_count": 47,
   "id": "87f95d0e",
   "metadata": {},
   "outputs": [
    {
     "data": {
      "text/plain": [
       "[{'meilleur score de qda': 0.86270898271465},\n",
       " {'meilleur score de knn': 0.8858033437234344},\n",
       " {'meilleur score de lr': 0.8867951260980448},\n",
       " {'meilleur score de gnb': 0.8551997733068858},\n",
       " {'meilleur score de dtc': 0.883253046188722}]"
      ]
     },
     "execution_count": 47,
     "metadata": {},
     "output_type": "execute_result"
    }
   ],
   "source": [
    "#Affichage du meilleur accurancy des différents modele\n",
    "t_best = [\n",
    "    {\"meilleur score de qda\":qda_best_acc},\n",
    "    {\"meilleur score de knn\":knn_best_acc},\n",
    "    {\"meilleur score de lr\":lr_best_acc},\n",
    "    {\"meilleur score de gnb\":gnb_best_acc},\n",
    "    {\"meilleur score de dtc\":dtc_best_acc}\n",
    "]\n",
    "t_best"
   ]
  },
  {
   "cell_type": "markdown",
   "id": "8eac1b0c",
   "metadata": {},
   "source": [
    "<strong>On remarque que les différents scores obtenus avec les paramètres optimaux sont assez proches. Pour ces\n",
    "données le modèle QDA est plus efficace que celui du Naive Bayesian, mais les autres ont des scores plus élevés.</strong>"
   ]
  },
  {
   "cell_type": "code",
   "execution_count": null,
   "id": "055af8f7",
   "metadata": {},
   "outputs": [],
   "source": []
  }
 ],
 "metadata": {
  "kernelspec": {
   "display_name": "Python 3 (ipykernel)",
   "language": "python",
   "name": "python3"
  },
  "language_info": {
   "codemirror_mode": {
    "name": "ipython",
    "version": 3
   },
   "file_extension": ".py",
   "mimetype": "text/x-python",
   "name": "python",
   "nbconvert_exporter": "python",
   "pygments_lexer": "ipython3",
   "version": "3.9.12"
  }
 },
 "nbformat": 4,
 "nbformat_minor": 5
}
